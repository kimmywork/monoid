{
 "cells": [
  {
   "cell_type": "code",
   "execution_count": null,
   "metadata": {
    "collapsed": true,
    "pycharm": {
     "name": "#%%\n"
    }
   },
   "outputs": [],
   "source": [
    "from dask.distributed import Client\n",
    "\n",
    "client = Client(n_workers=4)"
   ]
  },
  {
   "cell_type": "code",
   "execution_count": 1,
   "outputs": [
    {
     "name": "stdout",
     "output_type": "stream",
     "text": [
      "Created random data for array exercise in 20.03s\n"
     ]
    }
   ],
   "source": [
    "%run prep.py -d random"
   ],
   "metadata": {
    "collapsed": false,
    "pycharm": {
     "name": "#%%\n"
    }
   }
  },
  {
   "cell_type": "code",
   "execution_count": 2,
   "outputs": [],
   "source": [
    "import h5py\n",
    "import os\n",
    "\n",
    "f = h5py.File(os.path.join(\"data\", \"random.hdf5\"))\n",
    "dset = f['/x']"
   ],
   "metadata": {
    "collapsed": false,
    "pycharm": {
     "name": "#%%\n"
    }
   }
  },
  {
   "cell_type": "code",
   "execution_count": 3,
   "outputs": [
    {
     "name": "stdout",
     "output_type": "stream",
     "text": [
      "1000033681.25\n"
     ]
    }
   ],
   "source": [
    "sums = []\n",
    "\n",
    "for i in range(0, 1_000_000_000, 1_000_000):\n",
    "    chunk = dset[i: i + 1_000_000]\n",
    "    sums.append(chunk.sum())\n",
    "\n",
    "total = sum(sums)\n",
    "\n",
    "print(total)"
   ],
   "metadata": {
    "collapsed": false,
    "pycharm": {
     "name": "#%%\n"
    }
   }
  },
  {
   "cell_type": "code",
   "execution_count": 4,
   "outputs": [
    {
     "name": "stdout",
     "output_type": "stream",
     "text": [
      "1.00003368125\n"
     ]
    }
   ],
   "source": [
    "sums = []\n",
    "lengths = []\n",
    "for i in range(0, 1_000_000_000, 1_000_000):\n",
    "    chunk = dset[i: i + 1_000_000]  # pull out numpy array\n",
    "    sums.append(chunk.sum())\n",
    "    lengths.append(len(chunk))\n",
    "\n",
    "total = sum(sums)\n",
    "length = sum(lengths)\n",
    "print(total / length)"
   ],
   "metadata": {
    "collapsed": false,
    "pycharm": {
     "name": "#%%\n"
    }
   }
  },
  {
   "cell_type": "code",
   "execution_count": 5,
   "outputs": [
    {
     "data": {
      "text/plain": "dask.array<array, shape=(1000000000,), dtype=float32, chunksize=(1000000,), chunktype=numpy.ndarray>",
      "text/html": "<table>\n    <tr>\n        <td>\n            <table>\n                <thead>\n                    <tr>\n                        <td> </td>\n                        <th> Array </th>\n                        <th> Chunk </th>\n                    </tr>\n                </thead>\n                <tbody>\n                    \n                    <tr>\n                        <th> Bytes </th>\n                        <td> 3.73 GiB </td>\n                        <td> 3.81 MiB </td>\n                    </tr>\n                    \n                    <tr>\n                        <th> Shape </th>\n                        <td> (1000000000,) </td>\n                        <td> (1000000,) </td>\n                    </tr>\n                    <tr>\n                        <th> Count </th>\n                        <td> 1001 Tasks </td>\n                        <td> 1000 Chunks </td>\n                    </tr>\n                    <tr>\n                    <th> Type </th>\n                    <td> float32 </td>\n                    <td> numpy.ndarray </td>\n                    </tr>\n                </tbody>\n            </table>\n        </td>\n        <td>\n        <svg width=\"170\" height=\"75\" style=\"stroke:rgb(0,0,0);stroke-width:1\" >\n\n  <!-- Horizontal lines -->\n  <line x1=\"0\" y1=\"0\" x2=\"120\" y2=\"0\" style=\"stroke-width:2\" />\n  <line x1=\"0\" y1=\"25\" x2=\"120\" y2=\"25\" style=\"stroke-width:2\" />\n\n  <!-- Vertical lines -->\n  <line x1=\"0\" y1=\"0\" x2=\"0\" y2=\"25\" style=\"stroke-width:2\" />\n  <line x1=\"6\" y1=\"0\" x2=\"6\" y2=\"25\" />\n  <line x1=\"12\" y1=\"0\" x2=\"12\" y2=\"25\" />\n  <line x1=\"18\" y1=\"0\" x2=\"18\" y2=\"25\" />\n  <line x1=\"25\" y1=\"0\" x2=\"25\" y2=\"25\" />\n  <line x1=\"31\" y1=\"0\" x2=\"31\" y2=\"25\" />\n  <line x1=\"37\" y1=\"0\" x2=\"37\" y2=\"25\" />\n  <line x1=\"44\" y1=\"0\" x2=\"44\" y2=\"25\" />\n  <line x1=\"50\" y1=\"0\" x2=\"50\" y2=\"25\" />\n  <line x1=\"56\" y1=\"0\" x2=\"56\" y2=\"25\" />\n  <line x1=\"63\" y1=\"0\" x2=\"63\" y2=\"25\" />\n  <line x1=\"69\" y1=\"0\" x2=\"69\" y2=\"25\" />\n  <line x1=\"75\" y1=\"0\" x2=\"75\" y2=\"25\" />\n  <line x1=\"82\" y1=\"0\" x2=\"82\" y2=\"25\" />\n  <line x1=\"88\" y1=\"0\" x2=\"88\" y2=\"25\" />\n  <line x1=\"94\" y1=\"0\" x2=\"94\" y2=\"25\" />\n  <line x1=\"101\" y1=\"0\" x2=\"101\" y2=\"25\" />\n  <line x1=\"107\" y1=\"0\" x2=\"107\" y2=\"25\" />\n  <line x1=\"113\" y1=\"0\" x2=\"113\" y2=\"25\" />\n  <line x1=\"120\" y1=\"0\" x2=\"120\" y2=\"25\" style=\"stroke-width:2\" />\n\n  <!-- Colored Rectangle -->\n  <polygon points=\"0.0,0.0 120.0,0.0 120.0,25.412616514582485 0.0,25.412616514582485\" style=\"fill:#8B4903A0;stroke-width:0\"/>\n\n  <!-- Text -->\n  <text x=\"60.000000\" y=\"45.412617\" font-size=\"1.0rem\" font-weight=\"100\" text-anchor=\"middle\" >1000000000</text>\n  <text x=\"140.000000\" y=\"12.706308\" font-size=\"1.0rem\" font-weight=\"100\" text-anchor=\"middle\" transform=\"rotate(0,140.000000,12.706308)\">1</text>\n</svg>\n        </td>\n    </tr>\n</table>"
     },
     "execution_count": 5,
     "metadata": {},
     "output_type": "execute_result"
    }
   ],
   "source": [
    "import dask.array as da\n",
    "x = da.from_array(dset, chunks=(1_000_000,))\n",
    "\n",
    "x"
   ],
   "metadata": {
    "collapsed": false,
    "pycharm": {
     "name": "#%%\n"
    }
   }
  },
  {
   "cell_type": "code",
   "execution_count": 6,
   "outputs": [
    {
     "data": {
      "text/plain": "dask.array<sum-aggregate, shape=(), dtype=float32, chunksize=(), chunktype=numpy.ndarray>",
      "text/html": "<table>\n    <tr>\n        <td>\n            <table>\n                <thead>\n                    <tr>\n                        <td> </td>\n                        <th> Array </th>\n                        <th> Chunk </th>\n                    </tr>\n                </thead>\n                <tbody>\n                    \n                    <tr>\n                        <th> Bytes </th>\n                        <td> 4 B </td>\n                        <td> 4.0 B </td>\n                    </tr>\n                    \n                    <tr>\n                        <th> Shape </th>\n                        <td> () </td>\n                        <td> () </td>\n                    </tr>\n                    <tr>\n                        <th> Count </th>\n                        <td> 2335 Tasks </td>\n                        <td> 1 Chunks </td>\n                    </tr>\n                    <tr>\n                    <th> Type </th>\n                    <td> float32 </td>\n                    <td> numpy.ndarray </td>\n                    </tr>\n                </tbody>\n            </table>\n        </td>\n        <td>\n        \n        </td>\n    </tr>\n</table>"
     },
     "execution_count": 6,
     "metadata": {},
     "output_type": "execute_result"
    }
   ],
   "source": [
    "result = x.sum()\n",
    "result"
   ],
   "metadata": {
    "collapsed": false,
    "pycharm": {
     "name": "#%%\n"
    }
   }
  },
  {
   "cell_type": "code",
   "execution_count": 7,
   "outputs": [],
   "source": [
    "import numpy as np\n",
    "import dask.array as da\n",
    "\n",
    "x = da.random.normal(10, 0.1, size=(20000, 20000),\n",
    "                              chunks=(1000,1000))\n",
    "\n",
    "y = x.mean(axis=0)[::100]"
   ],
   "metadata": {
    "collapsed": false,
    "pycharm": {
     "name": "#%%\n"
    }
   }
  },
  {
   "cell_type": "code",
   "execution_count": 8,
   "outputs": [
    {
     "data": {
      "text/plain": "3.2"
     },
     "execution_count": 8,
     "metadata": {},
     "output_type": "execute_result"
    }
   ],
   "source": [
    "x.nbytes / 1e9"
   ],
   "metadata": {
    "collapsed": false,
    "pycharm": {
     "name": "#%%\n"
    }
   }
  },
  {
   "cell_type": "code",
   "execution_count": 9,
   "outputs": [
    {
     "name": "stdout",
     "output_type": "stream",
     "text": [
      "CPU times: user 14.3 s, sys: 669 ms, total: 15 s\n",
      "Wall time: 1.12 s\n"
     ]
    },
    {
     "data": {
      "text/plain": "array([ 9.99855192, 10.00021209, 10.00038825,  9.99938426, 10.00001243,\n       10.00061687, 10.00106254,  9.99986422,  9.9995651 , 10.00025407,\n       10.00064856, 10.00015845, 10.00099625,  9.99989194, 10.00023232,\n        9.99997663, 10.00071335,  9.99967993,  9.99970238, 10.00199583,\n       10.00122974,  9.99911086, 10.00040481,  9.9992062 ,  9.99931884,\n       10.00048504,  9.99952948,  9.99988229, 10.00064936,  9.99942054,\n       10.00067177,  9.99840994, 10.0008959 , 10.00038816, 10.00015031,\n        9.99991286,  9.99958737, 10.00020508,  9.99943044,  9.99943845,\n       10.00118832, 10.00004945,  9.99905759,  9.99987892, 10.00052463,\n        9.99955581,  9.99886963,  9.99989186, 10.0003521 ,  9.99987182,\n       10.0000318 , 10.00115034, 10.0005787 ,  9.99929612, 10.00095245,\n        9.99996305, 10.0004734 , 10.0008681 ,  9.99931384,  9.99876607,\n        9.9986995 , 10.00122588,  9.99966521,  9.99907083,  9.9986791 ,\n        9.99971871, 10.0005748 , 10.00032216,  9.99990132,  9.99983158,\n       10.00069575, 10.00164738, 10.00114711, 10.00084452,  9.99903437,\n        9.9992649 , 10.00049497, 10.00066936, 10.00038966, 10.00093962,\n       10.00058347,  9.99990632, 10.00082481, 10.00004197,  9.9999938 ,\n        9.99950957, 10.00063295, 10.00061858, 10.00019346, 10.00030419,\n        9.9999298 , 10.00065624, 10.00050732,  9.99976209,  9.99925777,\n       10.00056331, 10.0005047 ,  9.99860766, 10.00012093, 10.00028275,\n       10.00115692, 10.00074692,  9.99944242,  9.99938603,  9.99892139,\n        9.99945777, 10.00032995, 10.00009728, 10.00050459, 10.00055672,\n       10.00069427, 10.00022495,  9.99928817,  9.99955629, 10.0009477 ,\n        9.99957861, 10.0004322 , 10.00042103,  9.99887392, 10.00164613,\n       10.00015275,  9.99950217,  9.99983296,  9.99993193,  9.99845173,\n        9.9995385 ,  9.99898502,  9.99951094, 10.00068299, 10.00019149,\n        9.99960682, 10.00038566, 10.00053135, 10.00067867,  9.99945029,\n        9.99988871, 10.00000535,  9.99972264, 10.00096605,  9.99954585,\n       10.00032253, 10.00071152, 10.00027   ,  9.99914691,  9.9999121 ,\n       10.00056522, 10.00028094, 10.00025825, 10.00012294, 10.00002371,\n       10.00111643,  9.9993416 , 10.00011989,  9.99904408,  9.99985112,\n       10.00006695, 10.00118   , 10.00108533,  9.99939789, 10.00086901,\n       10.00119842,  9.99958401,  9.99937353, 10.00015154,  9.99984104,\n       10.00041255, 10.00004131, 10.00089456, 10.00023907,  9.99977502,\n       10.00073471,  9.99977814,  9.9983881 ,  9.99911811,  9.99854671,\n       10.00038111,  9.99960135,  9.99915133, 10.00084221,  9.99918101,\n        9.99976987,  9.99962187,  9.99971925,  9.99990117, 10.00058638,\n       10.00089909,  9.9993954 ,  9.99872071,  9.9995081 ,  9.99998264,\n        9.99989405, 10.00034864, 10.00007324, 10.00072792,  9.99980009,\n        9.99977819, 10.00039313,  9.99944718,  9.99966417, 10.0004498 ])"
     },
     "execution_count": 9,
     "metadata": {},
     "output_type": "execute_result"
    }
   ],
   "source": [
    "%%time\n",
    "y.compute()"
   ],
   "metadata": {
    "collapsed": false,
    "pycharm": {
     "name": "#%%\n"
    }
   }
  }
 ],
 "metadata": {
  "kernelspec": {
   "display_name": "Python 3",
   "language": "python",
   "name": "python3"
  },
  "language_info": {
   "codemirror_mode": {
    "name": "ipython",
    "version": 2
   },
   "file_extension": ".py",
   "mimetype": "text/x-python",
   "name": "python",
   "nbconvert_exporter": "python",
   "pygments_lexer": "ipython2",
   "version": "2.7.6"
  }
 },
 "nbformat": 4,
 "nbformat_minor": 0
}