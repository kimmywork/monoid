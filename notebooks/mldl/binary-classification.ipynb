{
 "cells": [
  {
   "cell_type": "code",
   "execution_count": 1,
   "metadata": {
    "collapsed": true
   },
   "outputs": [],
   "source": [
    "import tensorflow as tf\n",
    "\n",
    "from tensorflow import keras\n",
    "\n",
    "import pandas as pd\n",
    "from sklearn.preprocessing import StandardScaler, LabelEncoder\n",
    "\n",
    "from sklearn.utils import shuffle\n",
    "\n",
    "from sklearn.model_selection import train_test_split\n",
    "\n",
    "import matplotlib.pyplot as plt"
   ]
  },
  {
   "cell_type": "code",
   "execution_count": 9,
   "outputs": [],
   "source": [
    "#  https://raw.githubusercontent.com/Apress/artificial-neural-networks-with-tensorflow-2/main/ch02/Churn_Modelling.csv\n",
    "data=pd.read_csv(\"Chun_Modelling.csv\")"
   ],
   "metadata": {
    "collapsed": false,
    "pycharm": {
     "name": "#%%\n"
    }
   }
  },
  {
   "cell_type": "code",
   "execution_count": 10,
   "outputs": [
    {
     "data": {
      "text/plain": "RowNumber          0\nCustomerId         0\nSurname            0\nCreditScore        0\nGeography          0\nGender             0\nAge                0\nTenure             0\nBalance            0\nNumOfProducts      0\nHasCrCard          0\nIsActiveMember     0\nEstimatedSalary    0\nExited             0\ndtype: int64"
     },
     "execution_count": 10,
     "metadata": {},
     "output_type": "execute_result"
    }
   ],
   "source": [
    "data.isnull().sum()"
   ],
   "metadata": {
    "collapsed": false,
    "pycharm": {
     "name": "#%%\n"
    }
   }
  },
  {
   "cell_type": "code",
   "execution_count": 11,
   "outputs": [],
   "source": [
    "data = shuffle(data)"
   ],
   "metadata": {
    "collapsed": false,
    "pycharm": {
     "name": "#%%\n"
    }
   }
  },
  {
   "cell_type": "code",
   "execution_count": 12,
   "outputs": [],
   "source": [
    "x = data.drop(labels=['CustomerId', 'Surname', 'RowNumber', 'Exited'], axis=1)\n",
    "y = data['Exited']"
   ],
   "metadata": {
    "collapsed": false,
    "pycharm": {
     "name": "#%%\n"
    }
   }
  },
  {
   "cell_type": "code",
   "execution_count": 13,
   "outputs": [
    {
     "data": {
      "text/plain": "CreditScore          int64\nGeography           object\nGender              object\nAge                  int64\nTenure               int64\nBalance            float64\nNumOfProducts        int64\nHasCrCard            int64\nIsActiveMember       int64\nEstimatedSalary    float64\ndtype: object"
     },
     "execution_count": 13,
     "metadata": {},
     "output_type": "execute_result"
    }
   ],
   "source": [
    "x.dtypes"
   ],
   "metadata": {
    "collapsed": false,
    "pycharm": {
     "name": "#%%\n"
    }
   }
  },
  {
   "cell_type": "code",
   "execution_count": 14,
   "outputs": [
    {
     "data": {
      "text/plain": "      CreditScore  Gender  Age  Tenure    Balance  NumOfProducts  HasCrCard  \\\n6008          767       0   24       5       0.00              2          1   \n8870          668       1   42       8  187534.79              1          1   \n9672          613       1   28       7   76656.40              2          1   \n7961          809       0   38       2  154763.21              2          1   \n800           605       1   52       7       0.00              2          1   \n...           ...     ...  ...     ...        ...            ...        ...   \n492           639       0   38       4   81550.94              2          0   \n8142          615       1   41       4  130385.82              1          0   \n1029          609       1   53      10       0.00              1          1   \n3212          611       1   35      10       0.00              1          1   \n4131          533       1   47       9   83347.25              1          1   \n\n      IsActiveMember  EstimatedSalary  Geography_1  Geography_2  \n6008               1         67445.85            0            1  \n8870               1         32900.41            0            0  \n9672               1        185483.24            1            0  \n7961               1        174800.31            0            0  \n800                1        173952.50            0            0  \n...              ...              ...          ...          ...  \n492                1        118974.77            0            0  \n8142               1        130661.95            0            0  \n1029               1        154642.91            0            1  \n3212               1         23598.23            0            0  \n4131               1        137696.25            0            0  \n\n[10000 rows x 11 columns]",
      "text/html": "<div>\n<style scoped>\n    .dataframe tbody tr th:only-of-type {\n        vertical-align: middle;\n    }\n\n    .dataframe tbody tr th {\n        vertical-align: top;\n    }\n\n    .dataframe thead th {\n        text-align: right;\n    }\n</style>\n<table border=\"1\" class=\"dataframe\">\n  <thead>\n    <tr style=\"text-align: right;\">\n      <th></th>\n      <th>CreditScore</th>\n      <th>Gender</th>\n      <th>Age</th>\n      <th>Tenure</th>\n      <th>Balance</th>\n      <th>NumOfProducts</th>\n      <th>HasCrCard</th>\n      <th>IsActiveMember</th>\n      <th>EstimatedSalary</th>\n      <th>Geography_1</th>\n      <th>Geography_2</th>\n    </tr>\n  </thead>\n  <tbody>\n    <tr>\n      <th>6008</th>\n      <td>767</td>\n      <td>0</td>\n      <td>24</td>\n      <td>5</td>\n      <td>0.00</td>\n      <td>2</td>\n      <td>1</td>\n      <td>1</td>\n      <td>67445.85</td>\n      <td>0</td>\n      <td>1</td>\n    </tr>\n    <tr>\n      <th>8870</th>\n      <td>668</td>\n      <td>1</td>\n      <td>42</td>\n      <td>8</td>\n      <td>187534.79</td>\n      <td>1</td>\n      <td>1</td>\n      <td>1</td>\n      <td>32900.41</td>\n      <td>0</td>\n      <td>0</td>\n    </tr>\n    <tr>\n      <th>9672</th>\n      <td>613</td>\n      <td>1</td>\n      <td>28</td>\n      <td>7</td>\n      <td>76656.40</td>\n      <td>2</td>\n      <td>1</td>\n      <td>1</td>\n      <td>185483.24</td>\n      <td>1</td>\n      <td>0</td>\n    </tr>\n    <tr>\n      <th>7961</th>\n      <td>809</td>\n      <td>0</td>\n      <td>38</td>\n      <td>2</td>\n      <td>154763.21</td>\n      <td>2</td>\n      <td>1</td>\n      <td>1</td>\n      <td>174800.31</td>\n      <td>0</td>\n      <td>0</td>\n    </tr>\n    <tr>\n      <th>800</th>\n      <td>605</td>\n      <td>1</td>\n      <td>52</td>\n      <td>7</td>\n      <td>0.00</td>\n      <td>2</td>\n      <td>1</td>\n      <td>1</td>\n      <td>173952.50</td>\n      <td>0</td>\n      <td>0</td>\n    </tr>\n    <tr>\n      <th>...</th>\n      <td>...</td>\n      <td>...</td>\n      <td>...</td>\n      <td>...</td>\n      <td>...</td>\n      <td>...</td>\n      <td>...</td>\n      <td>...</td>\n      <td>...</td>\n      <td>...</td>\n      <td>...</td>\n    </tr>\n    <tr>\n      <th>492</th>\n      <td>639</td>\n      <td>0</td>\n      <td>38</td>\n      <td>4</td>\n      <td>81550.94</td>\n      <td>2</td>\n      <td>0</td>\n      <td>1</td>\n      <td>118974.77</td>\n      <td>0</td>\n      <td>0</td>\n    </tr>\n    <tr>\n      <th>8142</th>\n      <td>615</td>\n      <td>1</td>\n      <td>41</td>\n      <td>4</td>\n      <td>130385.82</td>\n      <td>1</td>\n      <td>0</td>\n      <td>1</td>\n      <td>130661.95</td>\n      <td>0</td>\n      <td>0</td>\n    </tr>\n    <tr>\n      <th>1029</th>\n      <td>609</td>\n      <td>1</td>\n      <td>53</td>\n      <td>10</td>\n      <td>0.00</td>\n      <td>1</td>\n      <td>1</td>\n      <td>1</td>\n      <td>154642.91</td>\n      <td>0</td>\n      <td>1</td>\n    </tr>\n    <tr>\n      <th>3212</th>\n      <td>611</td>\n      <td>1</td>\n      <td>35</td>\n      <td>10</td>\n      <td>0.00</td>\n      <td>1</td>\n      <td>1</td>\n      <td>1</td>\n      <td>23598.23</td>\n      <td>0</td>\n      <td>0</td>\n    </tr>\n    <tr>\n      <th>4131</th>\n      <td>533</td>\n      <td>1</td>\n      <td>47</td>\n      <td>9</td>\n      <td>83347.25</td>\n      <td>1</td>\n      <td>1</td>\n      <td>1</td>\n      <td>137696.25</td>\n      <td>0</td>\n      <td>0</td>\n    </tr>\n  </tbody>\n</table>\n<p>10000 rows × 11 columns</p>\n</div>"
     },
     "execution_count": 14,
     "metadata": {},
     "output_type": "execute_result"
    }
   ],
   "source": [
    "label = LabelEncoder()\n",
    "\n",
    "x['Geography'] = label.fit_transform(x['Geography'])\n",
    "x['Gender'] = label.fit_transform(x['Gender'])\n",
    "\n",
    "x = pd.get_dummies(x, drop_first=True, columns=['Geography'])\n",
    "\n",
    "x"
   ],
   "metadata": {
    "collapsed": false,
    "pycharm": {
     "name": "#%%\n"
    }
   }
  },
  {
   "cell_type": "code",
   "execution_count": 15,
   "outputs": [],
   "source": [
    "scaler = StandardScaler()\n",
    "\n",
    "x = scaler.fit_transform(x)\n",
    "\n",
    "X_train, X_test, y_train, y_test = train_test_split(x, y, test_size=0.3)"
   ],
   "metadata": {
    "collapsed": false,
    "pycharm": {
     "name": "#%%\n"
    }
   }
  },
  {
   "cell_type": "code",
   "execution_count": 16,
   "outputs": [
    {
     "name": "stdout",
     "output_type": "stream",
     "text": [
      "Model: \"sequential\"\n",
      "_________________________________________________________________\n",
      " Layer (type)                Output Shape              Param #   \n",
      "=================================================================\n",
      " dense_1 (Dense)             (None, 128)               1536      \n",
      "                                                                 \n",
      " dense_2 (Dense)             (None, 64)                8256      \n",
      "                                                                 \n",
      " dense_3 (Dense)             (None, 32)                2080      \n",
      "                                                                 \n",
      " dense_4 (Dense)             (None, 1)                 33        \n",
      "                                                                 \n",
      "=================================================================\n",
      "Total params: 11,905\n",
      "Trainable params: 11,905\n",
      "Non-trainable params: 0\n",
      "_________________________________________________________________\n"
     ]
    },
    {
     "name": "stderr",
     "output_type": "stream",
     "text": [
      "2022-02-25 17:00:49.132754: I tensorflow/core/platform/cpu_feature_guard.cc:151] This TensorFlow binary is optimized with oneAPI Deep Neural Network Library (oneDNN) to use the following CPU instructions in performance-critical operations:  AVX2 FMA\n",
      "To enable them in other operations, rebuild TensorFlow with the appropriate compiler flags.\n"
     ]
    }
   ],
   "source": [
    "model = keras.models.Sequential()\n",
    "\n",
    "model.add(keras.layers.Dense(128, activation='relu', input_dim=X_train.shape[1]))\n",
    "\n",
    "model.add(keras.layers.Dense(64, activation='relu'))\n",
    "\n",
    "model.add(keras.layers.Dense(32, activation='relu'))\n",
    "\n",
    "model.add(keras.layers.Dense(1, activation='sigmoid'))\n",
    "\n",
    "model.summary()"
   ],
   "metadata": {
    "collapsed": false,
    "pycharm": {
     "name": "#%%\n"
    }
   }
  },
  {
   "cell_type": "code",
   "execution_count": 17,
   "outputs": [],
   "source": [
    "model.compile(loss = 'binary_crossentropy', optimizer='adam', metrics=['accuracy'])"
   ],
   "metadata": {
    "collapsed": false,
    "pycharm": {
     "name": "#%%\n"
    }
   }
  },
  {
   "cell_type": "code",
   "execution_count": 21,
   "outputs": [],
   "source": [
    "import datetime, os\n",
    "\n",
    "logdir = os.path.join(\"log\", datetime.datetime.now().strftime('%Y%m%d-%H%M%S'))"
   ],
   "metadata": {
    "collapsed": false,
    "pycharm": {
     "name": "#%%\n"
    }
   }
  },
  {
   "cell_type": "code",
   "execution_count": 22,
   "outputs": [
    {
     "name": "stdout",
     "output_type": "stream",
     "text": [
      "The tensorboard extension is already loaded. To reload it, use:\n",
      "  %reload_ext tensorboard\n"
     ]
    }
   ],
   "source": [
    "%load_ext tensorboard"
   ],
   "metadata": {
    "collapsed": false,
    "pycharm": {
     "name": "#%%\n"
    }
   }
  },
  {
   "cell_type": "code",
   "execution_count": 25,
   "outputs": [],
   "source": [
    "tensorboard_callback = tf.keras.callbacks.TensorBoard(logdir, histogram_freq=1)"
   ],
   "metadata": {
    "collapsed": false,
    "pycharm": {
     "name": "#%%\n"
    }
   }
  },
  {
   "cell_type": "code",
   "execution_count": 26,
   "outputs": [
    {
     "name": "stdout",
     "output_type": "stream",
     "text": [
      "Epoch 1/50\n",
      "219/219 [==============================] - 1s 2ms/step - loss: 0.4236 - accuracy: 0.8220 - val_loss: 0.3608 - val_accuracy: 0.8570\n",
      "Epoch 2/50\n",
      "219/219 [==============================] - 0s 2ms/step - loss: 0.3485 - accuracy: 0.8557 - val_loss: 0.3497 - val_accuracy: 0.8563\n",
      "Epoch 3/50\n",
      "219/219 [==============================] - 0s 2ms/step - loss: 0.3371 - accuracy: 0.8606 - val_loss: 0.3498 - val_accuracy: 0.8620\n",
      "Epoch 4/50\n",
      "219/219 [==============================] - 0s 1ms/step - loss: 0.3319 - accuracy: 0.8620 - val_loss: 0.3446 - val_accuracy: 0.8607\n",
      "Epoch 5/50\n",
      "219/219 [==============================] - 0s 1ms/step - loss: 0.3275 - accuracy: 0.8644 - val_loss: 0.3422 - val_accuracy: 0.8637\n",
      "Epoch 6/50\n",
      "219/219 [==============================] - 0s 2ms/step - loss: 0.3229 - accuracy: 0.8657 - val_loss: 0.3404 - val_accuracy: 0.8643\n",
      "Epoch 7/50\n",
      "219/219 [==============================] - 0s 1ms/step - loss: 0.3213 - accuracy: 0.8670 - val_loss: 0.3418 - val_accuracy: 0.8630\n",
      "Epoch 8/50\n",
      "219/219 [==============================] - 0s 1ms/step - loss: 0.3169 - accuracy: 0.8664 - val_loss: 0.3410 - val_accuracy: 0.8620\n",
      "Epoch 9/50\n",
      "219/219 [==============================] - 0s 1ms/step - loss: 0.3140 - accuracy: 0.8697 - val_loss: 0.3580 - val_accuracy: 0.8590\n",
      "Epoch 10/50\n",
      "219/219 [==============================] - 0s 1ms/step - loss: 0.3113 - accuracy: 0.8700 - val_loss: 0.3438 - val_accuracy: 0.8623\n",
      "Epoch 11/50\n",
      "219/219 [==============================] - 0s 1ms/step - loss: 0.3057 - accuracy: 0.8727 - val_loss: 0.3588 - val_accuracy: 0.8623\n",
      "Epoch 12/50\n",
      "219/219 [==============================] - 0s 1ms/step - loss: 0.3079 - accuracy: 0.8707 - val_loss: 0.3581 - val_accuracy: 0.8620\n",
      "Epoch 13/50\n",
      "219/219 [==============================] - 0s 2ms/step - loss: 0.3019 - accuracy: 0.8767 - val_loss: 0.3515 - val_accuracy: 0.8567\n",
      "Epoch 14/50\n",
      "219/219 [==============================] - 0s 2ms/step - loss: 0.2966 - accuracy: 0.8777 - val_loss: 0.3534 - val_accuracy: 0.8590\n",
      "Epoch 15/50\n",
      "219/219 [==============================] - 0s 1ms/step - loss: 0.2950 - accuracy: 0.8783 - val_loss: 0.3507 - val_accuracy: 0.8590\n",
      "Epoch 16/50\n",
      "219/219 [==============================] - 0s 1ms/step - loss: 0.2927 - accuracy: 0.8776 - val_loss: 0.3531 - val_accuracy: 0.8573\n",
      "Epoch 17/50\n",
      "219/219 [==============================] - 0s 2ms/step - loss: 0.2901 - accuracy: 0.8787 - val_loss: 0.3546 - val_accuracy: 0.8613\n",
      "Epoch 18/50\n",
      "219/219 [==============================] - 0s 1ms/step - loss: 0.2829 - accuracy: 0.8870 - val_loss: 0.3581 - val_accuracy: 0.8517\n",
      "Epoch 19/50\n",
      "219/219 [==============================] - 0s 1ms/step - loss: 0.2799 - accuracy: 0.8819 - val_loss: 0.3645 - val_accuracy: 0.8520\n",
      "Epoch 20/50\n",
      "219/219 [==============================] - 0s 1ms/step - loss: 0.2778 - accuracy: 0.8869 - val_loss: 0.3663 - val_accuracy: 0.8547\n",
      "Epoch 21/50\n",
      "219/219 [==============================] - 0s 1ms/step - loss: 0.2757 - accuracy: 0.8851 - val_loss: 0.3669 - val_accuracy: 0.8567\n",
      "Epoch 22/50\n",
      "219/219 [==============================] - 0s 1ms/step - loss: 0.2690 - accuracy: 0.8906 - val_loss: 0.3765 - val_accuracy: 0.8493\n",
      "Epoch 23/50\n",
      "219/219 [==============================] - 0s 2ms/step - loss: 0.2683 - accuracy: 0.8897 - val_loss: 0.3709 - val_accuracy: 0.8527\n",
      "Epoch 24/50\n",
      "219/219 [==============================] - 0s 1ms/step - loss: 0.2630 - accuracy: 0.8919 - val_loss: 0.3803 - val_accuracy: 0.8537\n",
      "Epoch 25/50\n",
      "219/219 [==============================] - 0s 1ms/step - loss: 0.2611 - accuracy: 0.8903 - val_loss: 0.3847 - val_accuracy: 0.8470\n",
      "Epoch 26/50\n",
      "219/219 [==============================] - 0s 1ms/step - loss: 0.2582 - accuracy: 0.8919 - val_loss: 0.3914 - val_accuracy: 0.8590\n",
      "Epoch 27/50\n",
      "219/219 [==============================] - 0s 1ms/step - loss: 0.2546 - accuracy: 0.8913 - val_loss: 0.3993 - val_accuracy: 0.8523\n",
      "Epoch 28/50\n",
      "219/219 [==============================] - 0s 1ms/step - loss: 0.2511 - accuracy: 0.8929 - val_loss: 0.3945 - val_accuracy: 0.8450\n",
      "Epoch 29/50\n",
      "219/219 [==============================] - 0s 1ms/step - loss: 0.2463 - accuracy: 0.8994 - val_loss: 0.3949 - val_accuracy: 0.8460\n",
      "Epoch 30/50\n",
      "219/219 [==============================] - 0s 1ms/step - loss: 0.2418 - accuracy: 0.8987 - val_loss: 0.4081 - val_accuracy: 0.8447\n",
      "Epoch 31/50\n",
      "219/219 [==============================] - 0s 1ms/step - loss: 0.2408 - accuracy: 0.9033 - val_loss: 0.4054 - val_accuracy: 0.8470\n",
      "Epoch 32/50\n",
      "219/219 [==============================] - 0s 1ms/step - loss: 0.2362 - accuracy: 0.9023 - val_loss: 0.4113 - val_accuracy: 0.8447\n",
      "Epoch 33/50\n",
      "219/219 [==============================] - 0s 1ms/step - loss: 0.2310 - accuracy: 0.9033 - val_loss: 0.4141 - val_accuracy: 0.8410\n",
      "Epoch 34/50\n",
      "219/219 [==============================] - 0s 1ms/step - loss: 0.2294 - accuracy: 0.9079 - val_loss: 0.4226 - val_accuracy: 0.8380\n",
      "Epoch 35/50\n",
      "219/219 [==============================] - 0s 1ms/step - loss: 0.2248 - accuracy: 0.9047 - val_loss: 0.4270 - val_accuracy: 0.8360\n",
      "Epoch 36/50\n",
      "219/219 [==============================] - 0s 1ms/step - loss: 0.2214 - accuracy: 0.9084 - val_loss: 0.4270 - val_accuracy: 0.8313\n",
      "Epoch 37/50\n",
      "219/219 [==============================] - 0s 1ms/step - loss: 0.2156 - accuracy: 0.9101 - val_loss: 0.4445 - val_accuracy: 0.8470\n",
      "Epoch 38/50\n",
      "219/219 [==============================] - 0s 1ms/step - loss: 0.2136 - accuracy: 0.9110 - val_loss: 0.4438 - val_accuracy: 0.8433\n",
      "Epoch 39/50\n",
      "219/219 [==============================] - 0s 1ms/step - loss: 0.2105 - accuracy: 0.9101 - val_loss: 0.4480 - val_accuracy: 0.8440\n",
      "Epoch 40/50\n",
      "219/219 [==============================] - 0s 1ms/step - loss: 0.2066 - accuracy: 0.9136 - val_loss: 0.4951 - val_accuracy: 0.8437\n",
      "Epoch 41/50\n",
      "219/219 [==============================] - 0s 1ms/step - loss: 0.2051 - accuracy: 0.9163 - val_loss: 0.4567 - val_accuracy: 0.8453\n",
      "Epoch 42/50\n",
      "219/219 [==============================] - 0s 1ms/step - loss: 0.2043 - accuracy: 0.9161 - val_loss: 0.4683 - val_accuracy: 0.8460\n",
      "Epoch 43/50\n",
      "219/219 [==============================] - 0s 1ms/step - loss: 0.1966 - accuracy: 0.9200 - val_loss: 0.4841 - val_accuracy: 0.8343\n",
      "Epoch 44/50\n",
      "219/219 [==============================] - 0s 1ms/step - loss: 0.1962 - accuracy: 0.9157 - val_loss: 0.4745 - val_accuracy: 0.8387\n",
      "Epoch 45/50\n",
      "219/219 [==============================] - 0s 1ms/step - loss: 0.1864 - accuracy: 0.9229 - val_loss: 0.5004 - val_accuracy: 0.8333\n",
      "Epoch 46/50\n",
      "219/219 [==============================] - 0s 1ms/step - loss: 0.1874 - accuracy: 0.9239 - val_loss: 0.5086 - val_accuracy: 0.8410\n",
      "Epoch 47/50\n",
      "219/219 [==============================] - 0s 1ms/step - loss: 0.1825 - accuracy: 0.9247 - val_loss: 0.5105 - val_accuracy: 0.8367\n",
      "Epoch 48/50\n",
      "219/219 [==============================] - 0s 1ms/step - loss: 0.1800 - accuracy: 0.9239 - val_loss: 0.5182 - val_accuracy: 0.8300\n",
      "Epoch 49/50\n",
      "219/219 [==============================] - 0s 1ms/step - loss: 0.1755 - accuracy: 0.9231 - val_loss: 0.5213 - val_accuracy: 0.8400\n",
      "Epoch 50/50\n",
      "219/219 [==============================] - 1s 3ms/step - loss: 0.1758 - accuracy: 0.9256 - val_loss: 0.5307 - val_accuracy: 0.8183\n"
     ]
    }
   ],
   "source": [
    "r = model.fit(X_train, y_train, batch_size=32, epochs=50, validation_data=(X_test, y_test), callbacks=[tensorboard_callback])"
   ],
   "metadata": {
    "collapsed": false,
    "pycharm": {
     "name": "#%%\n"
    }
   }
  },
  {
   "cell_type": "code",
   "execution_count": 28,
   "outputs": [
    {
     "data": {
      "text/plain": "Launching TensorBoard..."
     },
     "metadata": {},
     "output_type": "display_data"
    },
    {
     "data": {
      "text/plain": "<IPython.core.display.HTML object>",
      "text/html": "\n      <iframe id=\"tensorboard-frame-a81952d6bc3c574c\" width=\"100%\" height=\"800\" frameborder=\"0\">\n      </iframe>\n      <script>\n        (function() {\n          const frame = document.getElementById(\"tensorboard-frame-a81952d6bc3c574c\");\n          const url = new URL(\"/\", window.location);\n          const port = 6006;\n          if (port) {\n            url.port = port;\n          }\n          frame.src = url;\n        })();\n      </script>\n    "
     },
     "metadata": {},
     "output_type": "display_data"
    }
   ],
   "source": [
    "%tensorboard --logdir log"
   ],
   "metadata": {
    "collapsed": false,
    "pycharm": {
     "name": "#%%\n"
    }
   }
  },
  {
   "cell_type": "code",
   "execution_count": 29,
   "outputs": [
    {
     "name": "stdout",
     "output_type": "stream",
     "text": [
      "94/94 [==============================] - 0s 735us/step - loss: 0.5307 - accuracy: 0.8183\n"
     ]
    }
   ],
   "source": [
    "test_scores = model.evaluate(X_test, y_test)"
   ],
   "metadata": {
    "collapsed": false,
    "pycharm": {
     "name": "#%%\n"
    }
   }
  },
  {
   "cell_type": "code",
   "execution_count": 30,
   "outputs": [
    {
     "data": {
      "text/plain": "<Figure size 432x288 with 1 Axes>",
      "image/png": "[encoded data removed]"
     },
     "metadata": {
      "needs_background": "light"
     },
     "output_type": "display_data"
    }
   ],
   "source": [
    "plt.plot(r.history['val_accuracy'], label='val_acc')\n",
    "plt.plot(r.history['val_loss'], label='val_loss')\n",
    "plt.legend()\n",
    "plt.show()"
   ],
   "metadata": {
    "collapsed": false,
    "pycharm": {
     "name": "#%%\n"
    }
   }
  },
  {
   "cell_type": "code",
   "execution_count": 38,
   "outputs": [],
   "source": [
    "y_pred = model.predict(X_test)\n",
    "\n",
    "import numpy as np\n",
    "\n",
    "y_pred = np.where(y_pred > 0.5, 1,0)"
   ],
   "metadata": {
    "collapsed": false,
    "pycharm": {
     "name": "#%%\n"
    }
   }
  },
  {
   "cell_type": "code",
   "execution_count": 39,
   "outputs": [],
   "source": [
    "from sklearn.metrics import confusion_matrix\n",
    "\n",
    "cf = confusion_matrix(y_test, y_pred)"
   ],
   "metadata": {
    "collapsed": false,
    "pycharm": {
     "name": "#%%\n"
    }
   }
  },
  {
   "cell_type": "code",
   "execution_count": 40,
   "outputs": [
    {
     "data": {
      "text/plain": "array([[2099,  283],\n       [ 262,  356]])"
     },
     "execution_count": 40,
     "metadata": {},
     "output_type": "execute_result"
    }
   ],
   "source": [
    "cf"
   ],
   "metadata": {
    "collapsed": false,
    "pycharm": {
     "name": "#%%\n"
    }
   }
  },
  {
   "cell_type": "code",
   "execution_count": 44,
   "outputs": [
    {
     "data": {
      "text/plain": "(<Figure size 432x288 with 1 Axes>,\n <AxesSubplot:xlabel='predicted label', ylabel='true label'>)"
     },
     "execution_count": 44,
     "metadata": {},
     "output_type": "execute_result"
    },
    {
     "data": {
      "text/plain": "<Figure size 432x288 with 1 Axes>",
      "image/png": "[encoded data removed]"
     },
     "metadata": {
      "needs_background": "light"
     },
     "output_type": "display_data"
    }
   ],
   "source": [
    "from mlxtend.plotting import plot_confusion_matrix\n",
    "\n",
    "plot_confusion_matrix(conf_mat=cf, cmap=plt.cm.get_cmap(\"Blues\"))"
   ],
   "metadata": {
    "collapsed": false,
    "pycharm": {
     "name": "#%%\n"
    }
   }
  },
  {
   "cell_type": "code",
   "execution_count": 45,
   "outputs": [
    {
     "data": {
      "text/plain": "0.8183333333333334"
     },
     "execution_count": 45,
     "metadata": {},
     "output_type": "execute_result"
    }
   ],
   "source": [
    "from sklearn.metrics import accuracy_score\n",
    "\n",
    "accuracy_score(y_test, y_pred)"
   ],
   "metadata": {
    "collapsed": false,
    "pycharm": {
     "name": "#%%\n"
    }
   }
  },
  {
   "cell_type": "code",
   "execution_count": 46,
   "outputs": [
    {
     "data": {
      "text/plain": "array([[1.]], dtype=float32)"
     },
     "execution_count": 46,
     "metadata": {},
     "output_type": "execute_result"
    }
   ],
   "source": [
    "customer = model.predict([[\n",
    "    615, 1, 22, 5, 20000, 5, 1, 1, 60000, 0, 0\n",
    "]])\n",
    "\n",
    "customer"
   ],
   "metadata": {
    "collapsed": false,
    "pycharm": {
     "name": "#%%\n"
    }
   }
  },
  {
   "cell_type": "code",
   "execution_count": 47,
   "outputs": [
    {
     "name": "stdout",
     "output_type": "stream",
     "text": [
      "Customer is likely to leave\n"
     ]
    }
   ],
   "source": [
    "if customer[0] == 1:\n",
    "    print (\"Customer is likely to leave\")\n",
    "else:\n",
    "    print (\"Customer will stay\")"
   ],
   "metadata": {
    "collapsed": false,
    "pycharm": {
     "name": "#%%\n"
    }
   }
  },
  {
   "cell_type": "code",
   "execution_count": null,
   "outputs": [],
   "source": [],
   "metadata": {
    "collapsed": false,
    "pycharm": {
     "name": "#%%\n"
    }
   }
  }
 ],
 "metadata": {
  "kernelspec": {
   "display_name": "Python 3",
   "language": "python",
   "name": "python3"
  },
  "language_info": {
   "codemirror_mode": {
    "name": "ipython",
    "version": 2
   },
   "file_extension": ".py",
   "mimetype": "text/x-python",
   "name": "python",
   "nbconvert_exporter": "python",
   "pygments_lexer": "ipython2",
   "version": "2.7.6"
  }
 },
 "nbformat": 4,
 "nbformat_minor": 0
}