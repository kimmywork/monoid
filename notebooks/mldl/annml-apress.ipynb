{
 "cells": [
  {
   "cell_type": "code",
   "execution_count": 1,
   "metadata": {
    "collapsed": true
   },
   "outputs": [
    {
     "data": {
      "text/plain": "array([[-0.72],\n       [-1.38],\n       [ 3.42],\n       [-0.8 ],\n       [-1.89]])"
     },
     "execution_count": 1,
     "metadata": {},
     "output_type": "execute_result"
    }
   ],
   "source": [
    "import tensorflow as tf\n",
    "\n",
    "from tensorflow import keras\n",
    "\n",
    "import numpy as np\n",
    "\n",
    "import matplotlib.pyplot as plt\n",
    "\n",
    "number_of_datapoints = 100\n",
    "\n",
    "x = np.random.uniform(low=-5, high=5, size=(number_of_datapoints, 1))\n",
    "\n",
    "x[:5, :].round(2)"
   ]
  },
  {
   "cell_type": "code",
   "execution_count": 2,
   "outputs": [],
   "source": [
    "y = np.random.uniform(-5, 5, size=(number_of_datapoints, 1))\n",
    "\n",
    "noise = np.random.uniform(low=-1, high=1, size=(number_of_datapoints, 1))\n",
    "\n",
    "input = np.column_stack((x, y))"
   ],
   "metadata": {
    "collapsed": false,
    "pycharm": {
     "name": "#%%\n"
    }
   }
  },
  {
   "cell_type": "code",
   "execution_count": 3,
   "outputs": [
    {
     "name": "stderr",
     "output_type": "stream",
     "text": [
      "2022-02-25 16:25:55.500220: I tensorflow/core/platform/cpu_feature_guard.cc:151] This TensorFlow binary is optimized with oneAPI Deep Neural Network Library (oneDNN) to use the following CPU instructions in performance-critical operations:  AVX2 FMA\n",
      "To enable them in other operations, rebuild TensorFlow with the appropriate compiler flags.\n"
     ]
    }
   ],
   "source": [
    "model = keras.Sequential([\n",
    "    keras.layers.Dense(units=1)\n",
    "])"
   ],
   "metadata": {
    "collapsed": false,
    "pycharm": {
     "name": "#%%\n"
    }
   }
  },
  {
   "cell_type": "code",
   "execution_count": 4,
   "outputs": [],
   "source": [
    "model.compile(optimizer='sgd', loss='mean_squared_error', metrics=['mse'])"
   ],
   "metadata": {
    "collapsed": false,
    "pycharm": {
     "name": "#%%\n"
    }
   }
  },
  {
   "cell_type": "code",
   "execution_count": 5,
   "outputs": [
    {
     "name": "stdout",
     "output_type": "stream",
     "text": [
      "Epoch 1/15\n",
      "3/3 [==============================] - 0s 62ms/step - loss: 402.2726 - mse: 402.2726 - val_loss: 259.4359 - val_mse: 259.4359\n",
      "Epoch 2/15\n",
      "3/3 [==============================] - 0s 9ms/step - loss: 193.3337 - mse: 193.3337 - val_loss: 118.0887 - val_mse: 118.0887\n",
      "Epoch 3/15\n",
      "3/3 [==============================] - 0s 10ms/step - loss: 93.2775 - mse: 93.2775 - val_loss: 56.7342 - val_mse: 56.7342\n",
      "Epoch 4/15\n",
      "3/3 [==============================] - 0s 10ms/step - loss: 49.6946 - mse: 49.6946 - val_loss: 30.5385 - val_mse: 30.5385\n",
      "Epoch 5/15\n",
      "3/3 [==============================] - 0s 9ms/step - loss: 29.4362 - mse: 29.4362 - val_loss: 19.0938 - val_mse: 19.0938\n",
      "Epoch 6/15\n",
      "3/3 [==============================] - 0s 9ms/step - loss: 19.7363 - mse: 19.7363 - val_loss: 13.5205 - val_mse: 13.5205\n",
      "Epoch 7/15\n",
      "3/3 [==============================] - 0s 10ms/step - loss: 14.6350 - mse: 14.6350 - val_loss: 10.5587 - val_mse: 10.5587\n",
      "Epoch 8/15\n",
      "3/3 [==============================] - 0s 9ms/step - loss: 11.5916 - mse: 11.5916 - val_loss: 9.0536 - val_mse: 9.0536\n",
      "Epoch 9/15\n",
      "3/3 [==============================] - 0s 9ms/step - loss: 9.8779 - mse: 9.8779 - val_loss: 7.9097 - val_mse: 7.9097\n",
      "Epoch 10/15\n",
      "3/3 [==============================] - 0s 10ms/step - loss: 8.5726 - mse: 8.5726 - val_loss: 7.0314 - val_mse: 7.0314\n",
      "Epoch 11/15\n",
      "3/3 [==============================] - 0s 10ms/step - loss: 7.5780 - mse: 7.5780 - val_loss: 6.2509 - val_mse: 6.2509\n",
      "Epoch 12/15\n",
      "3/3 [==============================] - 0s 10ms/step - loss: 6.6666 - mse: 6.6666 - val_loss: 5.5778 - val_mse: 5.5778\n",
      "Epoch 13/15\n",
      "3/3 [==============================] - 0s 10ms/step - loss: 5.8697 - mse: 5.8697 - val_loss: 5.0042 - val_mse: 5.0042\n",
      "Epoch 14/15\n",
      "3/3 [==============================] - 0s 10ms/step - loss: 5.2492 - mse: 5.2492 - val_loss: 4.4748 - val_mse: 4.4748\n",
      "Epoch 15/15\n",
      "3/3 [==============================] - 0s 10ms/step - loss: 4.6791 - mse: 4.6791 - val_loss: 4.0108 - val_mse: 4.0108\n"
     ]
    },
    {
     "data": {
      "text/plain": "<keras.callbacks.History at 0x16d06b220>"
     },
     "execution_count": 5,
     "metadata": {},
     "output_type": "execute_result"
    }
   ],
   "source": [
    "from keras.callbacks import History\n",
    "\n",
    "history = History()\n",
    "z = 7 * x + 6 * y + 5 + noise\n",
    "\n",
    "model.fit(input, z, epochs=15, verbose=1, validation_split=0.2, callbacks=[history])"
   ],
   "metadata": {
    "collapsed": false,
    "pycharm": {
     "name": "#%%\n"
    }
   }
  },
  {
   "cell_type": "code",
   "execution_count": 6,
   "outputs": [
    {
     "name": "stdout",
     "output_type": "stream",
     "text": [
      "dict_keys(['loss', 'mse', 'val_loss', 'val_mse'])\n"
     ]
    }
   ],
   "source": [
    "print(history.history.keys())"
   ],
   "metadata": {
    "collapsed": false,
    "pycharm": {
     "name": "#%%\n"
    }
   }
  },
  {
   "cell_type": "code",
   "execution_count": 7,
   "outputs": [
    {
     "data": {
      "text/plain": "<Figure size 432x288 with 1 Axes>",
      "image/png": "[encoded data removed]"
     },
     "metadata": {
      "needs_background": "light"
     },
     "output_type": "display_data"
    }
   ],
   "source": [
    "plt.plot(history.history['loss'])\n",
    "plt.plot(history.history['val_loss'])\n",
    "plt.title('Accuracy')\n",
    "plt.xlabel('epoch')\n",
    "plt.ylabel('loss')\n",
    "plt.legend(['train', 'validation'], loc='upper right')\n",
    "\n",
    "plt.show()"
   ],
   "metadata": {
    "collapsed": false,
    "pycharm": {
     "name": "#%%\n"
    }
   }
  },
  {
   "cell_type": "code",
   "execution_count": 8,
   "outputs": [
    {
     "data": {
      "text/plain": "<Figure size 432x288 with 1 Axes>",
      "image/png": "[encoded data removed]"
     },
     "metadata": {
      "needs_background": "light"
     },
     "output_type": "display_data"
    }
   ],
   "source": [
    "plt.plot(history.history['mse'])\n",
    "plt.plot(history.history['val_mse'])\n",
    "plt.title('mean squared error')\n",
    "plt.ylabel('mse')\n",
    "plt.xlabel('epochs')\n",
    "plt.legend(['train' , 'validation'] , loc = 'upper right')\n",
    "plt.show()"
   ],
   "metadata": {
    "collapsed": false,
    "pycharm": {
     "name": "#%%\n"
    }
   }
  },
  {
   "cell_type": "code",
   "execution_count": 9,
   "outputs": [
    {
     "data": {
      "text/plain": "<Figure size 432x288 with 1 Axes>",
      "image/png": "[encoded data removed]"
     },
     "metadata": {
      "needs_background": "light"
     },
     "output_type": "display_data"
    }
   ],
   "source": [
    "plt.plot(np.squeeze(model.predict_on_batch(input)),\n",
    "         np.squeeze(z))\n",
    "plt.xlabel('predicted output')\n",
    "plt.ylabel('real output')\n",
    "plt.show()"
   ],
   "metadata": {
    "collapsed": false,
    "pycharm": {
     "name": "#%%\n"
    }
   }
  },
  {
   "cell_type": "code",
   "execution_count": 10,
   "outputs": [
    {
     "name": "stdout",
     "output_type": "stream",
     "text": [
      "Predicted z for x=2, y=3 --->  [[34.95]]\n",
      "Expected output:  37\n"
     ]
    }
   ],
   "source": [
    "print(\"Predicted z for x=2, y=3 ---> \", model.predict([[2,3]]).\n",
    "      round(2))\n",
    "print(\"Expected output: \", 7*2 + 6*3 + 5)"
   ],
   "metadata": {
    "collapsed": false,
    "pycharm": {
     "name": "#%%\n"
    }
   }
  },
  {
   "cell_type": "code",
   "execution_count": 10,
   "outputs": [],
   "source": [],
   "metadata": {
    "collapsed": false,
    "pycharm": {
     "name": "#%%\n"
    }
   }
  }
 ],
 "metadata": {
  "kernelspec": {
   "display_name": "Python 3",
   "language": "python",
   "name": "python3"
  },
  "language_info": {
   "codemirror_mode": {
    "name": "ipython",
    "version": 2
   },
   "file_extension": ".py",
   "mimetype": "text/x-python",
   "name": "python",
   "nbconvert_exporter": "python",
   "pygments_lexer": "ipython2",
   "version": "2.7.6"
  }
 },
 "nbformat": 4,
 "nbformat_minor": 0
}