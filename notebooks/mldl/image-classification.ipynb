{
 "cells": [
  {
   "cell_type": "code",
   "execution_count": 1,
   "metadata": {
    "collapsed": true
   },
   "outputs": [
    {
     "data": {
      "text/plain": "['abstract_reasoning',\n 'accentdb',\n 'aeslc',\n 'aflw2k3d',\n 'ag_news_subset',\n 'ai2_arc',\n 'ai2_arc_with_ir',\n 'amazon_us_reviews',\n 'anli',\n 'arc',\n 'asset',\n 'assin2',\n 'bair_robot_pushing_small',\n 'bccd',\n 'beans',\n 'bee_dataset',\n 'big_patent',\n 'bigearthnet',\n 'billsum',\n 'binarized_mnist',\n 'binary_alpha_digits',\n 'blimp',\n 'booksum',\n 'bool_q',\n 'c4',\n 'caltech101',\n 'caltech_birds2010',\n 'caltech_birds2011',\n 'cardiotox',\n 'cars196',\n 'cassava',\n 'cats_vs_dogs',\n 'celeb_a',\n 'celeb_a_hq',\n 'cfq',\n 'cherry_blossoms',\n 'chexpert',\n 'cifar10',\n 'cifar100',\n 'cifar10_1',\n 'cifar10_corrupted',\n 'citrus_leaves',\n 'cityscapes',\n 'civil_comments',\n 'clevr',\n 'clic',\n 'clinc_oos',\n 'cmaterdb',\n 'cnn_dailymail',\n 'coco',\n 'coco_captions',\n 'coil100',\n 'colorectal_histology',\n 'colorectal_histology_large',\n 'common_voice',\n 'coqa',\n 'cos_e',\n 'cosmos_qa',\n 'covid19',\n 'covid19sum',\n 'crema_d',\n 'cs_restaurants',\n 'curated_breast_imaging_ddsm',\n 'cycle_gan',\n 'd4rl_adroit_door',\n 'd4rl_adroit_hammer',\n 'd4rl_adroit_pen',\n 'd4rl_adroit_relocate',\n 'd4rl_antmaze',\n 'd4rl_mujoco_ant',\n 'd4rl_mujoco_halfcheetah',\n 'd4rl_mujoco_hopper',\n 'd4rl_mujoco_walker2d',\n 'dart',\n 'davis',\n 'deep_weeds',\n 'definite_pronoun_resolution',\n 'dementiabank',\n 'diabetic_retinopathy_detection',\n 'diamonds',\n 'div2k',\n 'dmlab',\n 'doc_nli',\n 'dolphin_number_word',\n 'domainnet',\n 'downsampled_imagenet',\n 'drop',\n 'dsprites',\n 'dtd',\n 'duke_ultrasound',\n 'e2e_cleaned',\n 'efron_morris75',\n 'emnist',\n 'eraser_multi_rc',\n 'esnli',\n 'eurosat',\n 'fashion_mnist',\n 'flic',\n 'flores',\n 'food101',\n 'forest_fires',\n 'fuss',\n 'gap',\n 'geirhos_conflict_stimuli',\n 'gem',\n 'genomics_ood',\n 'german_credit_numeric',\n 'gigaword',\n 'glue',\n 'goemotions',\n 'gov_report',\n 'gpt3',\n 'gref',\n 'groove',\n 'grounded_scan',\n 'gsm8k',\n 'gtzan',\n 'gtzan_music_speech',\n 'hellaswag',\n 'higgs',\n 'horses_or_humans',\n 'howell',\n 'i_naturalist2017',\n 'i_naturalist2018',\n 'imagenet2012',\n 'imagenet2012_corrupted',\n 'imagenet2012_multilabel',\n 'imagenet2012_real',\n 'imagenet2012_subset',\n 'imagenet_a',\n 'imagenet_lt',\n 'imagenet_r',\n 'imagenet_resized',\n 'imagenet_sketch',\n 'imagenet_v2',\n 'imagenette',\n 'imagewang',\n 'imdb_reviews',\n 'irc_disentanglement',\n 'iris',\n 'istella',\n 'kddcup99',\n 'kitti',\n 'kmnist',\n 'lambada',\n 'lfw',\n 'librispeech',\n 'librispeech_lm',\n 'libritts',\n 'ljspeech',\n 'lm1b',\n 'lost_and_found',\n 'lsun',\n 'lvis',\n 'malaria',\n 'math_dataset',\n 'math_qa',\n 'mctaco',\n 'mlqa',\n 'mnist',\n 'mnist_corrupted',\n 'movie_lens',\n 'movie_rationales',\n 'movielens',\n 'moving_mnist',\n 'mslr_web',\n 'multi_news',\n 'multi_nli',\n 'multi_nli_mismatch',\n 'natural_questions',\n 'natural_questions_open',\n 'newsroom',\n 'nsynth',\n 'nyu_depth_v2',\n 'ogbg_molpcba',\n 'omniglot',\n 'open_images_challenge2019_detection',\n 'open_images_v4',\n 'openbookqa',\n 'opinion_abstracts',\n 'opinosis',\n 'opus',\n 'oxford_flowers102',\n 'oxford_iiit_pet',\n 'para_crawl',\n 'pass',\n 'patch_camelyon',\n 'paws_wiki',\n 'paws_x_wiki',\n 'penguins',\n 'pet_finder',\n 'pg19',\n 'piqa',\n 'places365_small',\n 'plant_leaves',\n 'plant_village',\n 'plantae_k',\n 'protein_net',\n 'qa4mre',\n 'qasc',\n 'quac',\n 'quality',\n 'quickdraw_bitmap',\n 'race',\n 'radon',\n 'reddit',\n 'reddit_disentanglement',\n 'reddit_tifu',\n 'ref_coco',\n 'resisc45',\n 'rlu_atari',\n 'rlu_atari_checkpoints',\n 'rlu_atari_checkpoints_ordered',\n 'rlu_dmlab_explore_object_rewards_few',\n 'rlu_dmlab_explore_object_rewards_many',\n 'rlu_dmlab_rooms_select_nonmatching_object',\n 'rlu_dmlab_rooms_watermaze',\n 'rlu_dmlab_seekavoid_arena01',\n 'rlu_rwrl',\n 'robomimic_ph',\n 'robonet',\n 'robosuite_panda_pick_place_can',\n 'rock_paper_scissors',\n 'rock_you',\n 's3o4d',\n 'salient_span_wikipedia',\n 'samsum',\n 'savee',\n 'scan',\n 'scene_parse150',\n 'schema_guided_dialogue',\n 'scicite',\n 'scientific_papers',\n 'scrolls',\n 'sentiment140',\n 'shapes3d',\n 'siscore',\n 'smallnorb',\n 'smartwatch_gestures',\n 'snli',\n 'so2sat',\n 'speech_commands',\n 'spoken_digit',\n 'squad',\n 'squad_question_generation',\n 'stanford_dogs',\n 'stanford_online_products',\n 'star_cfq',\n 'starcraft_video',\n 'stl10',\n 'story_cloze',\n 'summscreen',\n 'sun397',\n 'super_glue',\n 'svhn_cropped',\n 'symmetric_solids',\n 'tao',\n 'ted_hrlr_translate',\n 'ted_multi_translate',\n 'tedlium',\n 'tf_flowers',\n 'the300w_lp',\n 'tiny_shakespeare',\n 'titanic',\n 'trec',\n 'trivia_qa',\n 'tydi_qa',\n 'uc_merced',\n 'ucf101',\n 'vctk',\n 'visual_domain_decathlon',\n 'voc',\n 'voxceleb',\n 'voxforge',\n 'waymo_open_dataset',\n 'web_nlg',\n 'web_questions',\n 'wider_face',\n 'wiki40b',\n 'wiki_auto',\n 'wiki_bio',\n 'wiki_table_questions',\n 'wiki_table_text',\n 'wikiann',\n 'wikihow',\n 'wikipedia',\n 'wikipedia_toxicity_subtypes',\n 'wine_quality',\n 'winogrande',\n 'wit',\n 'wit_kaggle',\n 'wmt13_translate',\n 'wmt14_translate',\n 'wmt15_translate',\n 'wmt16_translate',\n 'wmt17_translate',\n 'wmt18_translate',\n 'wmt19_translate',\n 'wmt_t2t_translate',\n 'wmt_translate',\n 'wordnet',\n 'wsc273',\n 'xnli',\n 'xquad',\n 'xsum',\n 'xtreme_pawsx',\n 'xtreme_xnli',\n 'yelp_polarity_reviews',\n 'yes_no',\n 'youtube_vis',\n 'huggingface:acronym_identification',\n 'huggingface:ade_corpus_v2',\n 'huggingface:adversarial_qa',\n 'huggingface:aeslc',\n 'huggingface:afrikaans_ner_corpus',\n 'huggingface:ag_news',\n 'huggingface:ai2_arc',\n 'huggingface:air_dialogue',\n 'huggingface:ajgt_twitter_ar',\n 'huggingface:allegro_reviews',\n 'huggingface:allocine',\n 'huggingface:alt',\n 'huggingface:amazon_polarity',\n 'huggingface:amazon_reviews_multi',\n 'huggingface:amazon_us_reviews',\n 'huggingface:ambig_qa',\n 'huggingface:americas_nli',\n 'huggingface:ami',\n 'huggingface:amttl',\n 'huggingface:anli',\n 'huggingface:app_reviews',\n 'huggingface:aqua_rat',\n 'huggingface:aquamuse',\n 'huggingface:ar_cov19',\n 'huggingface:ar_res_reviews',\n 'huggingface:ar_sarcasm',\n 'huggingface:arabic_billion_words',\n 'huggingface:arabic_pos_dialect',\n 'huggingface:arabic_speech_corpus',\n 'huggingface:arcd',\n 'huggingface:arsentd_lev',\n 'huggingface:art',\n 'huggingface:arxiv_dataset',\n 'huggingface:ascent_kb',\n 'huggingface:aslg_pc12',\n 'huggingface:asnq',\n 'huggingface:asset',\n 'huggingface:assin',\n 'huggingface:assin2',\n 'huggingface:atomic',\n 'huggingface:autshumato',\n 'huggingface:babi_qa',\n 'huggingface:banking77',\n 'huggingface:bbaw_egyptian',\n 'huggingface:bbc_hindi_nli',\n 'huggingface:bc2gm_corpus',\n 'huggingface:beans',\n 'huggingface:best2009',\n 'huggingface:bianet',\n 'huggingface:bible_para',\n 'huggingface:big_patent',\n 'huggingface:billsum',\n 'huggingface:bing_coronavirus_query_set',\n 'huggingface:biomrc',\n 'huggingface:biosses',\n 'huggingface:blbooksgenre',\n 'huggingface:blended_skill_talk',\n 'huggingface:blimp',\n 'huggingface:blog_authorship_corpus',\n 'huggingface:bn_hate_speech',\n 'huggingface:bookcorpus',\n 'huggingface:bookcorpusopen',\n 'huggingface:boolq',\n 'huggingface:bprec',\n 'huggingface:break_data',\n 'huggingface:brwac',\n 'huggingface:bsd_ja_en',\n 'huggingface:bswac',\n 'huggingface:c3',\n 'huggingface:c4',\n 'huggingface:cail2018',\n 'huggingface:caner',\n 'huggingface:capes',\n 'huggingface:casino',\n 'huggingface:catalonia_independence',\n 'huggingface:cats_vs_dogs',\n 'huggingface:cawac',\n 'huggingface:cbt',\n 'huggingface:cc100',\n 'huggingface:cc_news',\n 'huggingface:ccaligned_multilingual',\n 'huggingface:cdsc',\n 'huggingface:cdt',\n 'huggingface:cedr',\n 'huggingface:cfq',\n 'huggingface:chr_en',\n 'huggingface:cifar10',\n 'huggingface:cifar100',\n 'huggingface:circa',\n 'huggingface:civil_comments',\n 'huggingface:clickbait_news_bg',\n 'huggingface:climate_fever',\n 'huggingface:clinc_oos',\n 'huggingface:clue',\n 'huggingface:cmrc2018',\n 'huggingface:cmu_hinglish_dog',\n 'huggingface:cnn_dailymail',\n 'huggingface:coached_conv_pref',\n 'huggingface:coarse_discourse',\n 'huggingface:codah',\n 'huggingface:code_search_net',\n 'huggingface:code_x_glue_cc_clone_detection_big_clone_bench',\n 'huggingface:code_x_glue_cc_clone_detection_poj104',\n 'huggingface:code_x_glue_cc_cloze_testing_all',\n 'huggingface:code_x_glue_cc_cloze_testing_maxmin',\n 'huggingface:code_x_glue_cc_code_completion_line',\n 'huggingface:code_x_glue_cc_code_completion_token',\n 'huggingface:code_x_glue_cc_code_refinement',\n 'huggingface:code_x_glue_cc_code_to_code_trans',\n 'huggingface:code_x_glue_cc_defect_detection',\n 'huggingface:code_x_glue_ct_code_to_text',\n 'huggingface:code_x_glue_tc_nl_code_search_adv',\n 'huggingface:code_x_glue_tc_text_to_code',\n 'huggingface:code_x_glue_tt_text_to_text',\n 'huggingface:com_qa',\n 'huggingface:common_gen',\n 'huggingface:common_language',\n 'huggingface:common_voice',\n 'huggingface:commonsense_qa',\n 'huggingface:competition_math',\n 'huggingface:compguesswhat',\n 'huggingface:conceptnet5',\n 'huggingface:conll2000',\n 'huggingface:conll2002',\n 'huggingface:conll2003',\n 'huggingface:conllpp',\n 'huggingface:conv_ai',\n 'huggingface:conv_ai_2',\n 'huggingface:conv_ai_3',\n 'huggingface:conv_questions',\n 'huggingface:coqa',\n 'huggingface:cord19',\n 'huggingface:cornell_movie_dialog',\n 'huggingface:cos_e',\n 'huggingface:cosmos_qa',\n 'huggingface:counter',\n 'huggingface:covid_qa_castorini',\n 'huggingface:covid_qa_deepset',\n 'huggingface:covid_qa_ucsd',\n 'huggingface:covid_tweets_japanese',\n 'huggingface:covost2',\n 'huggingface:craigslist_bargains',\n 'huggingface:crawl_domain',\n 'huggingface:crd3',\n 'huggingface:crime_and_punish',\n 'huggingface:crows_pairs',\n 'huggingface:cryptonite',\n 'huggingface:cs_restaurants',\n 'huggingface:cuad',\n 'huggingface:curiosity_dialogs',\n 'huggingface:daily_dialog',\n 'huggingface:dane',\n 'huggingface:danish_political_comments',\n 'huggingface:dart',\n 'huggingface:datacommons_factcheck',\n 'huggingface:dbpedia_14',\n 'huggingface:dbrd',\n 'huggingface:deal_or_no_dialog',\n 'huggingface:definite_pronoun_resolution',\n 'huggingface:dengue_filipino',\n 'huggingface:dialog_re',\n 'huggingface:diplomacy_detection',\n 'huggingface:disaster_response_messages',\n 'huggingface:discofuse',\n 'huggingface:discovery',\n 'huggingface:disfl_qa',\n 'huggingface:doc2dial',\n 'huggingface:docred',\n 'huggingface:doqa',\n 'huggingface:dream',\n 'huggingface:drop',\n 'huggingface:duorc',\n 'huggingface:dutch_social',\n 'huggingface:dyk',\n 'huggingface:e2e_nlg',\n 'huggingface:e2e_nlg_cleaned',\n 'huggingface:ecb',\n 'huggingface:ecthr_cases',\n 'huggingface:eduge',\n 'huggingface:ehealth_kd',\n 'huggingface:eitb_parcc',\n 'huggingface:eli5',\n 'huggingface:eli5_category',\n 'huggingface:emea',\n 'huggingface:emo',\n 'huggingface:emotion',\n 'huggingface:emotone_ar',\n 'huggingface:empathetic_dialogues',\n 'huggingface:enriched_web_nlg',\n 'huggingface:eraser_multi_rc',\n 'huggingface:esnli',\n 'huggingface:eth_py150_open',\n 'huggingface:ethos',\n 'huggingface:eu_regulatory_ir',\n 'huggingface:eurlex',\n 'huggingface:euronews',\n 'huggingface:europa_eac_tm',\n 'huggingface:europa_ecdc_tm',\n 'huggingface:europarl_bilingual',\n 'huggingface:event2Mind',\n 'huggingface:evidence_infer_treatment',\n 'huggingface:exams',\n 'huggingface:factckbr',\n 'huggingface:fake_news_english',\n 'huggingface:fake_news_filipino',\n 'huggingface:farsi_news',\n 'huggingface:fashion_mnist',\n 'huggingface:fever',\n 'huggingface:few_rel',\n 'huggingface:financial_phrasebank',\n 'huggingface:finer',\n 'huggingface:flores',\n 'huggingface:flue',\n 'huggingface:food101',\n 'huggingface:fquad',\n 'huggingface:freebase_qa',\n 'huggingface:gap',\n 'huggingface:gem',\n 'huggingface:generated_reviews_enth',\n 'huggingface:generics_kb',\n 'huggingface:german_legal_entity_recognition',\n 'huggingface:germaner',\n 'huggingface:germeval_14',\n 'huggingface:giga_fren',\n 'huggingface:gigaword',\n 'huggingface:glucose',\n 'huggingface:glue',\n 'huggingface:gnad10',\n 'huggingface:go_emotions',\n 'huggingface:gooaq',\n 'huggingface:google_wellformed_query',\n 'huggingface:grail_qa',\n 'huggingface:great_code',\n 'huggingface:greek_legal_code',\n 'huggingface:guardian_authorship',\n 'huggingface:gutenberg_time',\n 'huggingface:hans',\n 'huggingface:hansards',\n 'huggingface:hard',\n 'huggingface:harem',\n 'huggingface:has_part',\n 'huggingface:hate_offensive',\n 'huggingface:hate_speech18',\n 'huggingface:hate_speech_filipino',\n 'huggingface:hate_speech_offensive',\n 'huggingface:hate_speech_pl',\n 'huggingface:hate_speech_portuguese',\n 'huggingface:hatexplain',\n 'huggingface:hausa_voa_ner',\n 'huggingface:hausa_voa_topics',\n 'huggingface:hda_nli_hindi',\n 'huggingface:head_qa',\n 'huggingface:health_fact',\n 'huggingface:hebrew_projectbenyehuda',\n 'huggingface:hebrew_sentiment',\n 'huggingface:hebrew_this_world',\n 'huggingface:hellaswag',\n 'huggingface:hendrycks_test',\n 'huggingface:hind_encorp',\n 'huggingface:hindi_discourse',\n 'huggingface:hippocorpus',\n 'huggingface:hkcancor',\n 'huggingface:hlgd',\n 'huggingface:hope_edi',\n 'huggingface:hotpot_qa',\n 'huggingface:hover',\n 'huggingface:hrenwac_para',\n 'huggingface:hrwac',\n 'huggingface:humicroedit',\n 'huggingface:hybrid_qa',\n 'huggingface:hyperpartisan_news_detection',\n 'huggingface:iapp_wiki_qa_squad',\n 'huggingface:id_clickbait',\n 'huggingface:id_liputan6',\n 'huggingface:id_nergrit_corpus',\n 'huggingface:id_newspapers_2018',\n 'huggingface:id_panl_bppt',\n 'huggingface:id_puisi',\n 'huggingface:igbo_english_machine_translation',\n 'huggingface:igbo_monolingual',\n 'huggingface:igbo_ner',\n 'huggingface:ilist',\n 'huggingface:imdb',\n 'huggingface:imdb_urdu_reviews',\n 'huggingface:imppres',\n 'huggingface:indic_glue',\n 'huggingface:indonli',\n 'huggingface:indonlu',\n 'huggingface:inquisitive_qg',\n 'huggingface:interpress_news_category_tr',\n 'huggingface:interpress_news_category_tr_lite',\n 'huggingface:irc_disentangle',\n 'huggingface:isixhosa_ner_corpus',\n 'huggingface:isizulu_ner_corpus',\n 'huggingface:iwslt2017',\n 'huggingface:jeopardy',\n 'huggingface:jfleg',\n 'huggingface:jigsaw_toxicity_pred',\n 'huggingface:jigsaw_unintended_bias',\n 'huggingface:jnlpba',\n 'huggingface:journalists_questions',\n 'huggingface:kan_hope',\n 'huggingface:kannada_news',\n 'huggingface:kd_conv',\n 'huggingface:kde4',\n 'huggingface:kelm',\n 'huggingface:kilt_tasks',\n 'huggingface:kilt_wikipedia',\n 'huggingface:kinnews_kirnews',\n 'huggingface:klue',\n 'huggingface:kor_3i4k',\n 'huggingface:kor_hate',\n 'huggingface:kor_ner',\n 'huggingface:kor_nli',\n 'huggingface:kor_nlu',\n 'huggingface:kor_qpair',\n 'huggingface:kor_sae',\n 'huggingface:kor_sarcasm',\n 'huggingface:labr',\n 'huggingface:lama',\n 'huggingface:lambada',\n 'huggingface:large_spanish_corpus',\n 'huggingface:laroseda',\n 'huggingface:lc_quad',\n 'huggingface:lener_br',\n 'huggingface:lex_glue',\n 'huggingface:liar',\n 'huggingface:librispeech_asr',\n 'huggingface:librispeech_lm',\n 'huggingface:limit',\n 'huggingface:lince',\n 'huggingface:linnaeus',\n 'huggingface:liveqa',\n 'huggingface:lj_speech',\n 'huggingface:lm1b',\n 'huggingface:lst20',\n 'huggingface:m_lama',\n 'huggingface:mac_morpho',\n 'huggingface:makhzan',\n 'huggingface:masakhaner',\n 'huggingface:math_dataset',\n 'huggingface:math_qa',\n 'huggingface:matinf',\n 'huggingface:mbpp',\n 'huggingface:mc4',\n 'huggingface:mc_taco',\n 'huggingface:md_gender_bias',\n 'huggingface:mdd',\n 'huggingface:med_hop',\n 'huggingface:medal',\n 'huggingface:medical_dialog',\n 'huggingface:medical_questions_pairs',\n 'huggingface:menyo20k_mt',\n 'huggingface:meta_woz',\n 'huggingface:metooma',\n 'huggingface:metrec',\n 'huggingface:miam',\n 'huggingface:mkb',\n 'huggingface:mkqa',\n 'huggingface:mlqa',\n 'huggingface:mlsum',\n 'huggingface:mnist',\n 'huggingface:mocha',\n 'huggingface:moroco',\n 'huggingface:movie_rationales',\n 'huggingface:mrqa',\n 'huggingface:ms_marco',\n 'huggingface:ms_terms',\n 'huggingface:msr_genomics_kbcomp',\n 'huggingface:msr_sqa',\n 'huggingface:msr_text_compression',\n 'huggingface:msr_zhen_translation_parity',\n 'huggingface:msra_ner',\n 'huggingface:mt_eng_vietnamese',\n 'huggingface:muchocine',\n 'huggingface:multi_booked',\n 'huggingface:multi_eurlex',\n 'huggingface:multi_news',\n 'huggingface:multi_nli',\n 'huggingface:multi_nli_mismatch',\n 'huggingface:multi_para_crawl',\n 'huggingface:multi_re_qa',\n 'huggingface:multi_woz_v22',\n 'huggingface:multi_x_science_sum',\n 'huggingface:multidoc2dial',\n 'huggingface:multilingual_librispeech',\n 'huggingface:mutual_friends',\n 'huggingface:mwsc',\n 'huggingface:myanmar_news',\n 'huggingface:narrativeqa',\n 'huggingface:narrativeqa_manual',\n 'huggingface:natural_questions',\n 'huggingface:ncbi_disease',\n 'huggingface:nchlt',\n 'huggingface:ncslgr',\n 'huggingface:nell',\n 'huggingface:neural_code_search',\n 'huggingface:news_commentary',\n 'huggingface:newsgroup',\n 'huggingface:newsph',\n 'huggingface:newsph_nli',\n 'huggingface:newspop',\n 'huggingface:newsqa',\n 'huggingface:newsroom',\n 'huggingface:nkjp-ner',\n 'huggingface:nli_tr',\n 'huggingface:nlu_evaluation_data',\n 'huggingface:norec',\n 'huggingface:norne',\n 'huggingface:norwegian_ner',\n 'huggingface:nq_open',\n 'huggingface:nsmc',\n 'huggingface:numer_sense',\n 'huggingface:numeric_fused_head',\n 'huggingface:oclar',\n 'huggingface:offcombr',\n 'huggingface:offenseval2020_tr',\n 'huggingface:offenseval_dravidian',\n 'huggingface:ofis_publik',\n 'huggingface:ohsumed',\n 'huggingface:ollie',\n 'huggingface:omp',\n 'huggingface:onestop_english',\n 'huggingface:onestop_qa',\n 'huggingface:open_subtitles',\n 'huggingface:openai_humaneval',\n 'huggingface:openbookqa',\n 'huggingface:openslr',\n 'huggingface:openwebtext',\n 'huggingface:opinosis',\n 'huggingface:opus100',\n 'huggingface:opus_books',\n 'huggingface:opus_dgt',\n 'huggingface:opus_dogc',\n 'huggingface:opus_elhuyar',\n 'huggingface:opus_euconst',\n 'huggingface:opus_finlex',\n 'huggingface:opus_fiskmo',\n 'huggingface:opus_gnome',\n 'huggingface:opus_infopankki',\n 'huggingface:opus_memat',\n 'huggingface:opus_montenegrinsubs',\n 'huggingface:opus_openoffice',\n 'huggingface:opus_paracrawl',\n 'huggingface:opus_rf',\n 'huggingface:opus_tedtalks',\n 'huggingface:opus_ubuntu',\n 'huggingface:opus_wikipedia',\n 'huggingface:opus_xhosanavy',\n 'huggingface:orange_sum',\n 'huggingface:oscar',\n 'huggingface:para_crawl',\n 'huggingface:para_pat',\n 'huggingface:parsinlu_reading_comprehension',\n 'huggingface:paws',\n 'huggingface:paws-x',\n 'huggingface:pec',\n 'huggingface:peer_read',\n 'huggingface:peoples_daily_ner',\n 'huggingface:per_sent',\n 'huggingface:persian_ner',\n 'huggingface:pg19',\n 'huggingface:php',\n 'huggingface:piaf',\n 'huggingface:pib',\n 'huggingface:piqa',\n 'huggingface:pn_summary',\n 'huggingface:poem_sentiment',\n 'huggingface:polemo2',\n 'huggingface:poleval2019_cyberbullying',\n 'huggingface:poleval2019_mt',\n 'huggingface:polsum',\n 'huggingface:polyglot_ner',\n 'huggingface:prachathai67k',\n 'huggingface:pragmeval',\n 'huggingface:proto_qa',\n 'huggingface:psc',\n 'huggingface:ptb_text_only',\n 'huggingface:pubmed',\n 'huggingface:pubmed_qa',\n 'huggingface:py_ast',\n 'huggingface:qa4mre',\n 'huggingface:qa_srl',\n 'huggingface:qa_zre',\n 'huggingface:qangaroo',\n 'huggingface:qanta',\n 'huggingface:qasc',\n 'huggingface:qasper',\n 'huggingface:qed',\n 'huggingface:qed_amara',\n 'huggingface:quac',\n 'huggingface:quail',\n 'huggingface:quarel',\n 'huggingface:quartz',\n 'huggingface:quora',\n 'huggingface:quoref',\n 'huggingface:race',\n 'huggingface:re_dial',\n 'huggingface:reasoning_bg',\n 'huggingface:recipe_nlg',\n 'huggingface:reclor',\n 'huggingface:reddit',\n 'huggingface:reddit_tifu',\n 'huggingface:refresd',\n 'huggingface:reuters21578',\n 'huggingface:riddle_sense',\n 'huggingface:ro_sent',\n 'huggingface:ro_sts',\n 'huggingface:ro_sts_parallel',\n 'huggingface:roman_urdu',\n 'huggingface:ronec',\n 'huggingface:ropes',\n 'huggingface:rotten_tomatoes',\n 'huggingface:russian_super_glue',\n 'huggingface:s2orc',\n 'huggingface:samsum',\n 'huggingface:sanskrit_classic',\n 'huggingface:saudinewsnet',\n 'huggingface:sberquad',\n 'huggingface:scan',\n 'huggingface:scb_mt_enth_2020',\n 'huggingface:schema_guided_dstc8',\n 'huggingface:scicite',\n 'huggingface:scielo',\n 'huggingface:scientific_papers',\n 'huggingface:scifact',\n 'huggingface:sciq',\n 'huggingface:scitail',\n 'huggingface:scitldr',\n 'huggingface:search_qa',\n 'huggingface:sede',\n 'huggingface:selqa',\n 'huggingface:sem_eval_2010_task_8',\n 'huggingface:sem_eval_2014_task_1',\n 'huggingface:sem_eval_2018_task_1',\n 'huggingface:sem_eval_2020_task_11',\n 'huggingface:sent_comp',\n 'huggingface:senti_lex',\n 'huggingface:senti_ws',\n 'huggingface:sentiment140',\n 'huggingface:sepedi_ner',\n 'huggingface:sesotho_ner_corpus',\n 'huggingface:setimes',\n 'huggingface:setswana_ner_corpus',\n 'huggingface:sharc',\n 'huggingface:sharc_modified',\n 'huggingface:sick',\n 'huggingface:silicone',\n 'huggingface:simple_questions_v2',\n 'huggingface:siswati_ner_corpus',\n 'huggingface:smartdata',\n 'huggingface:sms_spam',\n 'huggingface:snips_built_in_intents',\n 'huggingface:snli',\n 'huggingface:snow_simplified_japanese_corpus',\n 'huggingface:so_stacksample',\n 'huggingface:social_bias_frames',\n 'huggingface:social_i_qa',\n 'huggingface:sofc_materials_articles',\n 'huggingface:sogou_news',\n 'huggingface:spanish_billion_words',\n 'huggingface:spc',\n 'huggingface:species_800',\n 'huggingface:speech_commands',\n 'huggingface:spider',\n 'huggingface:squad',\n 'huggingface:squad_adversarial',\n 'huggingface:squad_es',\n 'huggingface:squad_it',\n 'huggingface:squad_kor_v1',\n 'huggingface:squad_kor_v2',\n 'huggingface:squad_v1_pt',\n 'huggingface:squad_v2',\n 'huggingface:squadshifts',\n 'huggingface:srwac',\n 'huggingface:sst',\n 'huggingface:stereoset',\n 'huggingface:story_cloze',\n 'huggingface:stsb_mt_sv',\n 'huggingface:stsb_multi_mt',\n 'huggingface:style_change_detection',\n 'huggingface:subjqa',\n 'huggingface:super_glue',\n 'huggingface:superb',\n 'huggingface:swag',\n 'huggingface:swahili',\n 'huggingface:swahili_news',\n 'huggingface:swda',\n 'huggingface:swedish_medical_ner',\n 'huggingface:swedish_ner_corpus',\n 'huggingface:swedish_reviews',\n 'huggingface:swiss_judgment_prediction',\n 'huggingface:tab_fact',\n 'huggingface:tamilmixsentiment',\n 'huggingface:tanzil',\n 'huggingface:tapaco',\n 'huggingface:tashkeela',\n 'huggingface:taskmaster1',\n 'huggingface:taskmaster2',\n 'huggingface:taskmaster3',\n 'huggingface:tatoeba',\n 'huggingface:ted_hrlr',\n 'huggingface:ted_iwlst2013',\n 'huggingface:ted_multi',\n 'huggingface:ted_talks_iwslt',\n 'huggingface:telugu_books',\n 'huggingface:telugu_news',\n 'huggingface:tep_en_fa_para',\n 'huggingface:thai_toxicity_tweet',\n 'huggingface:thainer',\n 'huggingface:thaiqa_squad',\n 'huggingface:thaisum',\n 'huggingface:the_pile',\n 'huggingface:the_pile_books3',\n 'huggingface:the_pile_openwebtext2',\n 'huggingface:the_pile_stack_exchange',\n 'huggingface:tilde_model',\n 'huggingface:time_dial',\n 'huggingface:times_of_india_news_headlines',\n 'huggingface:timit_asr',\n 'huggingface:tiny_shakespeare',\n 'huggingface:tlc',\n 'huggingface:tmu_gfm_dataset',\n 'huggingface:totto',\n 'huggingface:trec',\n 'huggingface:trivia_qa',\n 'huggingface:tsac',\n 'huggingface:ttc4900',\n 'huggingface:tunizi',\n 'huggingface:tuple_ie',\n 'huggingface:turk',\n 'huggingface:turkish_movie_sentiment',\n 'huggingface:turkish_ner',\n 'huggingface:turkish_product_reviews',\n 'huggingface:turkish_shrinked_ner',\n 'huggingface:turku_ner_corpus',\n 'huggingface:tweet_eval',\n 'huggingface:tweet_qa',\n 'huggingface:tweets_ar_en_parallel',\n 'huggingface:tweets_hate_speech_detection',\n 'huggingface:twi_text_c3',\n 'huggingface:twi_wordsim353',\n 'huggingface:tydiqa',\n 'huggingface:ubuntu_dialogs_corpus',\n 'huggingface:udhr',\n 'huggingface:um005',\n 'huggingface:un_ga',\n 'huggingface:un_multi',\n 'huggingface:un_pc',\n 'huggingface:universal_dependencies',\n 'huggingface:universal_morphologies',\n 'huggingface:urdu_fake_news',\n 'huggingface:urdu_sentiment_corpus',\n 'huggingface:vctk',\n 'huggingface:vivos',\n 'huggingface:web_nlg',\n 'huggingface:web_of_science',\n 'huggingface:web_questions',\n 'huggingface:weibo_ner',\n 'huggingface:wi_locness',\n 'huggingface:wiki40b',\n 'huggingface:wiki_asp',\n 'huggingface:wiki_atomic_edits',\n 'huggingface:wiki_auto',\n 'huggingface:wiki_bio',\n 'huggingface:wiki_dpr',\n 'huggingface:wiki_hop',\n 'huggingface:wiki_lingua',\n 'huggingface:wiki_movies',\n 'huggingface:wiki_qa',\n 'huggingface:wiki_qa_ar',\n 'huggingface:wiki_snippets',\n 'huggingface:wiki_source',\n 'huggingface:wiki_split',\n 'huggingface:wiki_summary',\n 'huggingface:wikiann',\n 'huggingface:wikicorpus',\n 'huggingface:wikihow',\n 'huggingface:wikipedia',\n 'huggingface:wikisql',\n 'huggingface:wikitext',\n 'huggingface:wikitext_tl39',\n 'huggingface:wili_2018',\n 'huggingface:wino_bias',\n 'huggingface:winograd_wsc',\n 'huggingface:winogrande',\n 'huggingface:wiqa',\n 'huggingface:wisesight1000',\n 'huggingface:wisesight_sentiment',\n 'huggingface:wmt14',\n ...]"
     },
     "execution_count": 1,
     "metadata": {},
     "output_type": "execute_result"
    }
   ],
   "source": [
    "import keras.utils.np_utils\n",
    "import tensorflow as tf\n",
    "\n",
    "import tensorflow_datasets as tfds\n",
    "\n",
    "tfds.list_builders()"
   ]
  },
  {
   "cell_type": "code",
   "execution_count": 2,
   "outputs": [],
   "source": [
    "(x_train, y_train), (x_test, y_test) = tf.keras.datasets.cifar10.load_data()"
   ],
   "metadata": {
    "collapsed": false,
    "pycharm": {
     "name": "#%%\n"
    }
   }
  },
  {
   "cell_type": "code",
   "execution_count": 3,
   "outputs": [
    {
     "data": {
      "text/plain": "<matplotlib.image.AxesImage at 0x16e60cd00>"
     },
     "execution_count": 3,
     "metadata": {},
     "output_type": "execute_result"
    },
    {
     "data": {
      "text/plain": "<Figure size 432x288 with 1 Axes>",
      "image/png": "[encoded data removed]"
     },
     "metadata": {
      "needs_background": "light"
     },
     "output_type": "display_data"
    }
   ],
   "source": [
    "import matplotlib.pyplot as plt\n",
    "\n",
    "plt.imshow(x_train[40])"
   ],
   "metadata": {
    "collapsed": false,
    "pycharm": {
     "name": "#%%\n"
    }
   }
  },
  {
   "cell_type": "code",
   "execution_count": 4,
   "outputs": [],
   "source": [
    "from sklearn.model_selection import  train_test_split\n",
    "\n",
    "x_train, x_val, y_train, y_val = train_test_split(x_train, y_train, test_size=0.05, random_state=0)"
   ],
   "metadata": {
    "collapsed": false,
    "pycharm": {
     "name": "#%%\n"
    }
   }
  },
  {
   "cell_type": "code",
   "execution_count": 5,
   "outputs": [],
   "source": [
    "from keras.preprocessing.image import ImageDataGenerator"
   ],
   "metadata": {
    "collapsed": false,
    "pycharm": {
     "name": "#%%\n"
    }
   }
  },
  {
   "cell_type": "code",
   "execution_count": 6,
   "outputs": [],
   "source": [
    "datagen = ImageDataGenerator(\n",
    "    rotation_range=15,\n",
    "    width_shift_range=0.1,\n",
    "    height_shift_range=0.1,\n",
    "    horizontal_flip=True,\n",
    ")\n",
    "\n",
    "def normalize(data):\n",
    "    data = data.astype(\"float32\")\n",
    "    data = data/255.0\n",
    "    return data\n",
    "\n",
    "x_train = normalize(x_train)\n",
    "datagen.fit(x_train)\n",
    "x_val = normalize(x_val)\n",
    "datagen.fit(x_val)\n",
    "\n",
    "x_test = normalize(x_test)"
   ],
   "metadata": {
    "collapsed": false,
    "pycharm": {
     "name": "#%%\n"
    }
   }
  },
  {
   "cell_type": "code",
   "execution_count": 7,
   "outputs": [],
   "source": [
    "from keras.utils.np_utils import to_categorical\n",
    "y_train = to_categorical(y_train, 10)\n",
    "y_test = to_categorical(y_test, 10)\n",
    "y_val = to_categorical(y_val, 10)"
   ],
   "metadata": {
    "collapsed": false,
    "pycharm": {
     "name": "#%%\n"
    }
   }
  },
  {
   "cell_type": "code",
   "execution_count": 8,
   "outputs": [
    {
     "data": {
      "text/plain": "<matplotlib.image.AxesImage at 0x170893ac0>"
     },
     "execution_count": 8,
     "metadata": {},
     "output_type": "execute_result"
    },
    {
     "data": {
      "text/plain": "<Figure size 432x288 with 1 Axes>",
      "image/png": "[encoded data removed]"
     },
     "metadata": {
      "needs_background": "light"
     },
     "output_type": "display_data"
    }
   ],
   "source": [
    "plt.imshow(x_train[40])"
   ],
   "metadata": {
    "collapsed": false,
    "pycharm": {
     "name": "#%%\n"
    }
   }
  },
  {
   "cell_type": "code",
   "execution_count": 25,
   "outputs": [],
   "source": [
    "def result(model):\n",
    "    epoch = 20\n",
    "    r = model.fit(x_train, y_train, batch_size=32, epochs=epoch, validation_data=(x_val, y_val), verbose=1)\n",
    "    acc = model.evaluate(x_test, y_test)\n",
    "    print((acc[0], acc[1] * 100))\n",
    "\n",
    "    epoch_range = range(1, epoch+1)\n",
    "\n",
    "    plt.plot(epoch_range, r.history['accuracy'])\n",
    "    plt.plot(epoch_range, r.history['val_accuracy'])\n",
    "    plt.title(\"Classification accuracy\")\n",
    "    plt.ylabel(\"Accuracy\")\n",
    "    plt.xlabel(\"Epoch\")\n",
    "    plt.legend([\"Train\", \"Val\"], loc=\"lower right\")\n",
    "    plt.show()\n",
    "\n",
    "    plt.plot(epoch_range, r.history['loss'])\n",
    "    plt.plot(epoch_range, r.history['val_loss'])\n",
    "    plt.title(\"Model loss\")\n",
    "    plt.ylabel(\"Loss\")\n",
    "    plt.xlabel(\"Epoch\")\n",
    "    plt.legend([\"Train\", \"Val\"], loc=\"lower right\")\n",
    "    plt.show()\n",
    "\n",
    "classes = ['airplane', 'automobile', 'bird', 'cat', 'deer',\n",
    "           'dog', 'frog', 'horse', 'ship', 'truck']\n",
    "\n",
    "from keras.preprocessing.image import load_img, img_to_array\n",
    "\n",
    "def predict_class(filename, model):\n",
    "    img = load_img(filename, target_size=(32,32))\n",
    "    plt.show(img)\n",
    "\n",
    "    img=img_to_array(img)\n",
    "\n",
    "    img = img.reshape(1, 32, 32, 3)\n",
    "\n",
    "    img = img.astype('float32')\n",
    "    img = img/255.0\n",
    "\n",
    "    result = model.predict(img)\n",
    "\n",
    "    dict2 = {}\n",
    "    for i in range(10):\n",
    "        dict2[result[0][i]] = classes[i]\n",
    "\n",
    "    res = result[0]\n",
    "    res.sort()\n",
    "\n",
    "    res = res[::-1]\n",
    "\n",
    "    results = res[:3]\n",
    "\n",
    "    for i in range(3):\n",
    "        print(\"{} : {}\".format(dict2[results[i]], ((results[i]*100).round(2))))"
   ],
   "metadata": {
    "collapsed": false,
    "pycharm": {
     "name": "#%%\n"
    }
   }
  },
  {
   "cell_type": "code",
   "execution_count": 10,
   "outputs": [
    {
     "name": "stderr",
     "output_type": "stream",
     "text": [
      "2022-02-25 18:03:50.291612: I tensorflow/core/platform/cpu_feature_guard.cc:151] This TensorFlow binary is optimized with oneAPI Deep Neural Network Library (oneDNN) to use the following CPU instructions in performance-critical operations:  AVX2 FMA\n",
      "To enable them in other operations, rebuild TensorFlow with the appropriate compiler flags.\n"
     ]
    },
    {
     "data": {
      "image/png": "[encoded data removed]",
      "text/plain": "<IPython.core.display.Image object>"
     },
     "execution_count": 10,
     "metadata": {},
     "output_type": "execute_result"
    }
   ],
   "source": [
    "from keras.models import Sequential\n",
    "from keras.layers import Dense, Dropout, Conv2D, MaxPooling2D, Flatten, BatchNormalization\n",
    "\n",
    "\n",
    "\n",
    "model_1 = Sequential([\n",
    "    Conv2D(32, (3, 3), activation='relu', padding='same', input_shape=(32, 32, 3)),\n",
    "    Conv2D(32, (3, 3), activation=('relu'), padding='same'),\n",
    "    MaxPooling2D((2, 2)),\n",
    "    Flatten(),\n",
    "    Dense(128, activation='relu'),\n",
    "    Dense(10, activation='softmax'),\n",
    "])\n",
    "\n",
    "from keras.utils.vis_utils import plot_model\n",
    "\n",
    "plot_model(model_1)"
   ],
   "metadata": {
    "collapsed": false,
    "pycharm": {
     "name": "#%%\n"
    }
   }
  },
  {
   "cell_type": "code",
   "execution_count": 21,
   "outputs": [],
   "source": [
    "opt = tf.keras.optimizers.SGD(learning_rate=0.001, momentum=0.9)"
   ],
   "metadata": {
    "collapsed": false,
    "pycharm": {
     "name": "#%%\n"
    }
   }
  },
  {
   "cell_type": "code",
   "execution_count": 22,
   "outputs": [],
   "source": [
    "model_1.compile(optimizer=opt, loss='categorical_crossentropy', metrics=['accuracy'])"
   ],
   "metadata": {
    "collapsed": false,
    "pycharm": {
     "name": "#%%\n"
    }
   }
  },
  {
   "cell_type": "code",
   "execution_count": 26,
   "outputs": [
    {
     "name": "stdout",
     "output_type": "stream",
     "text": [
      "Epoch 1/20\n",
      "1485/1485 [==============================] - 42s 28ms/step - loss: 1.8413 - accuracy: 0.3445 - val_loss: 1.6293 - val_accuracy: 0.4176\n",
      "Epoch 2/20\n",
      "1485/1485 [==============================] - 45s 30ms/step - loss: 1.4990 - accuracy: 0.4688 - val_loss: 1.3925 - val_accuracy: 0.4960\n",
      "Epoch 3/20\n",
      "1485/1485 [==============================] - 46s 31ms/step - loss: 1.3461 - accuracy: 0.5237 - val_loss: 1.2781 - val_accuracy: 0.5400\n",
      "Epoch 4/20\n",
      "1485/1485 [==============================] - 46s 31ms/step - loss: 1.2168 - accuracy: 0.5705 - val_loss: 1.1588 - val_accuracy: 0.5920\n",
      "Epoch 5/20\n",
      "1485/1485 [==============================] - 46s 31ms/step - loss: 1.1140 - accuracy: 0.6104 - val_loss: 1.1280 - val_accuracy: 0.5984\n",
      "Epoch 6/20\n",
      "1485/1485 [==============================] - 47s 32ms/step - loss: 1.0250 - accuracy: 0.6417 - val_loss: 1.0865 - val_accuracy: 0.6216\n",
      "Epoch 7/20\n",
      "1485/1485 [==============================] - 52s 35ms/step - loss: 0.9468 - accuracy: 0.6688 - val_loss: 1.0375 - val_accuracy: 0.6388\n",
      "Epoch 8/20\n",
      "1485/1485 [==============================] - 55s 37ms/step - loss: 0.8706 - accuracy: 0.6977 - val_loss: 0.9938 - val_accuracy: 0.6592\n",
      "Epoch 9/20\n",
      "1485/1485 [==============================] - 52s 35ms/step - loss: 0.8021 - accuracy: 0.7223 - val_loss: 0.9979 - val_accuracy: 0.6492\n",
      "Epoch 10/20\n",
      "1485/1485 [==============================] - 51s 34ms/step - loss: 0.7338 - accuracy: 0.7446 - val_loss: 0.9926 - val_accuracy: 0.6536\n",
      "Epoch 11/20\n",
      "1485/1485 [==============================] - 54s 36ms/step - loss: 0.6681 - accuracy: 0.7672 - val_loss: 1.0251 - val_accuracy: 0.6572\n",
      "Epoch 12/20\n",
      "1485/1485 [==============================] - 55s 37ms/step - loss: 0.6036 - accuracy: 0.7916 - val_loss: 1.0116 - val_accuracy: 0.6552\n",
      "Epoch 13/20\n",
      "1485/1485 [==============================] - 55s 37ms/step - loss: 0.5376 - accuracy: 0.8137 - val_loss: 1.0397 - val_accuracy: 0.6640\n",
      "Epoch 14/20\n",
      "1485/1485 [==============================] - 56s 38ms/step - loss: 0.4723 - accuracy: 0.8393 - val_loss: 1.0618 - val_accuracy: 0.6564\n",
      "Epoch 15/20\n",
      "1485/1485 [==============================] - 60s 40ms/step - loss: 0.4094 - accuracy: 0.8592 - val_loss: 1.1423 - val_accuracy: 0.6624\n",
      "Epoch 16/20\n",
      "1485/1485 [==============================] - 60s 40ms/step - loss: 0.3501 - accuracy: 0.8821 - val_loss: 1.2015 - val_accuracy: 0.6516\n",
      "Epoch 17/20\n",
      "1485/1485 [==============================] - 61s 41ms/step - loss: 0.2947 - accuracy: 0.9020 - val_loss: 1.2290 - val_accuracy: 0.6588\n",
      "Epoch 18/20\n",
      "1485/1485 [==============================] - 60s 40ms/step - loss: 0.2395 - accuracy: 0.9216 - val_loss: 1.3496 - val_accuracy: 0.6504\n",
      "Epoch 19/20\n",
      "1485/1485 [==============================] - 61s 41ms/step - loss: 0.1931 - accuracy: 0.9376 - val_loss: 1.4593 - val_accuracy: 0.6484\n",
      "Epoch 20/20\n",
      "1485/1485 [==============================] - 60s 40ms/step - loss: 0.1531 - accuracy: 0.9521 - val_loss: 1.4834 - val_accuracy: 0.6684\n"
     ]
    },
    {
     "ename": "AttributeError",
     "evalue": "'Sequential' object has no attribute 'evaulate'",
     "output_type": "error",
     "traceback": [
      "\u001B[0;31m---------------------------------------------------------------------------\u001B[0m",
      "\u001B[0;31mAttributeError\u001B[0m                            Traceback (most recent call last)",
      "Input \u001B[0;32mIn [26]\u001B[0m, in \u001B[0;36m<module>\u001B[0;34m\u001B[0m\n\u001B[0;32m----> 1\u001B[0m \u001B[43mresult\u001B[49m\u001B[43m(\u001B[49m\u001B[43mmodel_1\u001B[49m\u001B[43m)\u001B[49m\n",
      "Input \u001B[0;32mIn [25]\u001B[0m, in \u001B[0;36mresult\u001B[0;34m(model)\u001B[0m\n\u001B[1;32m      2\u001B[0m epoch \u001B[38;5;241m=\u001B[39m \u001B[38;5;241m20\u001B[39m\n\u001B[1;32m      3\u001B[0m r \u001B[38;5;241m=\u001B[39m model\u001B[38;5;241m.\u001B[39mfit(x_train, y_train, batch_size\u001B[38;5;241m=\u001B[39m\u001B[38;5;241m32\u001B[39m, epochs\u001B[38;5;241m=\u001B[39mepoch, validation_data\u001B[38;5;241m=\u001B[39m(x_val, y_val), verbose\u001B[38;5;241m=\u001B[39m\u001B[38;5;241m1\u001B[39m)\n\u001B[0;32m----> 4\u001B[0m acc \u001B[38;5;241m=\u001B[39m \u001B[43mmodel\u001B[49m\u001B[38;5;241;43m.\u001B[39;49m\u001B[43mevaulate\u001B[49m(x_test, y_test)\n\u001B[1;32m      5\u001B[0m \u001B[38;5;28mprint\u001B[39m((acc[\u001B[38;5;241m0\u001B[39m], acc[\u001B[38;5;241m1\u001B[39m] \u001B[38;5;241m*\u001B[39m \u001B[38;5;241m100\u001B[39m))\n\u001B[1;32m      7\u001B[0m epoch_range \u001B[38;5;241m=\u001B[39m \u001B[38;5;28mrange\u001B[39m(\u001B[38;5;241m1\u001B[39m, epoch\u001B[38;5;241m+\u001B[39m\u001B[38;5;241m1\u001B[39m)\n",
      "\u001B[0;31mAttributeError\u001B[0m: 'Sequential' object has no attribute 'evaulate'"
     ]
    }
   ],
   "source": [
    "result(model_1)"
   ],
   "metadata": {
    "collapsed": false,
    "pycharm": {
     "name": "#%%\n"
    }
   }
  },
  {
   "cell_type": "code",
   "execution_count": 27,
   "outputs": [
    {
     "name": "stdout",
     "output_type": "stream",
     "text": [
      "deer : 67.6\n",
      "airplane : 30.57\n",
      "horse : 1.58\n"
     ]
    }
   ],
   "source": [
    "model_1.save('image-classification.h5')\n",
    "\n",
    "import urllib\n",
    "resource = urllib.request.urlopen(\"https://raw.githubusercontent.com/Apress/artificial-neural-networks-with-tensorflow-2/main/ch03/test01.png\")\n",
    "output = open(\"file01.jpg\", \"wb\")\n",
    "output.write(resource.read())\n",
    "\n",
    "output.close()\n",
    "predict_class(\"file01.jpg\", model_1)"
   ],
   "metadata": {
    "collapsed": false,
    "pycharm": {
     "name": "#%%\n"
    }
   }
  },
  {
   "cell_type": "code",
   "execution_count": 33,
   "outputs": [
    {
     "data": {
      "text/plain": "2620"
     },
     "execution_count": 33,
     "metadata": {},
     "output_type": "execute_result"
    }
   ],
   "source": [
    "open(\"model.json\", \"wb\").write(bytes(model_1.to_json(), 'utf8'))"
   ],
   "metadata": {
    "collapsed": false,
    "pycharm": {
     "name": "#%%\n"
    }
   }
  },
  {
   "cell_type": "code",
   "execution_count": null,
   "outputs": [],
   "source": [],
   "metadata": {
    "collapsed": false,
    "pycharm": {
     "name": "#%%\n"
    }
   }
  }
 ],
 "metadata": {
  "kernelspec": {
   "display_name": "Python 3",
   "language": "python",
   "name": "python3"
  },
  "language_info": {
   "codemirror_mode": {
    "name": "ipython",
    "version": 2
   },
   "file_extension": ".py",
   "mimetype": "text/x-python",
   "name": "python",
   "nbconvert_exporter": "python",
   "pygments_lexer": "ipython2",
   "version": "2.7.6"
  }
 },
 "nbformat": 4,
 "nbformat_minor": 0
}