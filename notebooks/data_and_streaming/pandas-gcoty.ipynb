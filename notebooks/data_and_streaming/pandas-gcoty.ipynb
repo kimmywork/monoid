{
 "cells": [
  {
   "cell_type": "code",
   "execution_count": 1,
   "metadata": {
    "collapsed": true,
    "pycharm": {
     "name": "#%%\n"
    }
   },
   "outputs": [
    {
     "data": {
      "text/plain": "                              title                                     url  \\\n0                       AO Tennis 2                    /product/ao-tennis-2   \n1    Monster Hunter World: Iceborne  /product/monster-hunter-world-iceborne   \n2                    Stories Untold                 /product/stories-untold   \n3                       To The Moon                    /product/to-the-moon   \n4            Dragon Ball Z: Kakarot          /product/dragon-ball-z-kakarot   \n..                              ...                                     ...   \n677        When The Past Was Around       /product/when-the-past-was-around   \n678   Override 2: Super Mech League   /product/override-2-super-mech-league   \n679                      Ratropolis                     /product/ratropolis   \n680          Super Meat Boy Forever         /product/super-meat-boy-forever   \n681                        Wingspan                       /product/wingspan   \n\n     releaseDate                                          platforms  \n0      January 9                                               [PC]  \n1      January 9                                               [PC]  \n2     January 16                                           [Switch]  \n3     January 16                                       [Switch, PC]  \n4     January 17                      [PlayStation 4, Xbox One, PC]  \n..           ...                                                ...  \n677  December 18                      [PlayStation 4, Xbox One, PC]  \n678  December 22  [PlayStation 5, Xbox Series X/S, PlayStation 4...  \n679  December 22                                               [PC]  \n680  December 23                                       [Switch, PC]  \n681  December 29                                           [Switch]  \n\n[682 rows x 4 columns]",
      "text/html": "<div>\n<style scoped>\n    .dataframe tbody tr th:only-of-type {\n        vertical-align: middle;\n    }\n\n    .dataframe tbody tr th {\n        vertical-align: top;\n    }\n\n    .dataframe thead th {\n        text-align: right;\n    }\n</style>\n<table border=\"1\" class=\"dataframe\">\n  <thead>\n    <tr style=\"text-align: right;\">\n      <th></th>\n      <th>title</th>\n      <th>url</th>\n      <th>releaseDate</th>\n      <th>platforms</th>\n    </tr>\n  </thead>\n  <tbody>\n    <tr>\n      <th>0</th>\n      <td>AO Tennis 2</td>\n      <td>/product/ao-tennis-2</td>\n      <td>January 9</td>\n      <td>[PC]</td>\n    </tr>\n    <tr>\n      <th>1</th>\n      <td>Monster Hunter World: Iceborne</td>\n      <td>/product/monster-hunter-world-iceborne</td>\n      <td>January 9</td>\n      <td>[PC]</td>\n    </tr>\n    <tr>\n      <th>2</th>\n      <td>Stories Untold</td>\n      <td>/product/stories-untold</td>\n      <td>January 16</td>\n      <td>[Switch]</td>\n    </tr>\n    <tr>\n      <th>3</th>\n      <td>To The Moon</td>\n      <td>/product/to-the-moon</td>\n      <td>January 16</td>\n      <td>[Switch, PC]</td>\n    </tr>\n    <tr>\n      <th>4</th>\n      <td>Dragon Ball Z: Kakarot</td>\n      <td>/product/dragon-ball-z-kakarot</td>\n      <td>January 17</td>\n      <td>[PlayStation 4, Xbox One, PC]</td>\n    </tr>\n    <tr>\n      <th>...</th>\n      <td>...</td>\n      <td>...</td>\n      <td>...</td>\n      <td>...</td>\n    </tr>\n    <tr>\n      <th>677</th>\n      <td>When The Past Was Around</td>\n      <td>/product/when-the-past-was-around</td>\n      <td>December 18</td>\n      <td>[PlayStation 4, Xbox One, PC]</td>\n    </tr>\n    <tr>\n      <th>678</th>\n      <td>Override 2: Super Mech League</td>\n      <td>/product/override-2-super-mech-league</td>\n      <td>December 22</td>\n      <td>[PlayStation 5, Xbox Series X/S, PlayStation 4...</td>\n    </tr>\n    <tr>\n      <th>679</th>\n      <td>Ratropolis</td>\n      <td>/product/ratropolis</td>\n      <td>December 22</td>\n      <td>[PC]</td>\n    </tr>\n    <tr>\n      <th>680</th>\n      <td>Super Meat Boy Forever</td>\n      <td>/product/super-meat-boy-forever</td>\n      <td>December 23</td>\n      <td>[Switch, PC]</td>\n    </tr>\n    <tr>\n      <th>681</th>\n      <td>Wingspan</td>\n      <td>/product/wingspan</td>\n      <td>December 29</td>\n      <td>[Switch]</td>\n    </tr>\n  </tbody>\n</table>\n<p>682 rows × 4 columns</p>\n</div>"
     },
     "execution_count": 1,
     "metadata": {},
     "output_type": "execute_result"
    }
   ],
   "source": [
    "import pandas\n",
    "import pandas as pd\n",
    "import numpy as np\n",
    "\n",
    "df = pd.read_json('./data/2020.json')\n",
    "\n",
    "df"
   ]
  },
  {
   "cell_type": "code",
   "execution_count": 2,
   "outputs": [
    {
     "data": {
      "text/plain": "0    1.0\n1    3.0\n2    5.0\n3    NaN\n4    6.0\n5    8.0\ndtype: float64"
     },
     "execution_count": 2,
     "metadata": {},
     "output_type": "execute_result"
    }
   ],
   "source": [
    "s = pd.Series([1, 3, 5, np.nan, 6, 8])\n",
    "\n",
    "s"
   ],
   "metadata": {
    "collapsed": false,
    "pycharm": {
     "name": "#%%\n"
    }
   }
  },
  {
   "cell_type": "code",
   "execution_count": 3,
   "outputs": [
    {
     "data": {
      "text/plain": "DatetimeIndex(['2013-01-01', '2013-01-02', '2013-01-03', '2013-01-04',\n               '2013-01-05', '2013-01-06'],\n              dtype='datetime64[ns]', freq='D')"
     },
     "execution_count": 3,
     "metadata": {},
     "output_type": "execute_result"
    }
   ],
   "source": [
    "dates = pd.date_range('20130101', periods=6)\n",
    "\n",
    "dates"
   ],
   "metadata": {
    "collapsed": false,
    "pycharm": {
     "name": "#%%\n"
    }
   }
  },
  {
   "cell_type": "code",
   "execution_count": 4,
   "outputs": [
    {
     "data": {
      "text/plain": "title          object\nurl            object\nreleaseDate    object\nplatforms      object\ndtype: object"
     },
     "execution_count": 4,
     "metadata": {},
     "output_type": "execute_result"
    }
   ],
   "source": [
    "df.dtypes"
   ],
   "metadata": {
    "collapsed": false,
    "pycharm": {
     "name": "#%%\n"
    }
   }
  },
  {
   "cell_type": "code",
   "execution_count": 5,
   "outputs": [
    {
     "data": {
      "text/plain": "                            title                                     url  \\\n0                     AO Tennis 2                    /product/ao-tennis-2   \n1  Monster Hunter World: Iceborne  /product/monster-hunter-world-iceborne   \n2                  Stories Untold                 /product/stories-untold   \n3                     To The Moon                    /product/to-the-moon   \n4          Dragon Ball Z: Kakarot          /product/dragon-ball-z-kakarot   \n\n  releaseDate                      platforms  \n0   January 9                           [PC]  \n1   January 9                           [PC]  \n2  January 16                       [Switch]  \n3  January 16                   [Switch, PC]  \n4  January 17  [PlayStation 4, Xbox One, PC]  ",
      "text/html": "<div>\n<style scoped>\n    .dataframe tbody tr th:only-of-type {\n        vertical-align: middle;\n    }\n\n    .dataframe tbody tr th {\n        vertical-align: top;\n    }\n\n    .dataframe thead th {\n        text-align: right;\n    }\n</style>\n<table border=\"1\" class=\"dataframe\">\n  <thead>\n    <tr style=\"text-align: right;\">\n      <th></th>\n      <th>title</th>\n      <th>url</th>\n      <th>releaseDate</th>\n      <th>platforms</th>\n    </tr>\n  </thead>\n  <tbody>\n    <tr>\n      <th>0</th>\n      <td>AO Tennis 2</td>\n      <td>/product/ao-tennis-2</td>\n      <td>January 9</td>\n      <td>[PC]</td>\n    </tr>\n    <tr>\n      <th>1</th>\n      <td>Monster Hunter World: Iceborne</td>\n      <td>/product/monster-hunter-world-iceborne</td>\n      <td>January 9</td>\n      <td>[PC]</td>\n    </tr>\n    <tr>\n      <th>2</th>\n      <td>Stories Untold</td>\n      <td>/product/stories-untold</td>\n      <td>January 16</td>\n      <td>[Switch]</td>\n    </tr>\n    <tr>\n      <th>3</th>\n      <td>To The Moon</td>\n      <td>/product/to-the-moon</td>\n      <td>January 16</td>\n      <td>[Switch, PC]</td>\n    </tr>\n    <tr>\n      <th>4</th>\n      <td>Dragon Ball Z: Kakarot</td>\n      <td>/product/dragon-ball-z-kakarot</td>\n      <td>January 17</td>\n      <td>[PlayStation 4, Xbox One, PC]</td>\n    </tr>\n  </tbody>\n</table>\n</div>"
     },
     "execution_count": 5,
     "metadata": {},
     "output_type": "execute_result"
    }
   ],
   "source": [
    "df.head()"
   ],
   "metadata": {
    "collapsed": false,
    "pycharm": {
     "name": "#%%\n"
    }
   }
  },
  {
   "cell_type": "code",
   "execution_count": 6,
   "outputs": [
    {
     "data": {
      "text/plain": "RangeIndex(start=0, stop=682, step=1)"
     },
     "execution_count": 6,
     "metadata": {},
     "output_type": "execute_result"
    }
   ],
   "source": [
    "df.index"
   ],
   "metadata": {
    "collapsed": false,
    "pycharm": {
     "name": "#%%\n"
    }
   }
  },
  {
   "cell_type": "code",
   "execution_count": 7,
   "outputs": [
    {
     "data": {
      "text/plain": "Index(['title', 'url', 'releaseDate', 'platforms'], dtype='object')"
     },
     "execution_count": 7,
     "metadata": {},
     "output_type": "execute_result"
    }
   ],
   "source": [
    "df.columns"
   ],
   "metadata": {
    "collapsed": false,
    "pycharm": {
     "name": "#%%\n"
    }
   }
  },
  {
   "cell_type": "code",
   "execution_count": 8,
   "outputs": [
    {
     "data": {
      "text/plain": "                                     title                        url  \\\ncount                                  682                        682   \nunique                                 571                        571   \ntop     The Elder Scrolls Online: Greymoor  /product/dead-by-daylight   \nfreq                                     3                          3   \n\n        releaseDate platforms  \ncount           682       682  \nunique          189        74  \ntop     November 10      [PC]  \nfreq             39       118  ",
      "text/html": "<div>\n<style scoped>\n    .dataframe tbody tr th:only-of-type {\n        vertical-align: middle;\n    }\n\n    .dataframe tbody tr th {\n        vertical-align: top;\n    }\n\n    .dataframe thead th {\n        text-align: right;\n    }\n</style>\n<table border=\"1\" class=\"dataframe\">\n  <thead>\n    <tr style=\"text-align: right;\">\n      <th></th>\n      <th>title</th>\n      <th>url</th>\n      <th>releaseDate</th>\n      <th>platforms</th>\n    </tr>\n  </thead>\n  <tbody>\n    <tr>\n      <th>count</th>\n      <td>682</td>\n      <td>682</td>\n      <td>682</td>\n      <td>682</td>\n    </tr>\n    <tr>\n      <th>unique</th>\n      <td>571</td>\n      <td>571</td>\n      <td>189</td>\n      <td>74</td>\n    </tr>\n    <tr>\n      <th>top</th>\n      <td>The Elder Scrolls Online: Greymoor</td>\n      <td>/product/dead-by-daylight</td>\n      <td>November 10</td>\n      <td>[PC]</td>\n    </tr>\n    <tr>\n      <th>freq</th>\n      <td>3</td>\n      <td>3</td>\n      <td>39</td>\n      <td>118</td>\n    </tr>\n  </tbody>\n</table>\n</div>"
     },
     "execution_count": 8,
     "metadata": {},
     "output_type": "execute_result"
    }
   ],
   "source": [
    "df.describe()"
   ],
   "metadata": {
    "collapsed": false,
    "pycharm": {
     "name": "#%%\n"
    }
   }
  },
  {
   "cell_type": "code",
   "execution_count": 9,
   "outputs": [
    {
     "data": {
      "text/plain": "                              0                                       1    \\\ntitle                 AO Tennis 2          Monster Hunter World: Iceborne   \nurl          /product/ao-tennis-2  /product/monster-hunter-world-iceborne   \nreleaseDate             January 9                               January 9   \nplatforms                    [PC]                                    [PC]   \n\n                                 2                     3    \\\ntitle                 Stories Untold           To The Moon   \nurl          /product/stories-untold  /product/to-the-moon   \nreleaseDate               January 16            January 16   \nplatforms                   [Switch]          [Switch, PC]   \n\n                                        4    \\\ntitle                Dragon Ball Z: Kakarot   \nurl          /product/dragon-ball-z-kakarot   \nreleaseDate                      January 17   \nplatforms     [PlayStation 4, Xbox One, PC]   \n\n                                           5                6    \\\ntitle                Tokyo Mirage Sessions #FE           Temtem   \nurl          /product/tokyo-mirage-sessions-fe  /product/temtem   \nreleaseDate                         January 17       January 21   \nplatforms                             [Switch]             [PC]   \n\n                                         7    \\\ntitle                The Sims 4: Tiny Living   \nurl          /product/the-sims-4-tiny-living   \nreleaseDate                       January 21   \nplatforms                               [PC]   \n\n                                             8                   9    ...  \\\ntitle                 Kingdom Hearts III Re Mind              Mosaic  ...   \nurl          /product/kingdom-hearts-iii-re-mind     /product/mosaic  ...   \nreleaseDate                           January 23          January 23  ...   \nplatforms                        [PlayStation 4]  [Xbox One, Switch]  ...   \n\n                             672                                 673  \\\ntitle                 Grindstone           Marvel Realm Of Champions   \nurl          /product/grindstone  /product/marvel-realm-of-champions   \nreleaseDate          December 15                         December 16   \nplatforms               [Switch]                      [iOS, Android]   \n\n                                       674                        675  \\\ntitle                            MXGP 2020           Airborne Kingdom   \nurl                     /product/mxgp-2020  /product/airborne-kingdom   \nreleaseDate                    December 16                December 17   \nplatforms    [PlayStation 4, Xbox One, PC]                  [PC, Mac]   \n\n                               676                                677  \\\ntitle                 Unto the End           When The Past Was Around   \nurl          /product/unto-the-end  /product/when-the-past-was-around   \nreleaseDate            December 17                        December 18   \nplatforms                 [Switch]      [PlayStation 4, Xbox One, PC]   \n\n                                                           678  \\\ntitle                            Override 2: Super Mech League   \nurl                      /product/override-2-super-mech-league   \nreleaseDate                                        December 22   \nplatforms    [PlayStation 5, Xbox Series X/S, PlayStation 4...   \n\n                             679                              680  \\\ntitle                 Ratropolis           Super Meat Boy Forever   \nurl          /product/ratropolis  /product/super-meat-boy-forever   \nreleaseDate          December 22                      December 23   \nplatforms                   [PC]                     [Switch, PC]   \n\n                           681  \ntitle                 Wingspan  \nurl          /product/wingspan  \nreleaseDate        December 29  \nplatforms             [Switch]  \n\n[4 rows x 682 columns]",
      "text/html": "<div>\n<style scoped>\n    .dataframe tbody tr th:only-of-type {\n        vertical-align: middle;\n    }\n\n    .dataframe tbody tr th {\n        vertical-align: top;\n    }\n\n    .dataframe thead th {\n        text-align: right;\n    }\n</style>\n<table border=\"1\" class=\"dataframe\">\n  <thead>\n    <tr style=\"text-align: right;\">\n      <th></th>\n      <th>0</th>\n      <th>1</th>\n      <th>2</th>\n      <th>3</th>\n      <th>4</th>\n      <th>5</th>\n      <th>6</th>\n      <th>7</th>\n      <th>8</th>\n      <th>9</th>\n      <th>...</th>\n      <th>672</th>\n      <th>673</th>\n      <th>674</th>\n      <th>675</th>\n      <th>676</th>\n      <th>677</th>\n      <th>678</th>\n      <th>679</th>\n      <th>680</th>\n      <th>681</th>\n    </tr>\n  </thead>\n  <tbody>\n    <tr>\n      <th>title</th>\n      <td>AO Tennis 2</td>\n      <td>Monster Hunter World: Iceborne</td>\n      <td>Stories Untold</td>\n      <td>To The Moon</td>\n      <td>Dragon Ball Z: Kakarot</td>\n      <td>Tokyo Mirage Sessions #FE</td>\n      <td>Temtem</td>\n      <td>The Sims 4: Tiny Living</td>\n      <td>Kingdom Hearts III Re Mind</td>\n      <td>Mosaic</td>\n      <td>...</td>\n      <td>Grindstone</td>\n      <td>Marvel Realm Of Champions</td>\n      <td>MXGP 2020</td>\n      <td>Airborne Kingdom</td>\n      <td>Unto the End</td>\n      <td>When The Past Was Around</td>\n      <td>Override 2: Super Mech League</td>\n      <td>Ratropolis</td>\n      <td>Super Meat Boy Forever</td>\n      <td>Wingspan</td>\n    </tr>\n    <tr>\n      <th>url</th>\n      <td>/product/ao-tennis-2</td>\n      <td>/product/monster-hunter-world-iceborne</td>\n      <td>/product/stories-untold</td>\n      <td>/product/to-the-moon</td>\n      <td>/product/dragon-ball-z-kakarot</td>\n      <td>/product/tokyo-mirage-sessions-fe</td>\n      <td>/product/temtem</td>\n      <td>/product/the-sims-4-tiny-living</td>\n      <td>/product/kingdom-hearts-iii-re-mind</td>\n      <td>/product/mosaic</td>\n      <td>...</td>\n      <td>/product/grindstone</td>\n      <td>/product/marvel-realm-of-champions</td>\n      <td>/product/mxgp-2020</td>\n      <td>/product/airborne-kingdom</td>\n      <td>/product/unto-the-end</td>\n      <td>/product/when-the-past-was-around</td>\n      <td>/product/override-2-super-mech-league</td>\n      <td>/product/ratropolis</td>\n      <td>/product/super-meat-boy-forever</td>\n      <td>/product/wingspan</td>\n    </tr>\n    <tr>\n      <th>releaseDate</th>\n      <td>January 9</td>\n      <td>January 9</td>\n      <td>January 16</td>\n      <td>January 16</td>\n      <td>January 17</td>\n      <td>January 17</td>\n      <td>January 21</td>\n      <td>January 21</td>\n      <td>January 23</td>\n      <td>January 23</td>\n      <td>...</td>\n      <td>December 15</td>\n      <td>December 16</td>\n      <td>December 16</td>\n      <td>December 17</td>\n      <td>December 17</td>\n      <td>December 18</td>\n      <td>December 22</td>\n      <td>December 22</td>\n      <td>December 23</td>\n      <td>December 29</td>\n    </tr>\n    <tr>\n      <th>platforms</th>\n      <td>[PC]</td>\n      <td>[PC]</td>\n      <td>[Switch]</td>\n      <td>[Switch, PC]</td>\n      <td>[PlayStation 4, Xbox One, PC]</td>\n      <td>[Switch]</td>\n      <td>[PC]</td>\n      <td>[PC]</td>\n      <td>[PlayStation 4]</td>\n      <td>[Xbox One, Switch]</td>\n      <td>...</td>\n      <td>[Switch]</td>\n      <td>[iOS, Android]</td>\n      <td>[PlayStation 4, Xbox One, PC]</td>\n      <td>[PC, Mac]</td>\n      <td>[Switch]</td>\n      <td>[PlayStation 4, Xbox One, PC]</td>\n      <td>[PlayStation 5, Xbox Series X/S, PlayStation 4...</td>\n      <td>[PC]</td>\n      <td>[Switch, PC]</td>\n      <td>[Switch]</td>\n    </tr>\n  </tbody>\n</table>\n<p>4 rows × 682 columns</p>\n</div>"
     },
     "execution_count": 9,
     "metadata": {},
     "output_type": "execute_result"
    }
   ],
   "source": [
    "df.T"
   ],
   "metadata": {
    "collapsed": false,
    "pycharm": {
     "name": "#%%\n"
    }
   }
  },
  {
   "cell_type": "code",
   "execution_count": 10,
   "outputs": [
    {
     "data": {
      "text/plain": "0                         AO Tennis 2\n1      Monster Hunter World: Iceborne\n2                      Stories Untold\n3                         To The Moon\n4              Dragon Ball Z: Kakarot\n                    ...              \n677          When The Past Was Around\n678     Override 2: Super Mech League\n679                        Ratropolis\n680            Super Meat Boy Forever\n681                          Wingspan\nName: title, Length: 682, dtype: object"
     },
     "execution_count": 10,
     "metadata": {},
     "output_type": "execute_result"
    }
   ],
   "source": [
    "df['title']"
   ],
   "metadata": {
    "collapsed": false,
    "pycharm": {
     "name": "#%%\n"
    }
   }
  },
  {
   "cell_type": "code",
   "execution_count": 11,
   "outputs": [
    {
     "data": {
      "text/plain": "title                  Tokyo Mirage Sessions #FE\nurl            /product/tokyo-mirage-sessions-fe\nreleaseDate                           January 17\nplatforms                               [Switch]\nName: 5, dtype: object"
     },
     "execution_count": 11,
     "metadata": {},
     "output_type": "execute_result"
    }
   ],
   "source": [
    "df.iloc[5]"
   ],
   "metadata": {
    "collapsed": false,
    "pycharm": {
     "name": "#%%\n"
    }
   }
  },
  {
   "cell_type": "code",
   "execution_count": 12,
   "outputs": [
    {
     "data": {
      "text/plain": "['PC']"
     },
     "execution_count": 12,
     "metadata": {},
     "output_type": "execute_result"
    }
   ],
   "source": [
    "df.iloc[1]['platforms']"
   ],
   "metadata": {
    "collapsed": false,
    "pycharm": {
     "name": "#%%\n"
    }
   }
  },
  {
   "cell_type": "code",
   "execution_count": 13,
   "outputs": [
    {
     "data": {
      "text/plain": "1"
     },
     "execution_count": 13,
     "metadata": {},
     "output_type": "execute_result"
    }
   ],
   "source": [
    "len(df.iloc[1]['platforms'])"
   ],
   "metadata": {
    "collapsed": false,
    "pycharm": {
     "name": "#%%\n"
    }
   }
  },
  {
   "cell_type": "code",
   "execution_count": 14,
   "outputs": [
    {
     "data": {
      "text/plain": "0        [January, 9]\n1        [January, 9]\n2       [January, 16]\n3       [January, 16]\n4       [January, 17]\n            ...      \n677    [December, 18]\n678    [December, 22]\n679    [December, 22]\n680    [December, 23]\n681    [December, 29]\nName: releaseDate, Length: 682, dtype: object"
     },
     "execution_count": 14,
     "metadata": {},
     "output_type": "execute_result"
    }
   ],
   "source": [
    "df['releaseDate'].str.split(' ')"
   ],
   "metadata": {
    "collapsed": false,
    "pycharm": {
     "name": "#%%\n"
    }
   }
  },
  {
   "cell_type": "code",
   "execution_count": 15,
   "outputs": [
    {
     "data": {
      "text/plain": "Timestamp('2020-01-23 00:00:00')"
     },
     "execution_count": 15,
     "metadata": {},
     "output_type": "execute_result"
    }
   ],
   "source": [
    "pd.to_datetime('January 23 2020')"
   ],
   "metadata": {
    "collapsed": false,
    "pycharm": {
     "name": "#%%\n"
    }
   }
  },
  {
   "cell_type": "code",
   "execution_count": 16,
   "outputs": [
    {
     "data": {
      "text/plain": "2728"
     },
     "execution_count": 16,
     "metadata": {},
     "output_type": "execute_result"
    }
   ],
   "source": [
    "df.size"
   ],
   "metadata": {
    "collapsed": false,
    "pycharm": {
     "name": "#%%\n"
    }
   }
  },
  {
   "cell_type": "code",
   "execution_count": 17,
   "outputs": [
    {
     "data": {
      "text/plain": "682"
     },
     "execution_count": 17,
     "metadata": {},
     "output_type": "execute_result"
    }
   ],
   "source": [
    "len(df)"
   ],
   "metadata": {
    "collapsed": false,
    "pycharm": {
     "name": "#%%\n"
    }
   }
  },
  {
   "cell_type": "code",
   "execution_count": 18,
   "outputs": [
    {
     "data": {
      "text/plain": "0      2020\n1      2020\n2      2020\n3      2020\n4      2020\n       ... \n677    2020\n678    2020\n679    2020\n680    2020\n681    2020\nLength: 682, dtype: object"
     },
     "execution_count": 18,
     "metadata": {},
     "output_type": "execute_result"
    }
   ],
   "source": [
    "pd.Series(['2020'] * len(df))"
   ],
   "metadata": {
    "collapsed": false,
    "pycharm": {
     "name": "#%%\n"
    }
   }
  },
  {
   "cell_type": "code",
   "execution_count": 19,
   "outputs": [
    {
     "data": {
      "text/plain": "                              title                                     url  \\\n0                       AO Tennis 2                    /product/ao-tennis-2   \n1    Monster Hunter World: Iceborne  /product/monster-hunter-world-iceborne   \n2                    Stories Untold                 /product/stories-untold   \n3                       To The Moon                    /product/to-the-moon   \n4            Dragon Ball Z: Kakarot          /product/dragon-ball-z-kakarot   \n..                              ...                                     ...   \n677        When The Past Was Around       /product/when-the-past-was-around   \n678   Override 2: Super Mech League   /product/override-2-super-mech-league   \n679                      Ratropolis                     /product/ratropolis   \n680          Super Meat Boy Forever         /product/super-meat-boy-forever   \n681                        Wingspan                       /product/wingspan   \n\n          releaseDate                                          platforms  \n0      January 9 2020                                               [PC]  \n1      January 9 2020                                               [PC]  \n2     January 16 2020                                           [Switch]  \n3     January 16 2020                                       [Switch, PC]  \n4     January 17 2020                      [PlayStation 4, Xbox One, PC]  \n..                ...                                                ...  \n677  December 18 2020                      [PlayStation 4, Xbox One, PC]  \n678  December 22 2020  [PlayStation 5, Xbox Series X/S, PlayStation 4...  \n679  December 22 2020                                               [PC]  \n680  December 23 2020                                       [Switch, PC]  \n681  December 29 2020                                           [Switch]  \n\n[682 rows x 4 columns]",
      "text/html": "<div>\n<style scoped>\n    .dataframe tbody tr th:only-of-type {\n        vertical-align: middle;\n    }\n\n    .dataframe tbody tr th {\n        vertical-align: top;\n    }\n\n    .dataframe thead th {\n        text-align: right;\n    }\n</style>\n<table border=\"1\" class=\"dataframe\">\n  <thead>\n    <tr style=\"text-align: right;\">\n      <th></th>\n      <th>title</th>\n      <th>url</th>\n      <th>releaseDate</th>\n      <th>platforms</th>\n    </tr>\n  </thead>\n  <tbody>\n    <tr>\n      <th>0</th>\n      <td>AO Tennis 2</td>\n      <td>/product/ao-tennis-2</td>\n      <td>January 9 2020</td>\n      <td>[PC]</td>\n    </tr>\n    <tr>\n      <th>1</th>\n      <td>Monster Hunter World: Iceborne</td>\n      <td>/product/monster-hunter-world-iceborne</td>\n      <td>January 9 2020</td>\n      <td>[PC]</td>\n    </tr>\n    <tr>\n      <th>2</th>\n      <td>Stories Untold</td>\n      <td>/product/stories-untold</td>\n      <td>January 16 2020</td>\n      <td>[Switch]</td>\n    </tr>\n    <tr>\n      <th>3</th>\n      <td>To The Moon</td>\n      <td>/product/to-the-moon</td>\n      <td>January 16 2020</td>\n      <td>[Switch, PC]</td>\n    </tr>\n    <tr>\n      <th>4</th>\n      <td>Dragon Ball Z: Kakarot</td>\n      <td>/product/dragon-ball-z-kakarot</td>\n      <td>January 17 2020</td>\n      <td>[PlayStation 4, Xbox One, PC]</td>\n    </tr>\n    <tr>\n      <th>...</th>\n      <td>...</td>\n      <td>...</td>\n      <td>...</td>\n      <td>...</td>\n    </tr>\n    <tr>\n      <th>677</th>\n      <td>When The Past Was Around</td>\n      <td>/product/when-the-past-was-around</td>\n      <td>December 18 2020</td>\n      <td>[PlayStation 4, Xbox One, PC]</td>\n    </tr>\n    <tr>\n      <th>678</th>\n      <td>Override 2: Super Mech League</td>\n      <td>/product/override-2-super-mech-league</td>\n      <td>December 22 2020</td>\n      <td>[PlayStation 5, Xbox Series X/S, PlayStation 4...</td>\n    </tr>\n    <tr>\n      <th>679</th>\n      <td>Ratropolis</td>\n      <td>/product/ratropolis</td>\n      <td>December 22 2020</td>\n      <td>[PC]</td>\n    </tr>\n    <tr>\n      <th>680</th>\n      <td>Super Meat Boy Forever</td>\n      <td>/product/super-meat-boy-forever</td>\n      <td>December 23 2020</td>\n      <td>[Switch, PC]</td>\n    </tr>\n    <tr>\n      <th>681</th>\n      <td>Wingspan</td>\n      <td>/product/wingspan</td>\n      <td>December 29 2020</td>\n      <td>[Switch]</td>\n    </tr>\n  </tbody>\n</table>\n<p>682 rows × 4 columns</p>\n</div>"
     },
     "execution_count": 19,
     "metadata": {},
     "output_type": "execute_result"
    }
   ],
   "source": [
    "df['releaseDate']=df['releaseDate'].str.cat(pd.Series(['2020'] * len(df)), sep=' ')\n",
    "\n",
    "df"
   ],
   "metadata": {
    "collapsed": false,
    "pycharm": {
     "name": "#%%\n"
    }
   }
  },
  {
   "cell_type": "code",
   "execution_count": 20,
   "outputs": [],
   "source": [
    "df['date'] = pd.to_datetime(df['releaseDate'])"
   ],
   "metadata": {
    "collapsed": false,
    "pycharm": {
     "name": "#%%\n"
    }
   }
  },
  {
   "cell_type": "code",
   "execution_count": 21,
   "outputs": [
    {
     "data": {
      "text/plain": "                              title                                     url  \\\n0                       AO Tennis 2                    /product/ao-tennis-2   \n1    Monster Hunter World: Iceborne  /product/monster-hunter-world-iceborne   \n2                    Stories Untold                 /product/stories-untold   \n3                       To The Moon                    /product/to-the-moon   \n4            Dragon Ball Z: Kakarot          /product/dragon-ball-z-kakarot   \n..                              ...                                     ...   \n677        When The Past Was Around       /product/when-the-past-was-around   \n678   Override 2: Super Mech League   /product/override-2-super-mech-league   \n679                      Ratropolis                     /product/ratropolis   \n680          Super Meat Boy Forever         /product/super-meat-boy-forever   \n681                        Wingspan                       /product/wingspan   \n\n          releaseDate                                          platforms  \\\n0      January 9 2020                                               [PC]   \n1      January 9 2020                                               [PC]   \n2     January 16 2020                                           [Switch]   \n3     January 16 2020                                       [Switch, PC]   \n4     January 17 2020                      [PlayStation 4, Xbox One, PC]   \n..                ...                                                ...   \n677  December 18 2020                      [PlayStation 4, Xbox One, PC]   \n678  December 22 2020  [PlayStation 5, Xbox Series X/S, PlayStation 4...   \n679  December 22 2020                                               [PC]   \n680  December 23 2020                                       [Switch, PC]   \n681  December 29 2020                                           [Switch]   \n\n          date  \n0   2020-01-09  \n1   2020-01-09  \n2   2020-01-16  \n3   2020-01-16  \n4   2020-01-17  \n..         ...  \n677 2020-12-18  \n678 2020-12-22  \n679 2020-12-22  \n680 2020-12-23  \n681 2020-12-29  \n\n[682 rows x 5 columns]",
      "text/html": "<div>\n<style scoped>\n    .dataframe tbody tr th:only-of-type {\n        vertical-align: middle;\n    }\n\n    .dataframe tbody tr th {\n        vertical-align: top;\n    }\n\n    .dataframe thead th {\n        text-align: right;\n    }\n</style>\n<table border=\"1\" class=\"dataframe\">\n  <thead>\n    <tr style=\"text-align: right;\">\n      <th></th>\n      <th>title</th>\n      <th>url</th>\n      <th>releaseDate</th>\n      <th>platforms</th>\n      <th>date</th>\n    </tr>\n  </thead>\n  <tbody>\n    <tr>\n      <th>0</th>\n      <td>AO Tennis 2</td>\n      <td>/product/ao-tennis-2</td>\n      <td>January 9 2020</td>\n      <td>[PC]</td>\n      <td>2020-01-09</td>\n    </tr>\n    <tr>\n      <th>1</th>\n      <td>Monster Hunter World: Iceborne</td>\n      <td>/product/monster-hunter-world-iceborne</td>\n      <td>January 9 2020</td>\n      <td>[PC]</td>\n      <td>2020-01-09</td>\n    </tr>\n    <tr>\n      <th>2</th>\n      <td>Stories Untold</td>\n      <td>/product/stories-untold</td>\n      <td>January 16 2020</td>\n      <td>[Switch]</td>\n      <td>2020-01-16</td>\n    </tr>\n    <tr>\n      <th>3</th>\n      <td>To The Moon</td>\n      <td>/product/to-the-moon</td>\n      <td>January 16 2020</td>\n      <td>[Switch, PC]</td>\n      <td>2020-01-16</td>\n    </tr>\n    <tr>\n      <th>4</th>\n      <td>Dragon Ball Z: Kakarot</td>\n      <td>/product/dragon-ball-z-kakarot</td>\n      <td>January 17 2020</td>\n      <td>[PlayStation 4, Xbox One, PC]</td>\n      <td>2020-01-17</td>\n    </tr>\n    <tr>\n      <th>...</th>\n      <td>...</td>\n      <td>...</td>\n      <td>...</td>\n      <td>...</td>\n      <td>...</td>\n    </tr>\n    <tr>\n      <th>677</th>\n      <td>When The Past Was Around</td>\n      <td>/product/when-the-past-was-around</td>\n      <td>December 18 2020</td>\n      <td>[PlayStation 4, Xbox One, PC]</td>\n      <td>2020-12-18</td>\n    </tr>\n    <tr>\n      <th>678</th>\n      <td>Override 2: Super Mech League</td>\n      <td>/product/override-2-super-mech-league</td>\n      <td>December 22 2020</td>\n      <td>[PlayStation 5, Xbox Series X/S, PlayStation 4...</td>\n      <td>2020-12-22</td>\n    </tr>\n    <tr>\n      <th>679</th>\n      <td>Ratropolis</td>\n      <td>/product/ratropolis</td>\n      <td>December 22 2020</td>\n      <td>[PC]</td>\n      <td>2020-12-22</td>\n    </tr>\n    <tr>\n      <th>680</th>\n      <td>Super Meat Boy Forever</td>\n      <td>/product/super-meat-boy-forever</td>\n      <td>December 23 2020</td>\n      <td>[Switch, PC]</td>\n      <td>2020-12-23</td>\n    </tr>\n    <tr>\n      <th>681</th>\n      <td>Wingspan</td>\n      <td>/product/wingspan</td>\n      <td>December 29 2020</td>\n      <td>[Switch]</td>\n      <td>2020-12-29</td>\n    </tr>\n  </tbody>\n</table>\n<p>682 rows × 5 columns</p>\n</div>"
     },
     "execution_count": 21,
     "metadata": {},
     "output_type": "execute_result"
    }
   ],
   "source": [
    "df"
   ],
   "metadata": {
    "collapsed": false,
    "pycharm": {
     "name": "#%%\n"
    }
   }
  },
  {
   "cell_type": "code",
   "execution_count": 22,
   "outputs": [
    {
     "name": "stderr",
     "output_type": "stream",
     "text": [
      "/var/folders/0k/5497n5x55855vn0zx9hb__rc0000gq/T/ipykernel_92189/1652558158.py:1: FutureWarning: Treating datetime data as categorical rather than numeric in `.describe` is deprecated and will be removed in a future version of pandas. Specify `datetime_is_numeric=True` to silence this warning and adopt the future behavior now.\n",
      "  df.describe()\n"
     ]
    },
    {
     "data": {
      "text/plain": "                                     title                        url  \\\ncount                                  682                        682   \nunique                                 571                        571   \ntop     The Elder Scrolls Online: Greymoor  /product/dead-by-daylight   \nfreq                                     3                          3   \nfirst                                  NaN                        NaN   \nlast                                   NaN                        NaN   \n\n             releaseDate platforms                 date  \ncount                682       682                  682  \nunique               189        74                  189  \ntop     November 10 2020      [PC]  2020-11-10 00:00:00  \nfreq                  39       118                   39  \nfirst                NaN       NaN  2020-01-09 00:00:00  \nlast                 NaN       NaN  2020-12-29 00:00:00  ",
      "text/html": "<div>\n<style scoped>\n    .dataframe tbody tr th:only-of-type {\n        vertical-align: middle;\n    }\n\n    .dataframe tbody tr th {\n        vertical-align: top;\n    }\n\n    .dataframe thead th {\n        text-align: right;\n    }\n</style>\n<table border=\"1\" class=\"dataframe\">\n  <thead>\n    <tr style=\"text-align: right;\">\n      <th></th>\n      <th>title</th>\n      <th>url</th>\n      <th>releaseDate</th>\n      <th>platforms</th>\n      <th>date</th>\n    </tr>\n  </thead>\n  <tbody>\n    <tr>\n      <th>count</th>\n      <td>682</td>\n      <td>682</td>\n      <td>682</td>\n      <td>682</td>\n      <td>682</td>\n    </tr>\n    <tr>\n      <th>unique</th>\n      <td>571</td>\n      <td>571</td>\n      <td>189</td>\n      <td>74</td>\n      <td>189</td>\n    </tr>\n    <tr>\n      <th>top</th>\n      <td>The Elder Scrolls Online: Greymoor</td>\n      <td>/product/dead-by-daylight</td>\n      <td>November 10 2020</td>\n      <td>[PC]</td>\n      <td>2020-11-10 00:00:00</td>\n    </tr>\n    <tr>\n      <th>freq</th>\n      <td>3</td>\n      <td>3</td>\n      <td>39</td>\n      <td>118</td>\n      <td>39</td>\n    </tr>\n    <tr>\n      <th>first</th>\n      <td>NaN</td>\n      <td>NaN</td>\n      <td>NaN</td>\n      <td>NaN</td>\n      <td>2020-01-09 00:00:00</td>\n    </tr>\n    <tr>\n      <th>last</th>\n      <td>NaN</td>\n      <td>NaN</td>\n      <td>NaN</td>\n      <td>NaN</td>\n      <td>2020-12-29 00:00:00</td>\n    </tr>\n  </tbody>\n</table>\n</div>"
     },
     "execution_count": 22,
     "metadata": {},
     "output_type": "execute_result"
    }
   ],
   "source": [
    "df.describe()"
   ],
   "metadata": {
    "collapsed": false,
    "pycharm": {
     "name": "#%%\n"
    }
   }
  },
  {
   "cell_type": "code",
   "execution_count": 23,
   "outputs": [
    {
     "data": {
      "text/plain": "<pandas.plotting._core.PlotAccessor object at 0x123773af0>"
     },
     "execution_count": 23,
     "metadata": {},
     "output_type": "execute_result"
    }
   ],
   "source": [
    "df.plot"
   ],
   "metadata": {
    "collapsed": false,
    "pycharm": {
     "name": "#%%\n"
    }
   }
  },
  {
   "cell_type": "code",
   "execution_count": 24,
   "outputs": [
    {
     "data": {
      "text/plain": "<pandas.core.groupby.generic.DataFrameGroupBy object at 0x1237737f0>"
     },
     "execution_count": 24,
     "metadata": {},
     "output_type": "execute_result"
    }
   ],
   "source": [
    "df.groupby('date')"
   ],
   "metadata": {
    "collapsed": false,
    "pycharm": {
     "name": "#%%\n"
    }
   }
  },
  {
   "cell_type": "code",
   "execution_count": 25,
   "outputs": [
    {
     "data": {
      "text/plain": "            title  url  releaseDate  platforms\ndate                                          \n2020-01-09      2    2            2          2\n2020-01-16      2    2            2          2\n2020-01-17      2    2            2          2\n2020-01-21      2    2            2          2\n2020-01-23      5    5            5          5\n...           ...  ...          ...        ...\n2020-12-17      2    2            2          2\n2020-12-18      1    1            1          1\n2020-12-22      2    2            2          2\n2020-12-23      1    1            1          1\n2020-12-29      1    1            1          1\n\n[189 rows x 4 columns]",
      "text/html": "<div>\n<style scoped>\n    .dataframe tbody tr th:only-of-type {\n        vertical-align: middle;\n    }\n\n    .dataframe tbody tr th {\n        vertical-align: top;\n    }\n\n    .dataframe thead th {\n        text-align: right;\n    }\n</style>\n<table border=\"1\" class=\"dataframe\">\n  <thead>\n    <tr style=\"text-align: right;\">\n      <th></th>\n      <th>title</th>\n      <th>url</th>\n      <th>releaseDate</th>\n      <th>platforms</th>\n    </tr>\n    <tr>\n      <th>date</th>\n      <th></th>\n      <th></th>\n      <th></th>\n      <th></th>\n    </tr>\n  </thead>\n  <tbody>\n    <tr>\n      <th>2020-01-09</th>\n      <td>2</td>\n      <td>2</td>\n      <td>2</td>\n      <td>2</td>\n    </tr>\n    <tr>\n      <th>2020-01-16</th>\n      <td>2</td>\n      <td>2</td>\n      <td>2</td>\n      <td>2</td>\n    </tr>\n    <tr>\n      <th>2020-01-17</th>\n      <td>2</td>\n      <td>2</td>\n      <td>2</td>\n      <td>2</td>\n    </tr>\n    <tr>\n      <th>2020-01-21</th>\n      <td>2</td>\n      <td>2</td>\n      <td>2</td>\n      <td>2</td>\n    </tr>\n    <tr>\n      <th>2020-01-23</th>\n      <td>5</td>\n      <td>5</td>\n      <td>5</td>\n      <td>5</td>\n    </tr>\n    <tr>\n      <th>...</th>\n      <td>...</td>\n      <td>...</td>\n      <td>...</td>\n      <td>...</td>\n    </tr>\n    <tr>\n      <th>2020-12-17</th>\n      <td>2</td>\n      <td>2</td>\n      <td>2</td>\n      <td>2</td>\n    </tr>\n    <tr>\n      <th>2020-12-18</th>\n      <td>1</td>\n      <td>1</td>\n      <td>1</td>\n      <td>1</td>\n    </tr>\n    <tr>\n      <th>2020-12-22</th>\n      <td>2</td>\n      <td>2</td>\n      <td>2</td>\n      <td>2</td>\n    </tr>\n    <tr>\n      <th>2020-12-23</th>\n      <td>1</td>\n      <td>1</td>\n      <td>1</td>\n      <td>1</td>\n    </tr>\n    <tr>\n      <th>2020-12-29</th>\n      <td>1</td>\n      <td>1</td>\n      <td>1</td>\n      <td>1</td>\n    </tr>\n  </tbody>\n</table>\n<p>189 rows × 4 columns</p>\n</div>"
     },
     "execution_count": 25,
     "metadata": {},
     "output_type": "execute_result"
    }
   ],
   "source": [
    "df.groupby('date').count()"
   ],
   "metadata": {
    "collapsed": false,
    "pycharm": {
     "name": "#%%\n"
    }
   }
  },
  {
   "cell_type": "code",
   "execution_count": 26,
   "outputs": [
    {
     "name": "stderr",
     "output_type": "stream",
     "text": [
      "/var/folders/0k/5497n5x55855vn0zx9hb__rc0000gq/T/ipykernel_92189/3464026804.py:1: FutureWarning: Series.dt.weekofyear and Series.dt.week have been deprecated.  Please use Series.dt.isocalendar().week instead.\n",
      "  df.groupby(df['date'].dt.weekofyear).count().plot.hist()\n"
     ]
    },
    {
     "data": {
      "text/plain": "<matplotlib.axes._subplots.AxesSubplot at 0x1247f5070>"
     },
     "execution_count": 26,
     "metadata": {},
     "output_type": "execute_result"
    },
    {
     "data": {
      "text/plain": "<Figure size 432x288 with 1 Axes>",
      "image/png": "[encoded data removed]"
     },
     "metadata": {
      "needs_background": "light"
     },
     "output_type": "display_data"
    }
   ],
   "source": [
    "df.groupby(df['date'].dt.weekofyear).count().plot.hist()"
   ],
   "metadata": {
    "collapsed": false,
    "pycharm": {
     "name": "#%%\n"
    }
   }
  },
  {
   "cell_type": "code",
   "execution_count": 27,
   "outputs": [
    {
     "data": {
      "text/plain": "<matplotlib.axes._subplots.AxesSubplot at 0x12495a9d0>"
     },
     "execution_count": 27,
     "metadata": {},
     "output_type": "execute_result"
    },
    {
     "data": {
      "text/plain": "<Figure size 432x288 with 1 Axes>",
      "image/png": "[encoded data removed]"
     },
     "metadata": {
      "needs_background": "light"
     },
     "output_type": "display_data"
    }
   ],
   "source": [
    "df.groupby(df['date'].dt.month).count()['title'].plot()"
   ],
   "metadata": {
    "collapsed": false,
    "pycharm": {
     "name": "#%%\n"
    }
   }
  },
  {
   "cell_type": "code",
   "execution_count": 28,
   "outputs": [
    {
     "data": {
      "text/plain": "0                                                   [PC]\n1                                                   [PC]\n2                                               [Switch]\n3                                           [Switch, PC]\n4                          [PlayStation 4, Xbox One, PC]\n                             ...                        \n677                        [PlayStation 4, Xbox One, PC]\n678    [PlayStation 5, Xbox Series X/S, PlayStation 4...\n679                                                 [PC]\n680                                         [Switch, PC]\n681                                             [Switch]\nName: platforms, Length: 682, dtype: object"
     },
     "execution_count": 28,
     "metadata": {},
     "output_type": "execute_result"
    }
   ],
   "source": [
    "df['platforms']"
   ],
   "metadata": {
    "collapsed": false,
    "pycharm": {
     "name": "#%%\n"
    }
   }
  },
  {
   "cell_type": "code",
   "execution_count": 29,
   "outputs": [
    {
     "data": {
      "text/plain": "<PandasArray>\n[                                                                           ['PC'],\n                                                                            ['PC'],\n                                                                        ['Switch'],\n                                                                  ['Switch', 'PC'],\n                                               ['PlayStation 4', 'Xbox One', 'PC'],\n                                                                        ['Switch'],\n                                                                            ['PC'],\n                                                                            ['PC'],\n                                                                 ['PlayStation 4'],\n                                                            ['Xbox One', 'Switch'],\n ...\n                                                                        ['Switch'],\n                                                                ['iOS', 'Android'],\n                                               ['PlayStation 4', 'Xbox One', 'PC'],\n                                                                     ['PC', 'Mac'],\n                                                                        ['Switch'],\n                                               ['PlayStation 4', 'Xbox One', 'PC'],\n ['PlayStation 5', 'Xbox Series X/S', 'PlayStation 4', 'Xbox One', 'Switch', 'PC'],\n                                                                            ['PC'],\n                                                                  ['Switch', 'PC'],\n                                                                        ['Switch']]\nLength: 682, dtype: object"
     },
     "execution_count": 29,
     "metadata": {},
     "output_type": "execute_result"
    }
   ],
   "source": [
    "pd.array(df['platforms'])"
   ],
   "metadata": {
    "collapsed": false,
    "pycharm": {
     "name": "#%%\n"
    }
   }
  },
  {
   "cell_type": "code",
   "execution_count": 29,
   "outputs": [],
   "source": [],
   "metadata": {
    "collapsed": false,
    "pycharm": {
     "name": "#%%\n"
    }
   }
  }
 ],
 "metadata": {
  "kernelspec": {
   "display_name": "Python 3",
   "language": "python",
   "name": "python3"
  },
  "language_info": {
   "codemirror_mode": {
    "name": "ipython",
    "version": 2
   },
   "file_extension": ".py",
   "mimetype": "text/x-python",
   "name": "python",
   "nbconvert_exporter": "python",
   "pygments_lexer": "ipython2",
   "version": "2.7.6"
  }
 },
 "nbformat": 4,
 "nbformat_minor": 0
}