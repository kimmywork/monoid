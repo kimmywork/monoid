{
 "cells": [
  {
   "cell_type": "code",
   "execution_count": 1,
   "metadata": {
    "collapsed": true,
    "pycharm": {
     "name": "#%%\n"
    }
   },
   "outputs": [
    {
     "data": {
      "text/plain": "<pyarrow.lib.Int8Array object at 0x132b2cac0>\n[\n  1,\n  12,\n  17,\n  23,\n  28\n]"
     },
     "execution_count": 1,
     "metadata": {},
     "output_type": "execute_result"
    }
   ],
   "source": [
    "import pyarrow as pa\n",
    "\n",
    "days = pa.array([1, 12, 17, 23, 28], type=pa.int8())\n",
    "\n",
    "days"
   ]
  },
  {
   "cell_type": "code",
   "execution_count": 2,
   "outputs": [
    {
     "data": {
      "text/plain": "pyarrow.Table\ndays: int8\nmonths: int8\nyears: int16\n----\ndays: [[1,12,17,23,28]]\nmonths: [[1,3,5,7,1]]\nyears: [[1900,2000,1995,2000,1995]]"
     },
     "execution_count": 2,
     "metadata": {},
     "output_type": "execute_result"
    }
   ],
   "source": [
    "month = pa.array([1, 3, 5, 7, 1], type=pa.int8())\n",
    "\n",
    "years = pa.array([1900, 2000, 1995, 2000, 1995], type=pa.int16())\n",
    "\n",
    "birthdays_table = pa.table([days, month, years], names=[\"days\", \"months\", \"years\"])\n",
    "\n",
    "birthdays_table"
   ],
   "metadata": {
    "collapsed": false,
    "pycharm": {
     "name": "#%%\n"
    }
   }
  },
  {
   "cell_type": "code",
   "execution_count": 3,
   "outputs": [
    {
     "data": {
      "text/plain": "pyarrow.Table\ndays: int8\nmonths: int8\nyears: int16\n----\ndays: [[1,12,17,23,28]]\nmonths: [[1,3,5,7,1]]\nyears: [[1900,2000,1995,2000,1995]]"
     },
     "execution_count": 3,
     "metadata": {},
     "output_type": "execute_result"
    }
   ],
   "source": [
    "import pyarrow.parquet as pq\n",
    "\n",
    "pq.write_table(birthdays_table, 'birthdays.parquet')\n",
    "\n",
    "reloaded_birthdays = pq.read_table('birthdays.parquet')\n",
    "\n",
    "reloaded_birthdays"
   ],
   "metadata": {
    "collapsed": false,
    "pycharm": {
     "name": "#%%\n"
    }
   }
  },
  {
   "cell_type": "code",
   "execution_count": 4,
   "outputs": [
    {
     "data": {
      "text/plain": "<pyarrow.lib.StructArray object at 0x133031820>\n-- is_valid: all not null\n-- child 0 type: int16\n  [\n    1900,\n    2000,\n    1995\n  ]\n-- child 1 type: int64\n  [\n    1,\n    2,\n    2\n  ]"
     },
     "execution_count": 4,
     "metadata": {},
     "output_type": "execute_result"
    }
   ],
   "source": [
    "import pyarrow.compute as pc\n",
    "\n",
    "pc.value_counts(birthdays_table['years'])"
   ],
   "metadata": {
    "collapsed": false,
    "pycharm": {
     "name": "#%%\n"
    }
   }
  },
  {
   "cell_type": "code",
   "execution_count": 5,
   "outputs": [],
   "source": [
    "import pyarrow.dataset as ds\n",
    "\n",
    "ds.write_dataset(birthdays_table, \"savedir\", format='parquet',\n",
    "                 partitioning=ds.partitioning(\n",
    "                     pa.schema([birthdays_table.schema.field('years')])\n",
    "                 ))"
   ],
   "metadata": {
    "collapsed": false,
    "pycharm": {
     "name": "#%%\n"
    }
   }
  },
  {
   "cell_type": "code",
   "execution_count": 6,
   "outputs": [
    {
     "data": {
      "text/plain": "['savedir/1900/part-0.parquet',\n 'savedir/1995/part-0.parquet',\n 'savedir/2000/part-0.parquet']"
     },
     "execution_count": 6,
     "metadata": {},
     "output_type": "execute_result"
    }
   ],
   "source": [
    "birthdays_dataset = ds.dataset('savedir', format='parquet', partitioning=['years'])\n",
    "\n",
    "birthdays_dataset.files"
   ],
   "metadata": {
    "collapsed": false,
    "pycharm": {
     "name": "#%%\n"
    }
   }
  },
  {
   "cell_type": "code",
   "execution_count": 7,
   "outputs": [
    {
     "name": "stdout",
     "output_type": "stream",
     "text": [
      "AGES [\n",
      "  122\n",
      "]\n",
      "AGES [\n",
      "  27,\n",
      "  27\n",
      "]\n",
      "AGES [\n",
      "  22,\n",
      "  22\n",
      "]\n"
     ]
    }
   ],
   "source": [
    "import datetime\n",
    "\n",
    "current_year = datetime.datetime.utcnow().year\n",
    "\n",
    "for table_chunk in birthdays_dataset.to_batches():\n",
    "    print(\"AGES\", pc.subtract(current_year, table_chunk['years']))\n"
   ],
   "metadata": {
    "collapsed": false,
    "pycharm": {
     "name": "#%%\n"
    }
   }
  }
 ],
 "metadata": {
  "kernelspec": {
   "display_name": "Python 3",
   "language": "python",
   "name": "python3"
  },
  "language_info": {
   "codemirror_mode": {
    "name": "ipython",
    "version": 2
   },
   "file_extension": ".py",
   "mimetype": "text/x-python",
   "name": "python",
   "nbconvert_exporter": "python",
   "pygments_lexer": "ipython2",
   "version": "2.7.6"
  }
 },
 "nbformat": 4,
 "nbformat_minor": 0
}