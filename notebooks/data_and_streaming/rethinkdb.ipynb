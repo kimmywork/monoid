{
 "cells": [
  {
   "cell_type": "code",
   "execution_count": 1,
   "metadata": {
    "collapsed": true,
    "pycharm": {
     "name": "#%%\n"
    }
   },
   "outputs": [],
   "source": [
    "from rethinkdb import RethinkDB\n",
    "\n",
    "r = RethinkDB()"
   ]
  },
  {
   "cell_type": "code",
   "execution_count": 14,
   "outputs": [
    {
     "data": {
      "text/plain": "<rethinkdb.net.DefaultConnection at 0x1320c5460>"
     },
     "execution_count": 14,
     "metadata": {},
     "output_type": "execute_result"
    }
   ],
   "source": [
    "r.connect('localhost', 55005).repl()"
   ],
   "metadata": {
    "collapsed": false,
    "pycharm": {
     "name": "#%%\n"
    }
   }
  },
  {
   "cell_type": "code",
   "execution_count": 15,
   "outputs": [
    {
     "data": {
      "text/plain": "{'config_changes': [{'new_val': {'db': 'test',\n    'durability': 'hard',\n    'id': '4cffee5d-c680-4841-8b75-fedcc4fcddb9',\n    'indexes': [],\n    'name': 'authors',\n    'primary_key': 'id',\n    'shards': [{'nonvoting_replicas': [],\n      'primary_replica': '7cbbf73fdab7_l0d',\n      'replicas': ['7cbbf73fdab7_l0d']}],\n    'write_acks': 'majority',\n    'write_hook': None},\n   'old_val': None}],\n 'tables_created': 1}"
     },
     "execution_count": 15,
     "metadata": {},
     "output_type": "execute_result"
    }
   ],
   "source": [
    "r.db('test').table_create('authors').run()"
   ],
   "metadata": {
    "collapsed": false,
    "pycharm": {
     "name": "#%%\n"
    }
   }
  },
  {
   "cell_type": "code",
   "execution_count": 16,
   "outputs": [
    {
     "data": {
      "text/plain": "{'deleted': 0,\n 'errors': 0,\n 'generated_keys': ['1f479112-28dc-4eef-b7d4-a98914f90ac7',\n  'f160ee21-ac7d-4b18-8889-ccec3a92792b',\n  'dc002a79-ecc0-4380-be21-2f1c4b2b625c'],\n 'inserted': 3,\n 'replaced': 0,\n 'skipped': 0,\n 'unchanged': 0}"
     },
     "execution_count": 16,
     "metadata": {},
     "output_type": "execute_result"
    }
   ],
   "source": [
    "r.table(\"authors\").insert([\n",
    "    { \"name\": \"William Adama\", \"tv_show\": \"Battlestar Galactica\",\n",
    "      \"posts\": [\n",
    "          {\"title\": \"Decommissioning speech\", \"content\": \"The Cylon War is long over...\"},\n",
    "          {\"title\": \"We are at war\", \"content\": \"Moments ago, this ship received...\"},\n",
    "          {\"title\": \"The new Earth\", \"content\": \"The discoveries of the past few days...\"}\n",
    "      ]\n",
    "      },\n",
    "    { \"name\": \"Laura Roslin\", \"tv_show\": \"Battlestar Galactica\",\n",
    "      \"posts\": [\n",
    "          {\"title\": \"The oath of office\", \"content\": \"I, Laura Roslin, ...\"},\n",
    "          {\"title\": \"They look like us\", \"content\": \"The Cylons have the ability...\"}\n",
    "      ]\n",
    "      },\n",
    "    { \"name\": \"Jean-Luc Picard\", \"tv_show\": \"Star Trek TNG\",\n",
    "      \"posts\": [\n",
    "          {\"title\": \"Civil rights\", \"content\": \"There are some words I've known since...\"}\n",
    "      ]\n",
    "      }\n",
    "]).run()"
   ],
   "metadata": {
    "collapsed": false,
    "pycharm": {
     "name": "#%%\n"
    }
   }
  },
  {
   "cell_type": "code",
   "execution_count": 18,
   "outputs": [
    {
     "data": {
      "text/plain": "[{'id': 'f160ee21-ac7d-4b18-8889-ccec3a92792b',\n  'name': 'Laura Roslin',\n  'posts': [{'content': 'I, Laura Roslin, ...', 'title': 'The oath of office'},\n   {'content': 'The Cylons have the ability...',\n    'title': 'They look like us'}],\n  'tv_show': 'Battlestar Galactica'},\n {'id': '1f479112-28dc-4eef-b7d4-a98914f90ac7',\n  'name': 'William Adama',\n  'posts': [{'content': 'The Cylon War is long over...',\n    'title': 'Decommissioning speech'},\n   {'content': 'Moments ago, this ship received...', 'title': 'We are at war'},\n   {'content': 'The discoveries of the past few days...',\n    'title': 'The new Earth'}],\n  'tv_show': 'Battlestar Galactica'},\n {'id': 'dc002a79-ecc0-4380-be21-2f1c4b2b625c',\n  'name': 'Jean-Luc Picard',\n  'posts': [{'content': \"There are some words I've known since...\",\n    'title': 'Civil rights'}],\n  'tv_show': 'Star Trek TNG'}]"
     },
     "execution_count": 18,
     "metadata": {},
     "output_type": "execute_result"
    }
   ],
   "source": [
    "list(r.table('authors').run())"
   ],
   "metadata": {
    "collapsed": false,
    "pycharm": {
     "name": "#%%\n"
    }
   }
  },
  {
   "cell_type": "code",
   "execution_count": 19,
   "outputs": [
    {
     "data": {
      "text/plain": "{'deleted': 0,\n 'errors': 0,\n 'inserted': 0,\n 'replaced': 3,\n 'skipped': 0,\n 'unchanged': 0}"
     },
     "execution_count": 19,
     "metadata": {},
     "output_type": "execute_result"
    }
   ],
   "source": [
    "r.table(\"authors\").update({\"type\": \"fictional\"}).run()"
   ],
   "metadata": {
    "collapsed": false,
    "pycharm": {
     "name": "#%%\n"
    }
   }
  },
  {
   "cell_type": "code",
   "execution_count": 20,
   "outputs": [
    {
     "data": {
      "text/plain": "{'config_changes': [{'new_val': {'db': 'test',\n    'durability': 'hard',\n    'id': 'd62f158e-f599-4f79-9feb-3aeb4a9d5406',\n    'indexes': [],\n    'name': 'users',\n    'primary_key': 'id',\n    'shards': [{'nonvoting_replicas': [],\n      'primary_replica': '7cbbf73fdab7_l0d',\n      'replicas': ['7cbbf73fdab7_l0d']}],\n    'write_acks': 'majority',\n    'write_hook': None},\n   'old_val': None}],\n 'tables_created': 1}"
     },
     "execution_count": 20,
     "metadata": {},
     "output_type": "execute_result"
    }
   ],
   "source": [
    "r.table_create('users').run()"
   ],
   "metadata": {
    "collapsed": false,
    "pycharm": {
     "name": "#%%\n"
    }
   }
  },
  {
   "cell_type": "code",
   "execution_count": 21,
   "outputs": [
    {
     "data": {
      "text/plain": "[{'age': 20, 'id': '6147c5a3-3f0c-4897-a188-fd56991d6b05', 'name': 'kimmy'}]"
     },
     "execution_count": 21,
     "metadata": {},
     "output_type": "execute_result"
    }
   ],
   "source": [
    "r.table('users').insert([{ 'name': 'kimmy', 'age': 20 }]).run()\n",
    "\n",
    "\n",
    "list(r.table('users').filter(lambda user: user['age'] > 18).run())"
   ],
   "metadata": {
    "collapsed": false,
    "pycharm": {
     "name": "#%%\n"
    }
   }
  },
  {
   "cell_type": "code",
   "execution_count": 22,
   "outputs": [
    {
     "data": {
      "text/plain": "2"
     },
     "execution_count": 22,
     "metadata": {},
     "output_type": "execute_result"
    }
   ],
   "source": [
    "r.js('1+1').run()"
   ],
   "metadata": {
    "collapsed": false,
    "pycharm": {
     "name": "#%%\n"
    }
   }
  },
  {
   "cell_type": "code",
   "execution_count": 23,
   "outputs": [
    {
     "data": {
      "text/plain": "{'created': 1}"
     },
     "execution_count": 23,
     "metadata": {},
     "output_type": "execute_result"
    }
   ],
   "source": [
    "r.table('users').index_create('last_name').run()"
   ],
   "metadata": {
    "collapsed": false,
    "pycharm": {
     "name": "#%%\n"
    }
   }
  },
  {
   "cell_type": "code",
   "execution_count": 24,
   "outputs": [
    {
     "data": {
      "text/plain": "{'created': 1}"
     },
     "execution_count": 24,
     "metadata": {},
     "output_type": "execute_result"
    }
   ],
   "source": [
    "r.table('users').index_create('full_name', [r.row['last_name'], r.row['first_name']]).run()"
   ],
   "metadata": {
    "collapsed": false,
    "pycharm": {
     "name": "#%%\n"
    }
   }
  },
  {
   "cell_type": "code",
   "execution_count": 25,
   "outputs": [
    {
     "data": {
      "text/plain": "{'config_changes': [{'new_val': {'db': 'test',\n    'durability': 'hard',\n    'id': '80471d9f-cfbe-4695-b3c1-3314f5ca81df',\n    'indexes': [],\n    'name': 'users',\n    'primary_key': 'id',\n    'shards': [{'nonvoting_replicas': [],\n      'primary_replica': '7cbbf73fdab7_l0d',\n      'replicas': ['7cbbf73fdab7_l0d']}],\n    'write_acks': 'majority',\n    'write_hook': None},\n   'old_val': None}],\n 'tables_created': 1}"
     },
     "execution_count": 25,
     "metadata": {},
     "output_type": "execute_result"
    }
   ],
   "source": [
    "r.table_drop('users').run()\n",
    "\n",
    "r.table_create('users').run()"
   ],
   "metadata": {
    "collapsed": false,
    "pycharm": {
     "name": "#%%\n"
    }
   }
  },
  {
   "cell_type": "code",
   "execution_count": 26,
   "outputs": [
    {
     "data": {
      "text/plain": "{'deleted': 0,\n 'errors': 0,\n 'inserted': 1,\n 'replaced': 0,\n 'skipped': 0,\n 'unchanged': 0}"
     },
     "execution_count": 26,
     "metadata": {},
     "output_type": "execute_result"
    }
   ],
   "source": [
    "r.table('users').insert([{\n",
    "    \"id\": 10001,\n",
    "    \"name\": \"Bob Smith\",\n",
    "    \"contact\": {\n",
    "        \"phone\": {\n",
    "            \"work\": \"408-555-1212\",\n",
    "            \"home\": \"408-555-1213\",\n",
    "            \"cell\": \"408-555-1214\"\n",
    "        },\n",
    "        \"email\": {\n",
    "            \"work\": \"bob@smith.com\",\n",
    "            \"home\": \"bobsmith@gmail.com\",\n",
    "            \"other\": \"bobbys@moosecall.net\"\n",
    "        },\n",
    "        \"im\": {\n",
    "            \"skype\": \"Bob Smith\",\n",
    "            \"aim\": \"bobmoose\",\n",
    "            \"icq\": \"nobodyremembersicqnumbers\"\n",
    "        }\n",
    "    },\n",
    "    \"notes\": [\n",
    "        {\n",
    "            \"date\": r.time(2014,1,1,'Z'),\n",
    "            \"from\": \"John Doe\",\n",
    "            \"subject\": \"My name is even more boring than Bob's\"\n",
    "        },\n",
    "        {\n",
    "            \"date\": r.time(2014,2,2,'Z'),\n",
    "            \"from\": \"Bob Smith Sr\",\n",
    "            \"subject\": \"Happy Second of February\"\n",
    "        }\n",
    "    ]\n",
    "}]).run()"
   ],
   "metadata": {
    "collapsed": false,
    "pycharm": {
     "name": "#%%\n"
    }
   }
  },
  {
   "cell_type": "code",
   "execution_count": 27,
   "outputs": [
    {
     "data": {
      "text/plain": "'408-555-1212'"
     },
     "execution_count": 27,
     "metadata": {},
     "output_type": "execute_result"
    }
   ],
   "source": [
    "r.table('users').get(10001)['contact']['phone']['work'].run()"
   ],
   "metadata": {
    "collapsed": false,
    "pycharm": {
     "name": "#%%\n"
    }
   }
  },
  {
   "cell_type": "code",
   "execution_count": 29,
   "outputs": [
    {
     "data": {
      "text/plain": "{'contact': {'phone': {'work': '408-555-1212'}}}"
     },
     "execution_count": 29,
     "metadata": {},
     "output_type": "execute_result"
    }
   ],
   "source": [
    "r.table('users').get(10001).pluck({\n",
    "    'contact': {'phone': 'work'}\n",
    "}).run()"
   ],
   "metadata": {
    "collapsed": false,
    "pycharm": {
     "name": "#%%\n"
    }
   }
  },
  {
   "cell_type": "code",
   "execution_count": 30,
   "outputs": [
    {
     "data": {
      "text/plain": "{'contact': {'phone': {'cell': '408-555-1214', 'work': '408-555-1212'}}}"
     },
     "execution_count": 30,
     "metadata": {},
     "output_type": "execute_result"
    }
   ],
   "source": [
    "r.table('users').get(10001).pluck({\n",
    "    'contact': {'phone': ['work', 'cell']}\n",
    "}).run()"
   ],
   "metadata": {
    "collapsed": false,
    "pycharm": {
     "name": "#%%\n"
    }
   }
  },
  {
   "cell_type": "code",
   "execution_count": 32,
   "outputs": [
    {
     "data": {
      "text/plain": "{'contact': {'im': {'skype': 'Bob Smith'}, 'phone': {'work': '408-555-1212'}}}"
     },
     "execution_count": 32,
     "metadata": {},
     "output_type": "execute_result"
    }
   ],
   "source": [
    "r.table('users').get(10001).pluck({\n",
    "    'contact': [\n",
    "        {'phone': 'work'},\n",
    "        {'im': 'skype'}\n",
    "    ]\n",
    "}).run()"
   ],
   "metadata": {
    "collapsed": false,
    "pycharm": {
     "name": "#%%\n"
    }
   }
  },
  {
   "cell_type": "code",
   "execution_count": 33,
   "outputs": [
    {
     "data": {
      "text/plain": "{'notes': [{'date': datetime.datetime(2014, 1, 1, 0, 0, tzinfo=<rethinkdb.ast.RqlTzinfo object at 0x1320f03d0>),\n   'from': 'John Doe'},\n  {'date': datetime.datetime(2014, 2, 2, 0, 0, tzinfo=<rethinkdb.ast.RqlTzinfo object at 0x13211c100>),\n   'from': 'Bob Smith Sr'}]}"
     },
     "execution_count": 33,
     "metadata": {},
     "output_type": "execute_result"
    }
   ],
   "source": [
    "r.table('users').get(10001).pluck({\n",
    "    'notes': ['date', 'from']\n",
    "}).run()"
   ],
   "metadata": {
    "collapsed": false,
    "pycharm": {
     "name": "#%%\n"
    }
   }
  },
  {
   "cell_type": "code",
   "execution_count": 34,
   "outputs": [
    {
     "data": {
      "text/plain": "{'deleted': 0,\n 'errors': 0,\n 'inserted': 1,\n 'replaced': 0,\n 'skipped': 0,\n 'unchanged': 0}"
     },
     "execution_count": 34,
     "metadata": {},
     "output_type": "execute_result"
    }
   ],
   "source": [
    "r.table_create('employees').run()\n",
    "\n",
    "r.table('employees').insert([{\n",
    "    \"id\": \"543ad9c8-1744-4001-bb5e-450b2565d02c\",\n",
    "    \"name\": \"Jean-Luc Picard\",\n",
    "    \"company_id\": \"064058b6-cea9-4117-b92d-c911027a725a\",\n",
    "    \"rank\": \"captain\"\n",
    "}]).run()\n",
    "\n",
    "r.table_create('companies').run()\n",
    "\n",
    "r.table('companies').insert([{\n",
    "    \"id\": \"064058b6-cea9-4117-b92d-c911027a725a\",\n",
    "    \"company\": \"Starfleet\",\n",
    "    \"type\": \"paramilitary\"\n",
    "}]).run()"
   ],
   "metadata": {
    "collapsed": false,
    "pycharm": {
     "name": "#%%\n"
    }
   }
  },
  {
   "cell_type": "code",
   "execution_count": 37,
   "outputs": [
    {
     "data": {
      "text/plain": "<rethinkdb.net.DefaultCursor object at 0x132aa33d0 (done streaming): \n[{'left': {'company_id': '064058b6-cea9-4117-b92d-c911027a725a',\n           'id': '543ad9c8-1744-4001-bb5e-450b2565d02c',\n           'name': 'Jean-Luc Picard',\n           'rank': 'captain'},\n  'right': {'company': 'Starfleet',\n            'id': '064058b6-cea9-4117-b92d-c911027a725a',\n            'type': 'paramilitary'}}]>"
     },
     "execution_count": 37,
     "metadata": {},
     "output_type": "execute_result"
    }
   ],
   "source": [
    "r.table(\"employees\").eq_join(\"company_id\", r.table(\"companies\")).run()"
   ],
   "metadata": {
    "collapsed": false,
    "pycharm": {
     "name": "#%%\n"
    }
   }
  },
  {
   "cell_type": "code",
   "execution_count": 38,
   "outputs": [
    {
     "data": {
      "text/plain": "<rethinkdb.net.DefaultCursor object at 0x132a32d90 (done streaming): \n[{'company': 'Starfleet',\n  'company_id': '064058b6-cea9-4117-b92d-c911027a725a',\n  'id': '064058b6-cea9-4117-b92d-c911027a725a',\n  'name': 'Jean-Luc Picard',\n  'rank': 'captain',\n  'type': 'paramilitary'}]>"
     },
     "execution_count": 38,
     "metadata": {},
     "output_type": "execute_result"
    }
   ],
   "source": [
    "r.table(\"employees\").eq_join(\"company_id\", r.table(\"companies\")).zip().run()"
   ],
   "metadata": {
    "collapsed": false,
    "pycharm": {
     "name": "#%%\n"
    }
   }
  },
  {
   "cell_type": "code",
   "execution_count": 41,
   "outputs": [
    {
     "ename": "ReqlOpFailedError",
     "evalue": "Index `company_id` already exists on table `test.employees` in:\nr.table('employees').index_create('company_id')\n^^^^^^^^^^^^^^^^^^^^^^^^^^^^^^^^^^^^^^^^^^^^^^^",
     "output_type": "error",
     "traceback": [
      "\u001B[0;31m---------------------------------------------------------------------------\u001B[0m",
      "\u001B[0;31mReqlOpFailedError\u001B[0m                         Traceback (most recent call last)",
      "Input \u001B[0;32mIn [41]\u001B[0m, in \u001B[0;36m<cell line: 1>\u001B[0;34m()\u001B[0m\n\u001B[0;32m----> 1\u001B[0m \u001B[43mr\u001B[49m\u001B[38;5;241;43m.\u001B[39;49m\u001B[43mtable\u001B[49m\u001B[43m(\u001B[49m\u001B[38;5;124;43m'\u001B[39;49m\u001B[38;5;124;43memployees\u001B[39;49m\u001B[38;5;124;43m'\u001B[39;49m\u001B[43m)\u001B[49m\u001B[38;5;241;43m.\u001B[39;49m\u001B[43mindex_create\u001B[49m\u001B[43m(\u001B[49m\u001B[38;5;124;43m'\u001B[39;49m\u001B[38;5;124;43mcompany_id\u001B[39;49m\u001B[38;5;124;43m'\u001B[39;49m\u001B[43m)\u001B[49m\u001B[38;5;241;43m.\u001B[39;49m\u001B[43mrun\u001B[49m\u001B[43m(\u001B[49m\u001B[43m)\u001B[49m\n",
      "File \u001B[0;32m~/Workspace/playz3/.venv/lib/python3.9/site-packages/rethinkdb/ast.py:154\u001B[0m, in \u001B[0;36mRqlQuery.run\u001B[0;34m(self, c, **global_optargs)\u001B[0m\n\u001B[1;32m    149\u001B[0m         \u001B[38;5;28;01melse\u001B[39;00m:\n\u001B[1;32m    150\u001B[0m             \u001B[38;5;28;01mraise\u001B[39;00m ReqlDriverError(\n\u001B[1;32m    151\u001B[0m                 \u001B[38;5;124m\"\u001B[39m\u001B[38;5;124mRqlQuery.run must be given a connection to run on.\u001B[39m\u001B[38;5;124m\"\u001B[39m\n\u001B[1;32m    152\u001B[0m             )\n\u001B[0;32m--> 154\u001B[0m \u001B[38;5;28;01mreturn\u001B[39;00m \u001B[43mc\u001B[49m\u001B[38;5;241;43m.\u001B[39;49m\u001B[43m_start\u001B[49m\u001B[43m(\u001B[49m\u001B[38;5;28;43mself\u001B[39;49m\u001B[43m,\u001B[49m\u001B[43m \u001B[49m\u001B[38;5;241;43m*\u001B[39;49m\u001B[38;5;241;43m*\u001B[39;49m\u001B[43mglobal_optargs\u001B[49m\u001B[43m)\u001B[49m\n",
      "File \u001B[0;32m~/Workspace/playz3/.venv/lib/python3.9/site-packages/rethinkdb/net.py:749\u001B[0m, in \u001B[0;36mConnection._start\u001B[0;34m(self, term, **global_optargs)\u001B[0m\n\u001B[1;32m    747\u001B[0m     global_optargs[\u001B[38;5;124m\"\u001B[39m\u001B[38;5;124mdb\u001B[39m\u001B[38;5;124m\"\u001B[39m] \u001B[38;5;241m=\u001B[39m DB(global_optargs\u001B[38;5;241m.\u001B[39mget(\u001B[38;5;124m\"\u001B[39m\u001B[38;5;124mdb\u001B[39m\u001B[38;5;124m\"\u001B[39m, \u001B[38;5;28mself\u001B[39m\u001B[38;5;241m.\u001B[39mdb))\n\u001B[1;32m    748\u001B[0m q \u001B[38;5;241m=\u001B[39m Query(pQuery\u001B[38;5;241m.\u001B[39mSTART, \u001B[38;5;28mself\u001B[39m\u001B[38;5;241m.\u001B[39m_new_token(), term, global_optargs)\n\u001B[0;32m--> 749\u001B[0m \u001B[38;5;28;01mreturn\u001B[39;00m \u001B[38;5;28;43mself\u001B[39;49m\u001B[38;5;241;43m.\u001B[39;49m\u001B[43m_instance\u001B[49m\u001B[38;5;241;43m.\u001B[39;49m\u001B[43mrun_query\u001B[49m\u001B[43m(\u001B[49m\u001B[43mq\u001B[49m\u001B[43m,\u001B[49m\u001B[43m \u001B[49m\u001B[43mglobal_optargs\u001B[49m\u001B[38;5;241;43m.\u001B[39;49m\u001B[43mget\u001B[49m\u001B[43m(\u001B[49m\u001B[38;5;124;43m\"\u001B[39;49m\u001B[38;5;124;43mnoreply\u001B[39;49m\u001B[38;5;124;43m\"\u001B[39;49m\u001B[43m,\u001B[49m\u001B[43m \u001B[49m\u001B[38;5;28;43;01mFalse\u001B[39;49;00m\u001B[43m)\u001B[49m\u001B[43m)\u001B[49m\n",
      "File \u001B[0;32m~/Workspace/playz3/.venv/lib/python3.9/site-packages/rethinkdb/net.py:578\u001B[0m, in \u001B[0;36mConnectionInstance.run_query\u001B[0;34m(self, query, noreply)\u001B[0m\n\u001B[1;32m    576\u001B[0m     \u001B[38;5;28;01mreturn\u001B[39;00m res\u001B[38;5;241m.\u001B[39mdata[\u001B[38;5;241m0\u001B[39m]\n\u001B[1;32m    577\u001B[0m \u001B[38;5;28;01melse\u001B[39;00m:\n\u001B[0;32m--> 578\u001B[0m     \u001B[38;5;28;01mraise\u001B[39;00m res\u001B[38;5;241m.\u001B[39mmake_error(query)\n",
      "\u001B[0;31mReqlOpFailedError\u001B[0m: Index `company_id` already exists on table `test.employees` in:\nr.table('employees').index_create('company_id')\n^^^^^^^^^^^^^^^^^^^^^^^^^^^^^^^^^^^^^^^^^^^^^^^"
     ]
    }
   ],
   "source": [
    "r.table('employees').index_create('company_id').run()"
   ],
   "metadata": {
    "collapsed": false,
    "pycharm": {
     "name": "#%%\n"
    }
   }
  },
  {
   "cell_type": "code",
   "execution_count": 42,
   "outputs": [
    {
     "data": {
      "text/plain": "{'company': 'Starfleet',\n 'employees': [{'company_id': '064058b6-cea9-4117-b92d-c911027a725a',\n   'id': '543ad9c8-1744-4001-bb5e-450b2565d02c',\n   'name': 'Jean-Luc Picard',\n   'rank': 'captain'}],\n 'id': '064058b6-cea9-4117-b92d-c911027a725a',\n 'type': 'paramilitary'}"
     },
     "execution_count": 42,
     "metadata": {},
     "output_type": "execute_result"
    }
   ],
   "source": [
    "r.table('employees').index_wait('company_id').run()\n",
    "\n",
    "\n",
    "id = \"064058b6-cea9-4117-b92d-c911027a725a\"\n",
    "r.table(\"companies\").get(id).merge(lambda company:\n",
    "                                   { 'employees': r.table('employees').get_all(company['id'],\n",
    "                                                                               index='company_id').coerce_to('array') }\n",
    "                                   ).run()"
   ],
   "metadata": {
    "collapsed": false,
    "pycharm": {
     "name": "#%%\n"
    }
   }
  },
  {
   "cell_type": "code",
   "execution_count": 43,
   "outputs": [
    {
     "data": {
      "text/plain": "<rethinkdb.net.DefaultCursor object at 0x132b67ca0 (done streaming): \n[{'left': {'company_id': '064058b6-cea9-4117-b92d-c911027a725a',\n           'company_name': 'Starfleet',\n           'id': '543ad9c8-1744-4001-bb5e-450b2565d02c',\n           'name': 'Jean-Luc Picard',\n           'rank': 'captain'},\n  'right': {'company': 'Starfleet',\n            'id': '064058b6-cea9-4117-b92d-c911027a725a',\n            'type': 'paramilitary'}}]>"
     },
     "execution_count": 43,
     "metadata": {},
     "output_type": "execute_result"
    }
   ],
   "source": [
    "r.table('employees').update({'company_name': 'Starfleet'}).run()\n",
    "\n",
    "r.table('companies').index_create('company').run()\n",
    "\n",
    "r.table('companies').index_wait('company').run()\n",
    "\n",
    "r.table(\"employees\").eq_join(\"company_name\",\n",
    "                             r.table(\"companies\"), index=\"company\").run()"
   ],
   "metadata": {
    "collapsed": false,
    "pycharm": {
     "name": "#%%\n"
    }
   }
  },
  {
   "cell_type": "code",
   "execution_count": null,
   "outputs": [],
   "source": [],
   "metadata": {
    "collapsed": false,
    "pycharm": {
     "name": "#%%\n"
    }
   }
  }
 ],
 "metadata": {
  "kernelspec": {
   "display_name": "Python 3",
   "language": "python",
   "name": "python3"
  },
  "language_info": {
   "codemirror_mode": {
    "name": "ipython",
    "version": 2
   },
   "file_extension": ".py",
   "mimetype": "text/x-python",
   "name": "python",
   "nbconvert_exporter": "python",
   "pygments_lexer": "ipython2",
   "version": "2.7.6"
  }
 },
 "nbformat": 4,
 "nbformat_minor": 0
}