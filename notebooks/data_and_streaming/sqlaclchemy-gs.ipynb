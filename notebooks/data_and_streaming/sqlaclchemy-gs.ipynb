{
 "cells": [
  {
   "cell_type": "code",
   "execution_count": 1,
   "metadata": {
    "collapsed": true,
    "pycharm": {
     "name": "#%%\n"
    }
   },
   "outputs": [
    {
     "data": {
      "text/plain": "Engine(sqlite+pysqlite:///:memory:)"
     },
     "execution_count": 1,
     "metadata": {},
     "output_type": "execute_result"
    }
   ],
   "source": [
    "from sqlalchemy import create_engine\n",
    "\n",
    "engine = create_engine(\"sqlite+pysqlite:///:memory:\", echo=True, future=True)\n",
    "\n",
    "engine"
   ]
  },
  {
   "cell_type": "code",
   "execution_count": 2,
   "outputs": [
    {
     "name": "stdout",
     "output_type": "stream",
     "text": [
      "2022-01-20 18:22:15,116 INFO sqlalchemy.engine.Engine BEGIN (implicit)\n",
      "2022-01-20 18:22:15,118 INFO sqlalchemy.engine.Engine select 'hello world'\n",
      "2022-01-20 18:22:15,119 INFO sqlalchemy.engine.Engine [generated in 0.00271s] ()\n",
      "[('hello world',)]\n",
      "2022-01-20 18:22:15,120 INFO sqlalchemy.engine.Engine ROLLBACK\n"
     ]
    }
   ],
   "source": [
    "from sqlalchemy import text\n",
    "\n",
    "with engine.connect() as conn:\n",
    "    result = conn.execute(text(\"select 'hello world'\"))\n",
    "    print(result.all())"
   ],
   "metadata": {
    "collapsed": false,
    "pycharm": {
     "name": "#%%\n"
    }
   }
  },
  {
   "cell_type": "code",
   "execution_count": 3,
   "outputs": [
    {
     "name": "stdout",
     "output_type": "stream",
     "text": [
      "2022-01-20 18:22:15,127 INFO sqlalchemy.engine.Engine BEGIN (implicit)\n",
      "2022-01-20 18:22:15,129 INFO sqlalchemy.engine.Engine create table some_table (x int, y int)\n",
      "2022-01-20 18:22:15,130 INFO sqlalchemy.engine.Engine [generated in 0.00262s] ()\n",
      "2022-01-20 18:22:15,131 INFO sqlalchemy.engine.Engine insert into some_table (x, y) values (?, ?)\n",
      "2022-01-20 18:22:15,132 INFO sqlalchemy.engine.Engine [generated in 0.00065s] ((1, 2), (2, 4))\n",
      "2022-01-20 18:22:15,132 INFO sqlalchemy.engine.Engine COMMIT\n"
     ]
    }
   ],
   "source": [
    "with engine.connect() as conn:\n",
    "    conn.execute(text(\"create table some_table (x int, y int)\"))\n",
    "    conn.execute(\n",
    "        text(\"insert into some_table (x, y) values (:x, :y)\"),\n",
    "        [{'x': 1, 'y': 2}, {'x': 2, 'y': 4}]\n",
    "    )\n",
    "    conn.commit()"
   ],
   "metadata": {
    "collapsed": false,
    "pycharm": {
     "name": "#%%\n"
    }
   }
  },
  {
   "cell_type": "code",
   "execution_count": 4,
   "outputs": [
    {
     "name": "stdout",
     "output_type": "stream",
     "text": [
      "2022-01-20 18:22:15,139 INFO sqlalchemy.engine.Engine BEGIN (implicit)\n",
      "2022-01-20 18:22:15,140 INFO sqlalchemy.engine.Engine INSERT INTO some_table (x, y) VALUES (?, ?)\n",
      "2022-01-20 18:22:15,141 INFO sqlalchemy.engine.Engine [generated in 0.00081s] ((6, 8), (9, 10))\n",
      "2022-01-20 18:22:15,142 INFO sqlalchemy.engine.Engine COMMIT\n"
     ]
    }
   ],
   "source": [
    "with engine.begin() as conn:\n",
    "    conn.execute(\n",
    "        text(\"INSERT INTO some_table (x, y) VALUES (:x, :y)\"),\n",
    "        [{\"x\": 6, \"y\": 8}, {\"x\": 9, \"y\": 10}]\n",
    "    )"
   ],
   "metadata": {
    "collapsed": false,
    "pycharm": {
     "name": "#%%\n"
    }
   }
  },
  {
   "cell_type": "code",
   "execution_count": 5,
   "outputs": [
    {
     "name": "stdout",
     "output_type": "stream",
     "text": [
      "2022-01-20 18:22:15,148 INFO sqlalchemy.engine.Engine BEGIN (implicit)\n",
      "2022-01-20 18:22:15,149 INFO sqlalchemy.engine.Engine select x, y from some_table\n",
      "2022-01-20 18:22:15,150 INFO sqlalchemy.engine.Engine [generated in 0.00162s] ()\n",
      "x: 1, y: 2\n",
      "x: 2, y: 4\n",
      "x: 6, y: 8\n",
      "x: 9, y: 10\n",
      "2022-01-20 18:22:15,151 INFO sqlalchemy.engine.Engine ROLLBACK\n"
     ]
    }
   ],
   "source": [
    "with engine.connect() as conn:\n",
    "    result = conn.execute(text(\"select x, y from some_table\"))\n",
    "    for row in result:\n",
    "        print(f'x: {row.x}, y: {row.y}')"
   ],
   "metadata": {
    "collapsed": false,
    "pycharm": {
     "name": "#%%\n"
    }
   }
  },
  {
   "cell_type": "code",
   "execution_count": 6,
   "outputs": [
    {
     "data": {
      "text/plain": "MetaData()"
     },
     "execution_count": 6,
     "metadata": {},
     "output_type": "execute_result"
    }
   ],
   "source": [
    "from sqlalchemy import MetaData\n",
    "\n",
    "metadata_obj = MetaData()\n",
    "\n",
    "metadata_obj"
   ],
   "metadata": {
    "collapsed": false,
    "pycharm": {
     "name": "#%%\n"
    }
   }
  },
  {
   "cell_type": "code",
   "execution_count": 7,
   "outputs": [
    {
     "data": {
      "text/plain": "Table('user_account', MetaData(), Column('id', Integer(), table=<user_account>, primary_key=True, nullable=False), Column('name', String(length=30), table=<user_account>), Column('fullname', String(), table=<user_account>), schema=None)"
     },
     "execution_count": 7,
     "metadata": {},
     "output_type": "execute_result"
    }
   ],
   "source": [
    "from sqlalchemy import Table, Column, Integer, String\n",
    "\n",
    "user_table = Table(\n",
    "    'user_account',\n",
    "    metadata_obj,\n",
    "    Column('id', Integer, primary_key=True),\n",
    "    Column('name', String(30)),\n",
    "    Column('fullname', String)\n",
    ")\n",
    "\n",
    "user_table"
   ],
   "metadata": {
    "collapsed": false,
    "pycharm": {
     "name": "#%%\n"
    }
   }
  },
  {
   "cell_type": "code",
   "execution_count": 8,
   "outputs": [
    {
     "data": {
      "text/plain": "Table('address', MetaData(), Column('id', Integer(), table=<address>, primary_key=True, nullable=False), Column('user_id', Integer(), ForeignKey('user_account.id'), table=<address>, nullable=False), Column('email_address', String(), table=<address>, nullable=False), schema=None)"
     },
     "execution_count": 8,
     "metadata": {},
     "output_type": "execute_result"
    }
   ],
   "source": [
    "from sqlalchemy import ForeignKey\n",
    "\n",
    "address_table = Table(\n",
    "    'address',\n",
    "    metadata_obj,\n",
    "    Column('id', Integer, primary_key=True),\n",
    "    Column('user_id', ForeignKey('user_account.id'), nullable=False),\n",
    "    Column('email_address', String, nullable=False)\n",
    ")\n",
    "\n",
    "address_table"
   ],
   "metadata": {
    "collapsed": false,
    "pycharm": {
     "name": "#%%\n"
    }
   }
  },
  {
   "cell_type": "code",
   "execution_count": 9,
   "outputs": [
    {
     "name": "stdout",
     "output_type": "stream",
     "text": [
      "2022-01-20 18:22:15,174 INFO sqlalchemy.engine.Engine BEGIN (implicit)\n",
      "2022-01-20 18:22:15,175 INFO sqlalchemy.engine.Engine PRAGMA main.table_info(\"user_account\")\n",
      "2022-01-20 18:22:15,175 INFO sqlalchemy.engine.Engine [raw sql] ()\n",
      "2022-01-20 18:22:15,176 INFO sqlalchemy.engine.Engine PRAGMA temp.table_info(\"user_account\")\n",
      "2022-01-20 18:22:15,176 INFO sqlalchemy.engine.Engine [raw sql] ()\n",
      "2022-01-20 18:22:15,177 INFO sqlalchemy.engine.Engine PRAGMA main.table_info(\"address\")\n",
      "2022-01-20 18:22:15,177 INFO sqlalchemy.engine.Engine [raw sql] ()\n",
      "2022-01-20 18:22:15,178 INFO sqlalchemy.engine.Engine PRAGMA temp.table_info(\"address\")\n",
      "2022-01-20 18:22:15,178 INFO sqlalchemy.engine.Engine [raw sql] ()\n",
      "2022-01-20 18:22:15,179 INFO sqlalchemy.engine.Engine \n",
      "CREATE TABLE user_account (\n",
      "\tid INTEGER NOT NULL, \n",
      "\tname VARCHAR(30), \n",
      "\tfullname VARCHAR, \n",
      "\tPRIMARY KEY (id)\n",
      ")\n",
      "\n",
      "\n",
      "2022-01-20 18:22:15,180 INFO sqlalchemy.engine.Engine [no key 0.00055s] ()\n",
      "2022-01-20 18:22:15,181 INFO sqlalchemy.engine.Engine \n",
      "CREATE TABLE address (\n",
      "\tid INTEGER NOT NULL, \n",
      "\tuser_id INTEGER NOT NULL, \n",
      "\temail_address VARCHAR NOT NULL, \n",
      "\tPRIMARY KEY (id), \n",
      "\tFOREIGN KEY(user_id) REFERENCES user_account (id)\n",
      ")\n",
      "\n",
      "\n",
      "2022-01-20 18:22:15,181 INFO sqlalchemy.engine.Engine [no key 0.00054s] ()\n",
      "2022-01-20 18:22:15,182 INFO sqlalchemy.engine.Engine COMMIT\n"
     ]
    }
   ],
   "source": [
    "metadata_obj.create_all(engine)"
   ],
   "metadata": {
    "collapsed": false,
    "pycharm": {
     "name": "#%%\n"
    }
   }
  },
  {
   "cell_type": "code",
   "execution_count": 10,
   "outputs": [
    {
     "data": {
      "text/plain": "sqlalchemy.orm.decl_api.Base"
     },
     "execution_count": 10,
     "metadata": {},
     "output_type": "execute_result"
    }
   ],
   "source": [
    "from sqlalchemy.orm import registry\n",
    "\n",
    "mapper_registry = registry()\n",
    "\n",
    "Base = mapper_registry.generate_base()\n",
    "\n",
    "from sqlalchemy.orm import relationship\n",
    "\n",
    "Base"
   ],
   "metadata": {
    "collapsed": false,
    "pycharm": {
     "name": "#%%\n"
    }
   }
  },
  {
   "cell_type": "code",
   "execution_count": 11,
   "outputs": [
    {
     "data": {
      "text/plain": "Table('user_account', MetaData(), Column('id', Integer(), table=<user_account>, primary_key=True, nullable=False), Column('name', String(length=30), table=<user_account>), Column('fullname', String(), table=<user_account>), schema=None)"
     },
     "execution_count": 11,
     "metadata": {},
     "output_type": "execute_result"
    }
   ],
   "source": [
    "class User(Base):\n",
    "    __tablename__ = 'user_account'\n",
    "\n",
    "    id = Column(Integer, primary_key=True)\n",
    "    name = Column(String(30))\n",
    "    fullname = Column(String)\n",
    "\n",
    "    addresses = relationship('Address', back_populates='user')\n",
    "\n",
    "    def __repr__(self):\n",
    "        return f'User(id={self.id!r}, name={self.name!r}, fullname={self.fullname!r})'\n",
    "\n",
    "class Address(Base):\n",
    "    __tablename__ = 'address'\n",
    "    id = Column(Integer, primary_key=True)\n",
    "    email_address = Column(String, nullable=False)\n",
    "    user_id = Column(Integer, ForeignKey('user_account.id'))\n",
    "\n",
    "    user = relationship('User', back_populates='addresses')\n",
    "\n",
    "    def __repr__(self):\n",
    "        return f\"Address(id={self.id!r}, email_address={self.email_address!r})\"\n",
    "\n",
    "User.__table__"
   ],
   "metadata": {
    "collapsed": false,
    "pycharm": {
     "name": "#%%\n"
    }
   }
  },
  {
   "cell_type": "code",
   "execution_count": 12,
   "outputs": [
    {
     "data": {
      "text/plain": "User(id=None, name='Sandy', fullname='Sandy Cheeks')"
     },
     "execution_count": 12,
     "metadata": {},
     "output_type": "execute_result"
    }
   ],
   "source": [
    "sandy = User(name='Sandy', fullname='Sandy Cheeks')\n",
    "\n",
    "sandy"
   ],
   "metadata": {
    "collapsed": false,
    "pycharm": {
     "name": "#%%\n"
    }
   }
  },
  {
   "cell_type": "code",
   "execution_count": 13,
   "outputs": [
    {
     "name": "stdout",
     "output_type": "stream",
     "text": [
      "2022-01-20 18:23:44,920 INFO sqlalchemy.engine.Engine BEGIN (implicit)\n",
      "2022-01-20 18:23:44,921 INFO sqlalchemy.engine.Engine PRAGMA main.table_info(\"user_account\")\n",
      "2022-01-20 18:23:44,922 INFO sqlalchemy.engine.Engine [raw sql] ()\n",
      "2022-01-20 18:23:44,922 INFO sqlalchemy.engine.Engine PRAGMA main.table_info(\"address\")\n",
      "2022-01-20 18:23:44,923 INFO sqlalchemy.engine.Engine [raw sql] ()\n",
      "2022-01-20 18:23:44,924 INFO sqlalchemy.engine.Engine COMMIT\n"
     ]
    }
   ],
   "source": [
    "Base.metadata.create_all(engine)"
   ],
   "metadata": {
    "collapsed": false,
    "pycharm": {
     "name": "#%%\n"
    }
   }
  },
  {
   "cell_type": "code",
   "execution_count": 14,
   "outputs": [
    {
     "name": "stdout",
     "output_type": "stream",
     "text": [
      "2022-01-20 18:24:31,677 INFO sqlalchemy.engine.Engine BEGIN (implicit)\n",
      "2022-01-20 18:24:31,678 INFO sqlalchemy.engine.Engine PRAGMA main.table_xinfo(\"some_table\")\n",
      "2022-01-20 18:24:31,679 INFO sqlalchemy.engine.Engine [raw sql] ()\n",
      "2022-01-20 18:24:31,681 INFO sqlalchemy.engine.Engine SELECT sql FROM  (SELECT * FROM sqlite_master UNION ALL   SELECT * FROM sqlite_temp_master) WHERE name = ? AND type = 'table'\n",
      "2022-01-20 18:24:31,681 INFO sqlalchemy.engine.Engine [raw sql] ('some_table',)\n",
      "2022-01-20 18:24:31,683 INFO sqlalchemy.engine.Engine PRAGMA main.foreign_key_list(\"some_table\")\n",
      "2022-01-20 18:24:31,683 INFO sqlalchemy.engine.Engine [raw sql] ()\n",
      "2022-01-20 18:24:31,684 INFO sqlalchemy.engine.Engine PRAGMA temp.foreign_key_list(\"some_table\")\n",
      "2022-01-20 18:24:31,684 INFO sqlalchemy.engine.Engine [raw sql] ()\n",
      "2022-01-20 18:24:31,685 INFO sqlalchemy.engine.Engine SELECT sql FROM  (SELECT * FROM sqlite_master UNION ALL   SELECT * FROM sqlite_temp_master) WHERE name = ? AND type = 'table'\n",
      "2022-01-20 18:24:31,686 INFO sqlalchemy.engine.Engine [raw sql] ('some_table',)\n",
      "2022-01-20 18:24:31,687 INFO sqlalchemy.engine.Engine PRAGMA main.index_list(\"some_table\")\n",
      "2022-01-20 18:24:31,688 INFO sqlalchemy.engine.Engine [raw sql] ()\n",
      "2022-01-20 18:24:31,689 INFO sqlalchemy.engine.Engine PRAGMA temp.index_list(\"some_table\")\n",
      "2022-01-20 18:24:31,689 INFO sqlalchemy.engine.Engine [raw sql] ()\n",
      "2022-01-20 18:24:31,690 INFO sqlalchemy.engine.Engine PRAGMA main.index_list(\"some_table\")\n",
      "2022-01-20 18:24:31,690 INFO sqlalchemy.engine.Engine [raw sql] ()\n",
      "2022-01-20 18:24:31,691 INFO sqlalchemy.engine.Engine PRAGMA temp.index_list(\"some_table\")\n",
      "2022-01-20 18:24:31,691 INFO sqlalchemy.engine.Engine [raw sql] ()\n",
      "2022-01-20 18:24:31,692 INFO sqlalchemy.engine.Engine SELECT sql FROM  (SELECT * FROM sqlite_master UNION ALL   SELECT * FROM sqlite_temp_master) WHERE name = ? AND type = 'table'\n",
      "2022-01-20 18:24:31,693 INFO sqlalchemy.engine.Engine [raw sql] ('some_table',)\n",
      "2022-01-20 18:24:31,695 INFO sqlalchemy.engine.Engine ROLLBACK\n"
     ]
    }
   ],
   "source": [
    "some_table = Table('some_table', metadata_obj, autoload_with=engine)"
   ],
   "metadata": {
    "collapsed": false,
    "pycharm": {
     "name": "#%%\n"
    }
   }
  },
  {
   "cell_type": "code",
   "execution_count": 15,
   "outputs": [
    {
     "data": {
      "text/plain": "Table('some_table', MetaData(), Column('x', INTEGER(), table=<some_table>), Column('y', INTEGER(), table=<some_table>), schema=None)"
     },
     "execution_count": 15,
     "metadata": {},
     "output_type": "execute_result"
    }
   ],
   "source": [
    "some_table"
   ],
   "metadata": {
    "collapsed": false,
    "pycharm": {
     "name": "#%%\n"
    }
   }
  },
  {
   "cell_type": "code",
   "execution_count": 16,
   "outputs": [
    {
     "data": {
      "text/plain": "<sqlalchemy.sql.dml.Insert object at 0x126eb1b20>"
     },
     "execution_count": 16,
     "metadata": {},
     "output_type": "execute_result"
    }
   ],
   "source": [
    "from sqlalchemy import insert\n",
    "\n",
    "stmt = insert(user_table).values(name='spongebob', fullname='Spongebob Squarepants')\n",
    "\n",
    "stmt"
   ],
   "metadata": {
    "collapsed": false,
    "pycharm": {
     "name": "#%%\n"
    }
   }
  },
  {
   "cell_type": "code",
   "execution_count": 17,
   "outputs": [
    {
     "data": {
      "text/plain": "{'name': 'spongebob', 'fullname': 'Spongebob Squarepants'}"
     },
     "execution_count": 17,
     "metadata": {},
     "output_type": "execute_result"
    }
   ],
   "source": [
    "compiled = stmt.compile()\n",
    "\n",
    "compiled.params"
   ],
   "metadata": {
    "collapsed": false,
    "pycharm": {
     "name": "#%%\n"
    }
   }
  },
  {
   "cell_type": "code",
   "execution_count": 18,
   "outputs": [
    {
     "name": "stdout",
     "output_type": "stream",
     "text": [
      "2022-01-20 18:28:41,660 INFO sqlalchemy.engine.Engine BEGIN (implicit)\n",
      "2022-01-20 18:28:41,663 INFO sqlalchemy.engine.Engine INSERT INTO user_account (name, fullname) VALUES (?, ?)\n",
      "2022-01-20 18:28:41,663 INFO sqlalchemy.engine.Engine [generated in 0.00089s] ('spongebob', 'Spongebob Squarepants')\n",
      "2022-01-20 18:28:41,664 INFO sqlalchemy.engine.Engine COMMIT\n"
     ]
    }
   ],
   "source": [
    "with engine.begin() as conn:\n",
    "    result = conn.execute(stmt)"
   ],
   "metadata": {
    "collapsed": false,
    "pycharm": {
     "name": "#%%\n"
    }
   }
  },
  {
   "cell_type": "code",
   "execution_count": 19,
   "outputs": [
    {
     "name": "stdout",
     "output_type": "stream",
     "text": [
      "2022-01-20 19:00:10,139 INFO sqlalchemy.engine.Engine BEGIN (implicit)\n",
      "2022-01-20 19:00:10,140 INFO sqlalchemy.engine.Engine INSERT INTO user_account (name, fullname) VALUES (?, ?)\n",
      "2022-01-20 19:00:10,140 INFO sqlalchemy.engine.Engine [generated in 0.00177s] (('sandy', 'Sandy Cheeks'), ('patrick', 'Patrick Star'))\n",
      "2022-01-20 19:00:10,141 INFO sqlalchemy.engine.Engine COMMIT\n"
     ]
    }
   ],
   "source": [
    "with engine.connect() as conn:\n",
    "    result = conn.execute(\n",
    "        insert(user_table),\n",
    "        [\n",
    "            {'name': 'sandy', 'fullname': 'Sandy Cheeks'},\n",
    "            {'name': 'patrick', 'fullname': 'Patrick Star'}\n",
    "        ]\n",
    "    )\n",
    "    conn.commit()"
   ],
   "metadata": {
    "collapsed": false,
    "pycharm": {
     "name": "#%%\n"
    }
   }
  },
  {
   "cell_type": "code",
   "execution_count": 20,
   "outputs": [
    {
     "name": "stdout",
     "output_type": "stream",
     "text": [
      "INSERT INTO address (user_id, email_address) SELECT user_account.id, user_account.name || :name_1 AS anon_1 \n",
      "FROM user_account\n"
     ]
    }
   ],
   "source": [
    "from sqlalchemy import select, bindparam\n",
    "\n",
    "select_stmt = select(user_table.c.id, user_table.c.name + '@aol.com')\n",
    "\n",
    "insert_stmt = insert(address_table).from_select(\n",
    "    ['user_id', 'email_address'], select_stmt\n",
    ")\n",
    "\n",
    "print(insert_stmt)"
   ],
   "metadata": {
    "collapsed": false,
    "pycharm": {
     "name": "#%%\n"
    }
   }
  },
  {
   "cell_type": "code",
   "execution_count": 21,
   "outputs": [
    {
     "name": "stdout",
     "output_type": "stream",
     "text": [
      "INSERT INTO address (id, user_id, email_address) VALUES (:id, :user_id, :email_address) RETURNING address.id, address.email_address\n"
     ]
    }
   ],
   "source": [
    "insert_stmt = insert(address_table).returning(address_table.c.id, address_table.c.email_address)\n",
    "\n",
    "print(insert_stmt)"
   ],
   "metadata": {
    "collapsed": false,
    "pycharm": {
     "name": "#%%\n"
    }
   }
  },
  {
   "cell_type": "code",
   "execution_count": 22,
   "outputs": [
    {
     "name": "stdout",
     "output_type": "stream",
     "text": [
      "INSERT INTO address (user_id, email_address) SELECT user_account.id, user_account.name || :name_1 AS anon_1 \n",
      "FROM user_account RETURNING address.id, address.email_address\n"
     ]
    }
   ],
   "source": [
    "insert_stmt = insert(address_table).from_select(\n",
    "    ['user_id', 'email_address'], select_stmt\n",
    ")\n",
    "\n",
    "print(insert_stmt.returning(address_table.c.id, address_table.c.email_address))"
   ],
   "metadata": {
    "collapsed": false,
    "pycharm": {
     "name": "#%%\n"
    }
   }
  },
  {
   "cell_type": "code",
   "execution_count": 23,
   "outputs": [
    {
     "name": "stdout",
     "output_type": "stream",
     "text": [
      "SELECT user_account.id, user_account.name, user_account.fullname \n",
      "FROM user_account \n",
      "WHERE user_account.name = :name_1\n"
     ]
    }
   ],
   "source": [
    "stmt = select(user_table).where(user_table.c.name == 'spongebob')\n",
    "\n",
    "print(stmt)"
   ],
   "metadata": {
    "collapsed": false,
    "pycharm": {
     "name": "#%%\n"
    }
   }
  },
  {
   "cell_type": "code",
   "execution_count": 25,
   "outputs": [
    {
     "name": "stdout",
     "output_type": "stream",
     "text": [
      "2022-01-20 19:07:37,755 INFO sqlalchemy.engine.Engine BEGIN (implicit)\n",
      "2022-01-20 19:07:37,756 INFO sqlalchemy.engine.Engine SELECT user_account.id, user_account.name, user_account.fullname \n",
      "FROM user_account \n",
      "WHERE user_account.name = ?\n",
      "2022-01-20 19:07:37,757 INFO sqlalchemy.engine.Engine [generated in 0.00182s] ('spongebob',)\n",
      "(1, 'spongebob', 'Spongebob Squarepants')\n",
      "2022-01-20 19:07:37,758 INFO sqlalchemy.engine.Engine ROLLBACK\n"
     ]
    }
   ],
   "source": [
    "with engine.connect() as conn:\n",
    "    for row in conn.execute(stmt):\n",
    "        print(row)"
   ],
   "metadata": {
    "collapsed": false,
    "pycharm": {
     "name": "#%%\n"
    }
   }
  },
  {
   "cell_type": "code",
   "execution_count": 26,
   "outputs": [
    {
     "name": "stdout",
     "output_type": "stream",
     "text": [
      "2022-01-20 19:11:46,923 INFO sqlalchemy.engine.Engine BEGIN (implicit)\n",
      "2022-01-20 19:11:46,925 INFO sqlalchemy.engine.Engine SELECT user_account.id, user_account.name, user_account.fullname \n",
      "FROM user_account \n",
      "WHERE user_account.name = ?\n",
      "2022-01-20 19:11:46,926 INFO sqlalchemy.engine.Engine [generated in 0.00105s] ('spongebob',)\n",
      "(User(id=1, name='spongebob', fullname='Spongebob Squarepants'),)\n",
      "2022-01-20 19:11:46,928 INFO sqlalchemy.engine.Engine ROLLBACK\n"
     ]
    }
   ],
   "source": [
    "stmt = select(User).where(User.name == 'spongebob')\n",
    "\n",
    "from sqlalchemy.orm import Session\n",
    "\n",
    "with Session(engine) as session:\n",
    "    for row in session.execute(stmt):\n",
    "        print(row)"
   ],
   "metadata": {
    "collapsed": false,
    "pycharm": {
     "name": "#%%\n"
    }
   }
  },
  {
   "cell_type": "code",
   "execution_count": 27,
   "outputs": [
    {
     "name": "stdout",
     "output_type": "stream",
     "text": [
      "SELECT user_account.id, user_account.name, user_account.fullname \n",
      "FROM user_account\n",
      "SELECT user_account.name, user_account.fullname \n",
      "FROM user_account\n",
      "SELECT user_account.id, user_account.name, user_account.fullname \n",
      "FROM user_account\n"
     ]
    }
   ],
   "source": [
    "print(select(user_table))\n",
    "print(select(user_table.c.name, user_table.c.fullname))\n",
    "print(select(User))"
   ],
   "metadata": {
    "collapsed": false,
    "pycharm": {
     "name": "#%%\n"
    }
   }
  },
  {
   "cell_type": "code",
   "execution_count": 28,
   "outputs": [
    {
     "name": "stdout",
     "output_type": "stream",
     "text": [
      "2022-01-20 19:13:38,164 INFO sqlalchemy.engine.Engine SELECT user_account.id, user_account.name, user_account.fullname \n",
      "FROM user_account\n",
      "2022-01-20 19:13:38,165 INFO sqlalchemy.engine.Engine [cached since 3.763s ago] ()\n"
     ]
    }
   ],
   "source": [
    "row = session.execute(select(User)).first()"
   ],
   "metadata": {
    "collapsed": false,
    "pycharm": {
     "name": "#%%\n"
    }
   }
  },
  {
   "cell_type": "code",
   "execution_count": 29,
   "outputs": [
    {
     "data": {
      "text/plain": "User(id=1, name='spongebob', fullname='Spongebob Squarepants')"
     },
     "execution_count": 29,
     "metadata": {},
     "output_type": "execute_result"
    }
   ],
   "source": [
    "row[0]"
   ],
   "metadata": {
    "collapsed": false,
    "pycharm": {
     "name": "#%%\n"
    }
   }
  },
  {
   "cell_type": "code",
   "execution_count": 30,
   "outputs": [
    {
     "name": "stdout",
     "output_type": "stream",
     "text": [
      "2022-01-20 19:15:47,224 INFO sqlalchemy.engine.Engine SELECT address.id, address.email_address, address.user_id \n",
      "FROM address\n",
      "2022-01-20 19:15:47,225 INFO sqlalchemy.engine.Engine [cached since 7.07s ago] ()\n"
     ]
    },
    {
     "data": {
      "text/plain": "[]"
     },
     "execution_count": 30,
     "metadata": {},
     "output_type": "execute_result"
    }
   ],
   "source": [
    "session.execute(select(Address)).all()"
   ],
   "metadata": {
    "collapsed": false,
    "pycharm": {
     "name": "#%%\n"
    }
   }
  },
  {
   "cell_type": "code",
   "execution_count": 31,
   "outputs": [
    {
     "name": "stdout",
     "output_type": "stream",
     "text": [
      "2022-01-20 19:16:10,187 INFO sqlalchemy.engine.Engine BEGIN (implicit)\n",
      "2022-01-20 19:16:10,190 INFO sqlalchemy.engine.Engine INSERT INTO address (user_id, email_address) SELECT user_account.id, user_account.name || ? AS anon_1 \n",
      "FROM user_account\n",
      "2022-01-20 19:16:10,191 INFO sqlalchemy.engine.Engine [generated in 0.00093s] ('@aol.com',)\n",
      "2022-01-20 19:16:10,191 INFO sqlalchemy.engine.Engine COMMIT\n"
     ]
    }
   ],
   "source": [
    "with engine.begin() as conn:\n",
    "    conn.execute(insert_stmt)"
   ],
   "metadata": {
    "collapsed": false,
    "pycharm": {
     "name": "#%%\n"
    }
   }
  },
  {
   "cell_type": "code",
   "execution_count": 32,
   "outputs": [
    {
     "name": "stdout",
     "output_type": "stream",
     "text": [
      "2022-01-20 19:16:20,637 INFO sqlalchemy.engine.Engine SELECT address.id, address.email_address, address.user_id \n",
      "FROM address\n",
      "2022-01-20 19:16:20,638 INFO sqlalchemy.engine.Engine [cached since 40.48s ago] ()\n"
     ]
    },
    {
     "data": {
      "text/plain": "[(Address(id=1, email_address='spongebob@aol.com'),),\n (Address(id=2, email_address='sandy@aol.com'),),\n (Address(id=3, email_address='patrick@aol.com'),)]"
     },
     "execution_count": 32,
     "metadata": {},
     "output_type": "execute_result"
    }
   ],
   "source": [
    "session.execute(select(Address)).all()"
   ],
   "metadata": {
    "collapsed": false,
    "pycharm": {
     "name": "#%%\n"
    }
   }
  },
  {
   "cell_type": "code",
   "execution_count": 33,
   "outputs": [
    {
     "name": "stdout",
     "output_type": "stream",
     "text": [
      "2022-01-20 19:17:45,374 INFO sqlalchemy.engine.Engine SELECT user_account.name, address.id, address.email_address, address.user_id \n",
      "FROM user_account, address \n",
      "WHERE user_account.id = address.user_id ORDER BY address.id\n",
      "2022-01-20 19:17:45,375 INFO sqlalchemy.engine.Engine [cached since 1.997s ago] ()\n"
     ]
    },
    {
     "data": {
      "text/plain": "[('spongebob', Address(id=1, email_address='spongebob@aol.com')),\n ('sandy', Address(id=2, email_address='sandy@aol.com')),\n ('patrick', Address(id=3, email_address='patrick@aol.com'))]"
     },
     "execution_count": 33,
     "metadata": {},
     "output_type": "execute_result"
    }
   ],
   "source": [
    "session.execute(\n",
    "    select(User.name, Address).\n",
    "    where(User.id == Address.user_id).\n",
    "    order_by(Address.id)\n",
    ").all()"
   ],
   "metadata": {
    "collapsed": false,
    "pycharm": {
     "name": "#%%\n"
    }
   }
  },
  {
   "cell_type": "code",
   "execution_count": 34,
   "outputs": [
    {
     "name": "stdout",
     "output_type": "stream",
     "text": [
      "2022-01-20 19:20:22,360 INFO sqlalchemy.engine.Engine BEGIN (implicit)\n",
      "2022-01-20 19:20:22,362 INFO sqlalchemy.engine.Engine SELECT ? || user_account.name AS username \n",
      "FROM user_account ORDER BY user_account.name\n",
      "2022-01-20 19:20:22,362 INFO sqlalchemy.engine.Engine [generated in 0.00235s] ('Username: ',)\n",
      "Username: patrick\n",
      "Username: sandy\n",
      "Username: spongebob\n",
      "2022-01-20 19:20:22,364 INFO sqlalchemy.engine.Engine ROLLBACK\n"
     ]
    }
   ],
   "source": [
    "from sqlalchemy import func, cast\n",
    "\n",
    "stmt = select(\n",
    "    (\"Username: \" + user_table.c.name).label(\"username\"),\n",
    ").order_by(user_table.c.name)\n",
    "\n",
    "with engine.connect() as conn:\n",
    "    for row in conn.execute(stmt):\n",
    "        print(f'{row.username}')"
   ],
   "metadata": {
    "collapsed": false,
    "pycharm": {
     "name": "#%%\n"
    }
   }
  },
  {
   "cell_type": "code",
   "execution_count": 35,
   "outputs": [
    {
     "data": {
      "text/plain": "IdentitySet([User(id=None, name='squidward', fullname='Squidward Tentacles')])"
     },
     "execution_count": 35,
     "metadata": {},
     "output_type": "execute_result"
    }
   ],
   "source": [
    "squidward = User(name=\"squidward\", fullname=\"Squidward Tentacles\")\n",
    "\n",
    "session.add(squidward)\n",
    "\n",
    "session.new"
   ],
   "metadata": {
    "collapsed": false,
    "pycharm": {
     "name": "#%%\n"
    }
   }
  },
  {
   "cell_type": "code",
   "execution_count": 36,
   "outputs": [
    {
     "name": "stdout",
     "output_type": "stream",
     "text": [
      "2022-01-20 20:52:52,403 INFO sqlalchemy.engine.Engine INSERT INTO user_account (name, fullname) VALUES (?, ?)\n",
      "2022-01-20 20:52:52,405 INFO sqlalchemy.engine.Engine [generated in 0.00203s] ('squidward', 'Squidward Tentacles')\n"
     ]
    }
   ],
   "source": [
    "session.flush()"
   ],
   "metadata": {
    "collapsed": false,
    "pycharm": {
     "name": "#%%\n"
    }
   }
  },
  {
   "cell_type": "code",
   "execution_count": 37,
   "outputs": [
    {
     "data": {
      "text/plain": "4"
     },
     "execution_count": 37,
     "metadata": {},
     "output_type": "execute_result"
    }
   ],
   "source": [
    "squidward.id"
   ],
   "metadata": {
    "collapsed": false,
    "pycharm": {
     "name": "#%%\n"
    }
   }
  },
  {
   "cell_type": "code",
   "execution_count": 38,
   "outputs": [
    {
     "data": {
      "text/plain": "User(id=4, name='squidward', fullname='Squidward Tentacles')"
     },
     "execution_count": 38,
     "metadata": {},
     "output_type": "execute_result"
    }
   ],
   "source": [
    "some_squidward = session.get(User, 4)\n",
    "\n",
    "some_squidward"
   ],
   "metadata": {
    "collapsed": false,
    "pycharm": {
     "name": "#%%\n"
    }
   }
  },
  {
   "cell_type": "code",
   "execution_count": 39,
   "outputs": [
    {
     "name": "stdout",
     "output_type": "stream",
     "text": [
      "2022-01-20 20:54:06,282 INFO sqlalchemy.engine.Engine COMMIT\n"
     ]
    }
   ],
   "source": [
    "session.commit()"
   ],
   "metadata": {
    "collapsed": false,
    "pycharm": {
     "name": "#%%\n"
    }
   }
  },
  {
   "cell_type": "code",
   "execution_count": 40,
   "outputs": [
    {
     "name": "stdout",
     "output_type": "stream",
     "text": [
      "2022-01-20 20:55:38,472 INFO sqlalchemy.engine.Engine SELECT user_account.id, user_account.name, user_account.fullname \n",
      "FROM user_account \n",
      "WHERE user_account.name = ?\n",
      "2022-01-20 20:55:38,474 INFO sqlalchemy.engine.Engine [cached since 2306s ago] ('sandy',)\n"
     ]
    },
    {
     "data": {
      "text/plain": "User(id=2, name='sandy', fullname='Sandy Cheeks')"
     },
     "execution_count": 40,
     "metadata": {},
     "output_type": "execute_result"
    }
   ],
   "source": [
    "sandy = session.execute(select(User).filter_by(name='sandy')).scalar_one()\n",
    "\n",
    "sandy"
   ],
   "metadata": {
    "collapsed": false,
    "pycharm": {
     "name": "#%%\n"
    }
   }
  },
  {
   "cell_type": "code",
   "execution_count": 41,
   "outputs": [
    {
     "data": {
      "text/plain": "True"
     },
     "execution_count": 41,
     "metadata": {},
     "output_type": "execute_result"
    }
   ],
   "source": [
    "sandy.fullname = \"Sandy Squirrel\"\n",
    "\n",
    "sandy in session.dirty"
   ],
   "metadata": {
    "collapsed": false,
    "pycharm": {
     "name": "#%%\n"
    }
   }
  },
  {
   "cell_type": "code",
   "execution_count": 42,
   "outputs": [
    {
     "name": "stdout",
     "output_type": "stream",
     "text": [
      "2022-01-20 20:57:47,647 INFO sqlalchemy.engine.Engine UPDATE user_account SET fullname=? WHERE user_account.id = ?\n",
      "2022-01-20 20:57:47,648 INFO sqlalchemy.engine.Engine [generated in 0.00155s] ('Sandy Squirrel', 2)\n"
     ]
    }
   ],
   "source": [
    "session.flush()"
   ],
   "metadata": {
    "collapsed": false,
    "pycharm": {
     "name": "#%%\n"
    }
   }
  },
  {
   "cell_type": "code",
   "execution_count": 43,
   "outputs": [
    {
     "name": "stdout",
     "output_type": "stream",
     "text": [
      "2022-01-20 20:59:16,964 INFO sqlalchemy.engine.Engine SELECT user_account.fullname \n",
      "FROM user_account \n",
      "WHERE user_account.id = ?\n",
      "2022-01-20 20:59:16,965 INFO sqlalchemy.engine.Engine [cached since 4.117s ago] (2,)\n"
     ]
    }
   ],
   "source": [
    "sandy_fullname = session.execute(\n",
    "    select(User.fullname).where(User.id == 2)\n",
    ").scalar_one()"
   ],
   "metadata": {
    "collapsed": false,
    "pycharm": {
     "name": "#%%\n"
    }
   }
  },
  {
   "cell_type": "code",
   "execution_count": 44,
   "outputs": [
    {
     "data": {
      "text/plain": "'Sandy Squirrel'"
     },
     "execution_count": 44,
     "metadata": {},
     "output_type": "execute_result"
    }
   ],
   "source": [
    "sandy_fullname"
   ],
   "metadata": {
    "collapsed": false,
    "pycharm": {
     "name": "#%%\n"
    }
   }
  },
  {
   "cell_type": "code",
   "execution_count": 45,
   "outputs": [
    {
     "data": {
      "text/plain": "False"
     },
     "execution_count": 45,
     "metadata": {},
     "output_type": "execute_result"
    }
   ],
   "source": [
    "sandy in session.dirty"
   ],
   "metadata": {
    "collapsed": false,
    "pycharm": {
     "name": "#%%\n"
    }
   }
  },
  {
   "cell_type": "code",
   "execution_count": 47,
   "outputs": [
    {
     "name": "stdout",
     "output_type": "stream",
     "text": [
      "2022-01-20 21:01:36,560 INFO sqlalchemy.engine.Engine UPDATE user_account SET fullname=? WHERE user_account.name = ?\n",
      "2022-01-20 21:01:36,562 INFO sqlalchemy.engine.Engine [cached since 23.03s ago] ('Sandy Squirrel Extraordinare', 'sandy')\n"
     ]
    },
    {
     "data": {
      "text/plain": "<sqlalchemy.engine.cursor.CursorResult at 0x127203f40>"
     },
     "execution_count": 47,
     "metadata": {},
     "output_type": "execute_result"
    }
   ],
   "source": [
    "from sqlalchemy import update\n",
    "\n",
    "session.execute(\n",
    "    update(User)\n",
    "    .where(User.name == 'sandy')\n",
    "    .values(fullname='Sandy Squirrel Extraordinare')\n",
    ")"
   ],
   "metadata": {
    "collapsed": false,
    "pycharm": {
     "name": "#%%\n"
    }
   }
  },
  {
   "cell_type": "code",
   "execution_count": 48,
   "outputs": [
    {
     "data": {
      "text/plain": "'Sandy Squirrel Extraordinare'"
     },
     "execution_count": 48,
     "metadata": {},
     "output_type": "execute_result"
    }
   ],
   "source": [
    "sandy.fullname"
   ],
   "metadata": {
    "collapsed": false,
    "pycharm": {
     "name": "#%%\n"
    }
   }
  },
  {
   "cell_type": "code",
   "execution_count": 49,
   "outputs": [
    {
     "name": "stdout",
     "output_type": "stream",
     "text": [
      "2022-01-20 21:02:13,654 INFO sqlalchemy.engine.Engine SELECT user_account.id AS user_account_id, user_account.name AS user_account_name, user_account.fullname AS user_account_fullname \n",
      "FROM user_account \n",
      "WHERE user_account.id = ?\n",
      "2022-01-20 21:02:13,656 INFO sqlalchemy.engine.Engine [generated in 0.00145s] (3,)\n"
     ]
    }
   ],
   "source": [
    "partrick = session.get(User, 3)\n",
    "\n",
    "session.delete(partrick)"
   ],
   "metadata": {
    "collapsed": false,
    "pycharm": {
     "name": "#%%\n"
    }
   }
  },
  {
   "cell_type": "code",
   "execution_count": 67,
   "outputs": [],
   "source": [
    "session.rollback()"
   ],
   "metadata": {
    "collapsed": false,
    "pycharm": {
     "name": "#%%\n"
    }
   }
  },
  {
   "cell_type": "code",
   "execution_count": 68,
   "outputs": [
    {
     "data": {
      "text/plain": "User(id=3, name='patrick', fullname='Patrick Star')"
     },
     "execution_count": 68,
     "metadata": {},
     "output_type": "execute_result"
    }
   ],
   "source": [
    "partrick"
   ],
   "metadata": {
    "collapsed": false,
    "pycharm": {
     "name": "#%%\n"
    }
   }
  },
  {
   "cell_type": "code",
   "execution_count": 69,
   "outputs": [
    {
     "name": "stdout",
     "output_type": "stream",
     "text": [
      "2022-01-20 21:13:00,881 INFO sqlalchemy.engine.Engine SELECT address.id, address.email_address, address.user_id \n",
      "FROM address \n",
      "WHERE address.user_id = ?\n",
      "2022-01-20 21:13:00,882 INFO sqlalchemy.engine.Engine [generated in 0.00137s] (3,)\n"
     ]
    }
   ],
   "source": [
    "patrick_addr = session.execute(\n",
    "    select(Address)\n",
    "    .where(Address.user_id == partrick.id)\n",
    ").scalar_one()\n",
    "\n",
    "session.delete(patrick_addr)\n",
    "session.delete(partrick)"
   ],
   "metadata": {
    "collapsed": false,
    "pycharm": {
     "name": "#%%\n"
    }
   }
  },
  {
   "cell_type": "code",
   "execution_count": 70,
   "outputs": [
    {
     "name": "stdout",
     "output_type": "stream",
     "text": [
      "2022-01-20 21:13:05,042 INFO sqlalchemy.engine.Engine SELECT address.id AS address_id, address.email_address AS address_email_address, address.user_id AS address_user_id \n",
      "FROM address \n",
      "WHERE ? = address.user_id\n",
      "2022-01-20 21:13:05,043 INFO sqlalchemy.engine.Engine [cached since 594.8s ago] (3,)\n",
      "2022-01-20 21:13:05,045 INFO sqlalchemy.engine.Engine DELETE FROM address WHERE address.id = ?\n",
      "2022-01-20 21:13:05,046 INFO sqlalchemy.engine.Engine [generated in 0.00061s] (3,)\n",
      "2022-01-20 21:13:05,046 INFO sqlalchemy.engine.Engine DELETE FROM user_account WHERE user_account.id = ?\n",
      "2022-01-20 21:13:05,047 INFO sqlalchemy.engine.Engine [generated in 0.00071s] (3,)\n"
     ]
    }
   ],
   "source": [
    "session.flush()"
   ],
   "metadata": {
    "collapsed": false,
    "pycharm": {
     "name": "#%%\n"
    }
   }
  },
  {
   "cell_type": "code",
   "execution_count": 71,
   "outputs": [
    {
     "name": "stdout",
     "output_type": "stream",
     "text": [
      "2022-01-20 21:13:14,742 INFO sqlalchemy.engine.Engine SELECT user_account.id, user_account.name, user_account.fullname \n",
      "FROM user_account \n",
      "WHERE user_account.name = ?\n",
      "2022-01-20 21:13:14,743 INFO sqlalchemy.engine.Engine [cached since 3362s ago] ('patrick',)\n"
     ]
    }
   ],
   "source": [
    "session.execute(\n",
    "    select(User)\n",
    "        .where(User.name == 'patrick')\n",
    ").first()"
   ],
   "metadata": {
    "collapsed": false,
    "pycharm": {
     "name": "#%%\n"
    }
   }
  },
  {
   "cell_type": "code",
   "execution_count": 72,
   "outputs": [
    {
     "data": {
      "text/plain": "False"
     },
     "execution_count": 72,
     "metadata": {},
     "output_type": "execute_result"
    }
   ],
   "source": [
    "partrick in session"
   ],
   "metadata": {
    "collapsed": false,
    "pycharm": {
     "name": "#%%\n"
    }
   }
  },
  {
   "cell_type": "code",
   "execution_count": 73,
   "outputs": [
    {
     "data": {
      "text/plain": "True"
     },
     "execution_count": 73,
     "metadata": {},
     "output_type": "execute_result"
    }
   ],
   "source": [
    "sandy in session"
   ],
   "metadata": {
    "collapsed": false,
    "pycharm": {
     "name": "#%%\n"
    }
   }
  },
  {
   "cell_type": "code",
   "execution_count": 75,
   "outputs": [
    {
     "name": "stdout",
     "output_type": "stream",
     "text": [
      "2022-01-20 21:14:05,393 INFO sqlalchemy.engine.Engine SELECT address.id AS address_id, address.email_address AS address_email_address, address.user_id AS address_user_id \n",
      "FROM address \n",
      "WHERE ? = address.user_id\n",
      "2022-01-20 21:14:05,394 INFO sqlalchemy.engine.Engine [cached since 655.2s ago] (2,)\n"
     ]
    },
    {
     "data": {
      "text/plain": "[Address(id=2, email_address='sandy@aol.com')]"
     },
     "execution_count": 75,
     "metadata": {},
     "output_type": "execute_result"
    }
   ],
   "source": [
    "sandy.addresses"
   ],
   "metadata": {
    "collapsed": false,
    "pycharm": {
     "name": "#%%\n"
    }
   }
  },
  {
   "cell_type": "code",
   "execution_count": 76,
   "outputs": [
    {
     "data": {
      "text/plain": "'Sandy Cheeks'"
     },
     "execution_count": 76,
     "metadata": {},
     "output_type": "execute_result"
    }
   ],
   "source": [
    "sandy.fullname"
   ],
   "metadata": {
    "collapsed": false,
    "pycharm": {
     "name": "#%%\n"
    }
   }
  },
  {
   "cell_type": "code",
   "execution_count": 77,
   "outputs": [
    {
     "name": "stdout",
     "output_type": "stream",
     "text": [
      "2022-01-20 21:16:57,749 INFO sqlalchemy.engine.Engine ROLLBACK\n"
     ]
    }
   ],
   "source": [
    "session.rollback()"
   ],
   "metadata": {
    "collapsed": false,
    "pycharm": {
     "name": "#%%\n"
    }
   }
  },
  {
   "cell_type": "code",
   "execution_count": 78,
   "outputs": [
    {
     "data": {
      "text/plain": "'Sandy Cheeks'"
     },
     "execution_count": 78,
     "metadata": {},
     "output_type": "execute_result"
    }
   ],
   "source": [
    "sandy.fullname"
   ],
   "metadata": {
    "collapsed": false,
    "pycharm": {
     "name": "#%%\n"
    }
   }
  },
  {
   "cell_type": "code",
   "execution_count": 79,
   "outputs": [
    {
     "data": {
      "text/plain": "True"
     },
     "execution_count": 79,
     "metadata": {},
     "output_type": "execute_result"
    }
   ],
   "source": [
    "partrick in session"
   ],
   "metadata": {
    "collapsed": false,
    "pycharm": {
     "name": "#%%\n"
    }
   }
  },
  {
   "cell_type": "code",
   "execution_count": 80,
   "outputs": [
    {
     "data": {
      "text/plain": "[]"
     },
     "execution_count": 80,
     "metadata": {},
     "output_type": "execute_result"
    }
   ],
   "source": [
    "u1 = User(name = 'pkrabs', fullname='Pearl Krabs')\n",
    "\n",
    "u1.addresses"
   ],
   "metadata": {
    "collapsed": false,
    "pycharm": {
     "name": "#%%\n"
    }
   }
  },
  {
   "cell_type": "code",
   "execution_count": 81,
   "outputs": [
    {
     "data": {
      "text/plain": "[Address(id=None, email_address='pearl.krabs@gmail.com')]"
     },
     "execution_count": 81,
     "metadata": {},
     "output_type": "execute_result"
    }
   ],
   "source": [
    "a1 = Address(email_address='pearl.krabs@gmail.com')\n",
    "\n",
    "u1.addresses.append(a1)\n",
    "\n",
    "u1.addresses"
   ],
   "metadata": {
    "collapsed": false,
    "pycharm": {
     "name": "#%%\n"
    }
   }
  },
  {
   "cell_type": "code",
   "execution_count": 82,
   "outputs": [
    {
     "data": {
      "text/plain": "User(id=None, name='pkrabs', fullname='Pearl Krabs')"
     },
     "execution_count": 82,
     "metadata": {},
     "output_type": "execute_result"
    }
   ],
   "source": [
    "a1.user"
   ],
   "metadata": {
    "collapsed": false,
    "pycharm": {
     "name": "#%%\n"
    }
   }
  },
  {
   "cell_type": "code",
   "execution_count": 83,
   "outputs": [],
   "source": [
    "a2 = Address(email_address=\"pearl@aol.com\", user=u1)"
   ],
   "metadata": {
    "collapsed": false,
    "pycharm": {
     "name": "#%%\n"
    }
   }
  },
  {
   "cell_type": "code",
   "execution_count": 84,
   "outputs": [
    {
     "data": {
      "text/plain": "[Address(id=None, email_address='pearl.krabs@gmail.com'),\n Address(id=None, email_address='pearl@aol.com')]"
     },
     "execution_count": 84,
     "metadata": {},
     "output_type": "execute_result"
    }
   ],
   "source": [
    "u1.addresses"
   ],
   "metadata": {
    "collapsed": false,
    "pycharm": {
     "name": "#%%\n"
    }
   }
  },
  {
   "cell_type": "code",
   "execution_count": 85,
   "outputs": [
    {
     "name": "stdout",
     "output_type": "stream",
     "text": [
      "2022-01-20 21:21:06,247 INFO sqlalchemy.engine.Engine INSERT INTO user_account (name, fullname) VALUES (?, ?)\n",
      "2022-01-20 21:21:06,248 INFO sqlalchemy.engine.Engine [cached since 1694s ago] ('pkrabs', 'Pearl Krabs')\n",
      "2022-01-20 21:21:06,250 INFO sqlalchemy.engine.Engine INSERT INTO address (email_address, user_id) VALUES (?, ?)\n",
      "2022-01-20 21:21:06,250 INFO sqlalchemy.engine.Engine [generated in 0.00059s] ('pearl.krabs@gmail.com', 5)\n",
      "2022-01-20 21:21:06,251 INFO sqlalchemy.engine.Engine INSERT INTO address (email_address, user_id) VALUES (?, ?)\n",
      "2022-01-20 21:21:06,251 INFO sqlalchemy.engine.Engine [cached since 0.001661s ago] ('pearl@aol.com', 5)\n"
     ]
    }
   ],
   "source": [
    "session.add(u1)\n",
    "\n",
    "session.flush()"
   ],
   "metadata": {
    "collapsed": false,
    "pycharm": {
     "name": "#%%\n"
    }
   }
  },
  {
   "cell_type": "code",
   "execution_count": 86,
   "outputs": [
    {
     "data": {
      "text/plain": "(5, 5, 5)"
     },
     "execution_count": 86,
     "metadata": {},
     "output_type": "execute_result"
    }
   ],
   "source": [
    "(u1.id, a1.user_id, a2.id)"
   ],
   "metadata": {
    "collapsed": false,
    "pycharm": {
     "name": "#%%\n"
    }
   }
  },
  {
   "cell_type": "code",
   "execution_count": 87,
   "outputs": [
    {
     "name": "stdout",
     "output_type": "stream",
     "text": [
      "2022-01-20 21:22:08,975 INFO sqlalchemy.engine.Engine COMMIT\n"
     ]
    }
   ],
   "source": [
    "session.commit()"
   ],
   "metadata": {
    "collapsed": false,
    "pycharm": {
     "name": "#%%\n"
    }
   }
  },
  {
   "cell_type": "code",
   "execution_count": 88,
   "outputs": [
    {
     "data": {
      "text/plain": "5"
     },
     "execution_count": 88,
     "metadata": {},
     "output_type": "execute_result"
    }
   ],
   "source": [
    "u1.id"
   ],
   "metadata": {
    "collapsed": false,
    "pycharm": {
     "name": "#%%\n"
    }
   }
  },
  {
   "cell_type": "code",
   "execution_count": 89,
   "outputs": [
    {
     "name": "stdout",
     "output_type": "stream",
     "text": [
      "SELECT address.email_address \n",
      "FROM user_account JOIN address ON user_account.id = address.user_id\n"
     ]
    }
   ],
   "source": [
    "print(\n",
    "    select(Address.email_address)\n",
    "    .select_from(User)\n",
    "    .join(User.addresses)\n",
    ")"
   ],
   "metadata": {
    "collapsed": false,
    "pycharm": {
     "name": "#%%\n"
    }
   }
  },
  {
   "cell_type": "code",
   "execution_count": 90,
   "outputs": [
    {
     "name": "stdout",
     "output_type": "stream",
     "text": [
      "SELECT address.email_address \n",
      "FROM user_account JOIN address ON user_account.id = address.user_id\n"
     ]
    }
   ],
   "source": [
    "print(\n",
    "    select(Address.email_address)\n",
    "    .join_from(User, Address)\n",
    ")"
   ],
   "metadata": {
    "collapsed": false,
    "pycharm": {
     "name": "#%%\n"
    }
   }
  },
  {
   "cell_type": "code",
   "execution_count": 91,
   "outputs": [
    {
     "name": "stdout",
     "output_type": "stream",
     "text": [
      "SELECT user_account.id, user_account.name, user_account.fullname \n",
      "FROM user_account JOIN address AS address_1 ON user_account.id = address_1.user_id JOIN address AS address_2 ON user_account.id = address_2.user_id \n",
      "WHERE address_1.email_address = :email_address_1 AND address_2.email_address = :email_address_2\n"
     ]
    }
   ],
   "source": [
    "from sqlalchemy.orm import aliased\n",
    "\n",
    "address_alias_1 = aliased(Address)\n",
    "address_alias_2 = aliased(Address)\n",
    "\n",
    "print(\n",
    "    select(User)\n",
    "    .join(User.addresses.of_type(address_alias_1))\n",
    "    .where(address_alias_1.email_address==\"patrick@gmail.com\")\n",
    "    .join(User.addresses.of_type(address_alias_2))\n",
    "    .where(address_alias_2.email_address==\"patrick@aol.com\")\n",
    ")"
   ],
   "metadata": {
    "collapsed": false,
    "pycharm": {
     "name": "#%%\n"
    }
   }
  },
  {
   "cell_type": "code",
   "execution_count": 92,
   "outputs": [
    {
     "name": "stdout",
     "output_type": "stream",
     "text": [
      "2022-01-20 21:29:22,460 INFO sqlalchemy.engine.Engine SELECT user_account.fullname \n",
      "FROM user_account JOIN address ON user_account.id = address.user_id AND address.email_address = ?\n",
      "2022-01-20 21:29:22,461 INFO sqlalchemy.engine.Engine [generated in 0.00129s] ('pearl.krabs@gmail.com',)\n"
     ]
    },
    {
     "data": {
      "text/plain": "[('Pearl Krabs',)]"
     },
     "execution_count": 92,
     "metadata": {},
     "output_type": "execute_result"
    }
   ],
   "source": [
    "stmt = (\n",
    "    select(User.fullname)\n",
    "    .join(User.addresses.and_(Address.email_address == 'pearl.krabs@gmail.com'))\n",
    ")\n",
    "\n",
    "session.execute(stmt).all()"
   ],
   "metadata": {
    "collapsed": false,
    "pycharm": {
     "name": "#%%\n"
    }
   }
  },
  {
   "cell_type": "code",
   "execution_count": 93,
   "outputs": [
    {
     "name": "stdout",
     "output_type": "stream",
     "text": [
      "2022-01-20 21:30:53,082 INFO sqlalchemy.engine.Engine SELECT user_account.fullname \n",
      "FROM user_account \n",
      "WHERE EXISTS (SELECT 1 \n",
      "FROM address \n",
      "WHERE user_account.id = address.user_id AND address.email_address = ?)\n",
      "2022-01-20 21:30:53,084 INFO sqlalchemy.engine.Engine [generated in 0.00135s] ('pearl.krabs@gmail.com',)\n"
     ]
    },
    {
     "data": {
      "text/plain": "[('Pearl Krabs',)]"
     },
     "execution_count": 93,
     "metadata": {},
     "output_type": "execute_result"
    }
   ],
   "source": [
    "session.execute(\n",
    "    select(User.fullname)\n",
    "    .where(User.addresses.any(Address.email_address == 'pearl.krabs@gmail.com'))\n",
    ").all()"
   ],
   "metadata": {
    "collapsed": false,
    "pycharm": {
     "name": "#%%\n"
    }
   }
  },
  {
   "cell_type": "code",
   "execution_count": 94,
   "outputs": [
    {
     "name": "stdout",
     "output_type": "stream",
     "text": [
      "2022-01-20 21:31:49,106 INFO sqlalchemy.engine.Engine SELECT user_account.fullname \n",
      "FROM user_account \n",
      "WHERE NOT (EXISTS (SELECT 1 \n",
      "FROM address \n",
      "WHERE user_account.id = address.user_id))\n",
      "2022-01-20 21:31:49,108 INFO sqlalchemy.engine.Engine [cached since 2.713s ago] ()\n"
     ]
    },
    {
     "data": {
      "text/plain": "[('Squidward Tentacles',)]"
     },
     "execution_count": 94,
     "metadata": {},
     "output_type": "execute_result"
    }
   ],
   "source": [
    "session.execute(\n",
    "    select(User.fullname)\n",
    "    .where(~User.addresses.any())\n",
    ").all()"
   ],
   "metadata": {
    "collapsed": false,
    "pycharm": {
     "name": "#%%\n"
    }
   }
  },
  {
   "cell_type": "code",
   "execution_count": 95,
   "outputs": [
    {
     "name": "stdout",
     "output_type": "stream",
     "text": [
      "2022-01-20 21:33:41,144 INFO sqlalchemy.engine.Engine SELECT address.email_address \n",
      "FROM address \n",
      "WHERE EXISTS (SELECT 1 \n",
      "FROM user_account \n",
      "WHERE user_account.id = address.user_id AND user_account.name = ?)\n",
      "2022-01-20 21:33:41,145 INFO sqlalchemy.engine.Engine [cached since 1.424s ago] ('pkrabs',)\n"
     ]
    },
    {
     "data": {
      "text/plain": "[('pearl.krabs@gmail.com',), ('pearl@aol.com',)]"
     },
     "execution_count": 95,
     "metadata": {},
     "output_type": "execute_result"
    }
   ],
   "source": [
    "session.execute(\n",
    "    select(Address.email_address)\n",
    "    .where(Address.user.has(User.name=='pkrabs'))\n",
    ").all()"
   ],
   "metadata": {
    "collapsed": false,
    "pycharm": {
     "name": "#%%\n"
    }
   }
  },
  {
   "cell_type": "code",
   "execution_count": null,
   "outputs": [],
   "source": [],
   "metadata": {
    "collapsed": false,
    "pycharm": {
     "name": "#%%\n"
    }
   }
  }
 ],
 "metadata": {
  "kernelspec": {
   "display_name": "Python 3",
   "language": "python",
   "name": "python3"
  },
  "language_info": {
   "codemirror_mode": {
    "name": "ipython",
    "version": 2
   },
   "file_extension": ".py",
   "mimetype": "text/x-python",
   "name": "python",
   "nbconvert_exporter": "python",
   "pygments_lexer": "ipython2",
   "version": "2.7.6"
  }
 },
 "nbformat": 4,
 "nbformat_minor": 0
}