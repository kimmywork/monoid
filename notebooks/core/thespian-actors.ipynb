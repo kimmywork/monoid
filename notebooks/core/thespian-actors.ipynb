{
 "cells": [
  {
   "cell_type": "code",
   "execution_count": 1,
   "metadata": {
    "collapsed": true,
    "pycharm": {
     "name": "#%%\n"
    }
   },
   "outputs": [],
   "source": [
    "from thespian.actors import *\n",
    "\n",
    "class Hello(Actor):\n",
    "    def receiveMessage(self, msg, sender):\n",
    "        self.send(sender, 'Hello world!')\n",
    "\n",
    "asys = ActorSystem()\n",
    "\n",
    "hello = asys.createActor(Hello)"
   ]
  },
  {
   "cell_type": "code",
   "execution_count": 2,
   "outputs": [
    {
     "data": {
      "text/plain": "'Hello world!'"
     },
     "execution_count": 2,
     "metadata": {},
     "output_type": "execute_result"
    }
   ],
   "source": [
    "ActorSystem().ask(hello, 'hi', 1)"
   ],
   "metadata": {
    "collapsed": false,
    "pycharm": {
     "name": "#%%\n"
    }
   }
  },
  {
   "cell_type": "code",
   "execution_count": 3,
   "outputs": [],
   "source": [
    "ActorSystem().tell(hello, ActorExitRequest())"
   ],
   "metadata": {
    "collapsed": false,
    "pycharm": {
     "name": "#%%\n"
    }
   }
  },
  {
   "cell_type": "code",
   "execution_count": 4,
   "outputs": [
    {
     "data": {
      "text/plain": "<thespian.actors.ActorAddress at 0x10bf16a60>"
     },
     "execution_count": 4,
     "metadata": {},
     "output_type": "execute_result"
    }
   ],
   "source": [
    "hello"
   ],
   "metadata": {
    "collapsed": false,
    "pycharm": {
     "name": "#%%\n"
    }
   }
  },
  {
   "cell_type": "code",
   "execution_count": 5,
   "outputs": [
    {
     "data": {
      "text/plain": "<thespian.actors.ActorAddress at 0x10bfd4490>"
     },
     "execution_count": 5,
     "metadata": {},
     "output_type": "execute_result"
    }
   ],
   "source": [
    "import sys\n",
    "\n",
    "class Greeting(object):\n",
    "\n",
    "    def __init__(self, msg):\n",
    "        self.message = msg\n",
    "\n",
    "    def __str__(self):\n",
    "        return self.message\n",
    "\n",
    "class World(Actor):\n",
    "\n",
    "    def receiveMessage(self, msg, sender):\n",
    "        if isinstance(msg, Greeting):\n",
    "            msg.message = msg.message + \", World\"\n",
    "            nextTo = msg.sendTo.pop(0)\n",
    "            self.send(nextTo, msg)\n",
    "\n",
    "\n",
    "class Punctuate(Actor):\n",
    "\n",
    "    def receiveMessage(self, msg, sender):\n",
    "        if isinstance(msg, Greeting):\n",
    "            msg.message = msg.message + \"!\"\n",
    "            nextTo = msg.sendTo.pop(0)\n",
    "            self.send(nextTo, msg)\n",
    "\n",
    "\n",
    "class Hello2(Actor):\n",
    "    def receiveMessage(self, msg, sender):\n",
    "        if msg == 'hi':\n",
    "            greeting = Greeting('Hello')\n",
    "            world = self.createActor(World)\n",
    "            punct = self.createActor(Punctuate)\n",
    "            greeting.sendTo = [punct, sender]\n",
    "            self.send(world, greeting)\n",
    "\n",
    "hello = ActorSystem().createActor(Hello2)\n",
    "\n",
    "hello"
   ],
   "metadata": {
    "collapsed": false,
    "pycharm": {
     "name": "#%%\n"
    }
   }
  },
  {
   "cell_type": "code",
   "execution_count": 6,
   "outputs": [
    {
     "data": {
      "text/plain": "'Hello world!'"
     },
     "execution_count": 6,
     "metadata": {},
     "output_type": "execute_result"
    }
   ],
   "source": [
    "ActorSystem().ask(hello, 'hi', 0.2)"
   ],
   "metadata": {
    "collapsed": false,
    "pycharm": {
     "name": "#%%\n"
    }
   }
  },
  {
   "cell_type": "code",
   "execution_count": 7,
   "outputs": [],
   "source": [
    "ActorSystem().tell(hello, ActorExitRequest())"
   ],
   "metadata": {
    "collapsed": false,
    "pycharm": {
     "name": "#%%\n"
    }
   }
  },
  {
   "cell_type": "code",
   "execution_count": 8,
   "outputs": [
    {
     "data": {
      "text/plain": "<__main__.Greeting at 0x10bfd5850>"
     },
     "execution_count": 8,
     "metadata": {},
     "output_type": "execute_result"
    }
   ],
   "source": [
    "ActorSystem().ask(hello, 'hi', 0.2)"
   ],
   "metadata": {
    "collapsed": false,
    "pycharm": {
     "name": "#%%\n"
    }
   }
  },
  {
   "cell_type": "code",
   "execution_count": 9,
   "outputs": [],
   "source": [
    "hello = ActorSystem().createActor(Hello2)"
   ],
   "metadata": {
    "collapsed": false,
    "pycharm": {
     "name": "#%%\n"
    }
   }
  },
  {
   "cell_type": "code",
   "execution_count": 10,
   "outputs": [
    {
     "data": {
      "text/plain": "<__main__.Greeting at 0x10bfd4850>"
     },
     "execution_count": 10,
     "metadata": {},
     "output_type": "execute_result"
    }
   ],
   "source": [
    "ActorSystem().ask(hello, 'hi', 0.2)"
   ],
   "metadata": {
    "collapsed": false,
    "pycharm": {
     "name": "#%%\n"
    }
   }
  },
  {
   "cell_type": "code",
   "execution_count": 11,
   "outputs": [
    {
     "data": {
      "text/plain": "<__main__.Greeting at 0x10bfd2880>"
     },
     "execution_count": 11,
     "metadata": {},
     "output_type": "execute_result"
    }
   ],
   "source": [
    "ActorSystem().ask(hello, 'hi', 0.2)"
   ],
   "metadata": {
    "collapsed": false,
    "pycharm": {
     "name": "#%%\n"
    }
   }
  },
  {
   "cell_type": "code",
   "execution_count": 12,
   "outputs": [
    {
     "data": {
      "text/plain": "'Hello, World!'"
     },
     "execution_count": 12,
     "metadata": {},
     "output_type": "execute_result"
    }
   ],
   "source": [
    "ActorSystem().ask(hello, 'hi', 0.2).message"
   ],
   "metadata": {
    "collapsed": false,
    "pycharm": {
     "name": "#%%\n"
    }
   }
  },
  {
   "cell_type": "code",
   "execution_count": 13,
   "outputs": [
    {
     "data": {
      "text/plain": "'Hello, World!'"
     },
     "execution_count": 13,
     "metadata": {},
     "output_type": "execute_result"
    }
   ],
   "source": [
    "ActorSystem().ask(hello, 'hi', 0.2).message"
   ],
   "metadata": {
    "collapsed": false,
    "pycharm": {
     "name": "#%%\n"
    }
   }
  },
  {
   "cell_type": "code",
   "execution_count": 14,
   "outputs": [],
   "source": [
    "import time\n",
    "def timeit(func):\n",
    "    def _timer(*args, **kw):\n",
    "        start = time.time()\n",
    "        ret = func(*args, **kw)\n",
    "        end = time.time()\n",
    "        print('%s(%s, %s) -- %2.2f sec' % (func.__name__, args, kw, end-start))\n",
    "        return ret\n",
    "    return _timer\n",
    "\n",
    "from thespian.troupe import troupe\n",
    "from datetime import timedelta\n",
    "\n",
    "max_wait = timedelta(seconds=60)\n",
    "\n",
    "\n",
    "def fib(n):\n",
    "    if n <= 2:\n",
    "        return 1\n",
    "    else:\n",
    "        return fib(n-1) + fib(n-2)\n",
    "\n",
    "\n",
    "class Fibonacci(ActorTypeDispatcher):\n",
    "    def receiveMsg_int(self, intval, sender):\n",
    "        self.send(sender, fib(intval))\n",
    "\n",
    "\n",
    "@troupe(10)\n",
    "class FibonacciT(ActorTypeDispatcher):\n",
    "    def receiveMsg_int(self, intval, sender):\n",
    "        self.send(sender, fib(intval))\n",
    "\n",
    "def serial_test(asys, fibber, inputs):\n",
    "    for N in inputs:\n",
    "        print(asys.ask(fibber, N, max_wait))\n",
    "    asys.tell(fibber, ActorExitRequest())\n",
    "\n",
    "def parallel_test(asys, fibber, inputs):\n",
    "    for N in inputs:\n",
    "        asys.tell(fibber, N)\n",
    "    for R in range(len(inputs)):\n",
    "        print(asys.listen(max_wait))\n",
    "    asys.tell(fibber, ActorExitRequest())\n",
    "\n",
    "\n",
    "@timeit\n",
    "def t1(asys, inputs):\n",
    "    serial_test(asys, asys.createActor(Fibonacci), inputs)\n",
    "\n",
    "@timeit\n",
    "def t2(asys, inputs):\n",
    "    parallel_test(asys, asys.createActor(Fibonacci), inputs)\n",
    "\n",
    "@timeit\n",
    "def t3(asys, inputs):\n",
    "    serial_test(asys, asys.createActor(FibonacciT), inputs)\n",
    "\n",
    "\n",
    "@timeit\n",
    "def t4(asys, inputs):\n",
    "    parallel_test(asys, asys.createActor(FibonacciT), inputs)\n",
    "\n",
    "asys = ActorSystem('multiprocQueueBase')\n",
    "inputs = (10, 20, 35, 15, 35, 34, 33, 36)"
   ],
   "metadata": {
    "collapsed": false,
    "pycharm": {
     "name": "#%%\n"
    }
   }
  },
  {
   "cell_type": "code",
   "execution_count": 15,
   "outputs": [
    {
     "name": "stdout",
     "output_type": "stream",
     "text": [
      "55\n",
      "6765\n",
      "9227465\n",
      "610\n",
      "9227465\n",
      "5702887\n",
      "3524578\n",
      "14930352\n",
      "t1((<thespian.actors.ActorSystem object at 0x10bfd3070>, (10, 20, 35, 15, 35, 34, 33, 36)), {}) -- 11.37 sec\n"
     ]
    }
   ],
   "source": [
    "t1(asys, inputs)"
   ],
   "metadata": {
    "collapsed": false,
    "pycharm": {
     "name": "#%%\n"
    }
   }
  },
  {
   "cell_type": "code",
   "execution_count": 16,
   "outputs": [
    {
     "name": "stdout",
     "output_type": "stream",
     "text": [
      "55\n",
      "6765\n",
      "9227465\n",
      "610\n",
      "9227465\n",
      "5702887\n",
      "3524578\n",
      "14930352\n",
      "t2((<thespian.actors.ActorSystem object at 0x10bfd3070>, (10, 20, 35, 15, 35, 34, 33, 36)), {}) -- 11.27 sec\n"
     ]
    }
   ],
   "source": [
    "t2(asys, inputs)"
   ],
   "metadata": {
    "collapsed": false,
    "pycharm": {
     "name": "#%%\n"
    }
   }
  },
  {
   "cell_type": "code",
   "execution_count": 17,
   "outputs": [
    {
     "name": "stdout",
     "output_type": "stream",
     "text": [
      "55\n",
      "6765\n",
      "9227465\n",
      "610\n",
      "9227465\n",
      "5702887\n",
      "3524578\n",
      "14930352\n",
      "t3((<thespian.actors.ActorSystem object at 0x10bfd3070>, (10, 20, 35, 15, 35, 34, 33, 36)), {}) -- 10.60 sec\n"
     ]
    }
   ],
   "source": [
    "t3(asys, inputs)"
   ],
   "metadata": {
    "collapsed": false,
    "pycharm": {
     "name": "#%%\n"
    }
   }
  },
  {
   "cell_type": "code",
   "execution_count": 18,
   "outputs": [
    {
     "name": "stdout",
     "output_type": "stream",
     "text": [
      "55\n",
      "6765\n",
      "610\n",
      "3524578\n",
      "5702887\n",
      "9227465\n",
      "9227465\n",
      "14930352\n",
      "t4((<thespian.actors.ActorSystem object at 0x10bfd3070>, (10, 20, 35, 15, 35, 34, 33, 36)), {}) -- 3.60 sec\n"
     ]
    }
   ],
   "source": [
    "t4(asys, inputs)"
   ],
   "metadata": {
    "collapsed": false,
    "pycharm": {
     "name": "#%%\n"
    }
   }
  },
  {
   "cell_type": "code",
   "execution_count": 19,
   "outputs": [],
   "source": [
    "asys.shutdown()"
   ],
   "metadata": {
    "collapsed": false,
    "pycharm": {
     "name": "#%%\n"
    }
   }
  }
 ],
 "metadata": {
  "kernelspec": {
   "display_name": "Python 3",
   "language": "python",
   "name": "python3"
  },
  "language_info": {
   "codemirror_mode": {
    "name": "ipython",
    "version": 2
   },
   "file_extension": ".py",
   "mimetype": "text/x-python",
   "name": "python",
   "nbconvert_exporter": "python",
   "pygments_lexer": "ipython2",
   "version": "2.7.6"
  }
 },
 "nbformat": 4,
 "nbformat_minor": 0
}