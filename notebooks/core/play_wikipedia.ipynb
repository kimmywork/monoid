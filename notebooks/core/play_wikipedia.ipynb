{
 "cells": [
  {
   "cell_type": "code",
   "execution_count": 2,
   "outputs": [],
   "source": [
    "import pywikibot\n",
    "\n",
    "from pywikibot import textlib\n",
    "\n",
    "site = pywikibot.Site(\"en\", \"wikipedia\")\n",
    "repo = site.data_repository()\n",
    "page = pywikibot.Page(site, 'Dark Souls')\n",
    "\n",
    "sect = textlib.extract_sections(page.text, site)"
   ],
   "metadata": {
    "collapsed": false,
    "pycharm": {
     "name": "#%%\n"
    }
   }
  },
  {
   "cell_type": "code",
   "execution_count": 3,
   "outputs": [
    {
     "data": {
      "text/plain": "WikiText(\"{{short description|2011 video game}}\\n{{About||the 2011 Norwegian film|Dark Souls (film)|the 2007 video game|Bleach: Dark Souls}}\\n{{Use British English Oxford spelling|date=June 2018}}\\n{{Use mdy dates|date=March 2020}}\\n{{Infobox video game\\n| title = Dark Souls\\n| image = Dark Souls Cover Art.jpg\\n| caption = Cover art used in Western regions\\n| developer = [[FromSoftware]]{{efn|''Dark Souls Remastered'' developed by QLOC on [[Microsoft Windows]], [[PlayStation 4]] and [[Xbox One]], and [[Virtuous]] on [[Nintendo Switch]].}}\\n| publisher = [[Namco Bandai Games]]{{vgrelease|JP|FromSoftware}}\\n| director  = [[Hidetaka Miyazaki]]\\n| producer = {{ubl|Hidetaka Miyazaki|Daisuke Uchiyama|Kei Hirono}}\\n| designer =\\n| programmer = Jun Ito\\n| artist = Makoto Sato\\n| writer = Hidetaka Miyazaki\\n| composer = [[Motoi Sakuraba]]\\n| series = ''[[Souls (series)|Souls]]''\\n| engine = \\n| platforms = {{ubl|[[PlayStation 3]]|[[Xbox 360]]|[[Microsoft Windows]]|[[PlayStation 4]]|[[Xbox One]]|[[Nintendo Switch]]}} \\n| released = {{collapsible list|title={{nobold|September 22, 2011}}|\\n'''PlayStation 3''', '''Xbox 360'''{{vgrelease|JP|September 22, 2011{{efn|For the PlayStation 3 only}}|NA|October 4, 2011|AU|October 6, 2011|EU|October 7, 2011}}'''Windows'''{{vgrelease|AU|August 23, 2012|NA|August 24, 2012|EU|August 24, 2012|JP|October 25, 2012}}'''PlayStation 4''', '''Xbox One'''{{vgrelease|JP|May 24, 2018|WW|May 25, 2018}}'''Nintendo Switch''' {{vgrelease|WW|October 19, 2018}}}}\\n| genre = [[Action role-playing]]\\n| modes = [[Single-player]], [[multiplayer]]\\n}}\\n\\n{{nihongo foot|'''''Dark Souls'''''|ダークソウル|Dāku Sōru|group=lower-alpha|lead=yes}} is a 2011 [[action role-playing game]] developed by [[FromSoftware]] and published by [[Namco Bandai Games]]. A [[spiritual successor]] to FromSoftware's ''[[Demon's Souls]]'', the game is the second installment in the ''[[Souls (series)|Souls]]'' series. ''Dark Souls'' takes place in the kingdom of Lordran, where players assume the role of a cursed undead character who begins a [[pilgrimage]] to discover the fate of their kind. A port for [[Microsoft Windows]] was released in August 2012, which featured additional content not seen in the original [[PlayStation 3]] and [[Xbox 360]] versions. In October 2012, the new content was released for consoles under the subtitle ''[[Artorias of the Abyss]]''.\\n\\n''Dark Souls'' has been cited as amongst the [[greatest video games of all time]]. Critics praised the depth of its combat, intricate [[level design]], and use of [[flavor text]]. However, the game's difficulty received mixed reviews, with some criticizing it for being too unforgiving. The original Windows version of the game was less well-received, with criticism directed at several technical issues. By April 2013, the game had sold over two million copies worldwide. Two sequels were released in the mid-2010s, while a remastered version was released in 2018.\\n\\n\")"
     },
     "execution_count": 3,
     "metadata": {},
     "output_type": "execute_result"
    }
   ],
   "source": [
    "import wikitextparser as wtp\n",
    "\n",
    "wtp.parse(sect.header)"
   ],
   "metadata": {
    "collapsed": false,
    "pycharm": {
     "name": "#%%\n"
    }
   }
  },
  {
   "cell_type": "code",
   "execution_count": 4,
   "outputs": [],
   "source": [
    "header = wtp.parse(sect.header)"
   ],
   "metadata": {
    "collapsed": false,
    "pycharm": {
     "name": "#%%\n"
    }
   }
  },
  {
   "cell_type": "code",
   "execution_count": 5,
   "outputs": [
    {
     "data": {
      "text/plain": "[Template('{{short description|2011 video game}}'),\n Template('{{About||the 2011 Norwegian film|Dark Souls (film)|the 2007 video game|Bleach: Dark Souls}}'),\n Template('{{Use British English Oxford spelling|date=June 2018}}'),\n Template('{{Use mdy dates|date=March 2020}}'),\n Template(\"{{Infobox video game\\n| title = Dark Souls\\n| image = Dark Souls Cover Art.jpg\\n| caption = Cover art used in Western regions\\n| developer = [[FromSoftware]]{{efn|''Dark Souls Remastered'' developed by QLOC on [[Microsoft Windows]], [[PlayStation 4]] and [[Xbox One]], and [[Virtuous]] on [[Nintendo Switch]].}}\\n| publisher = [[Namco Bandai Games]]{{vgrelease|JP|FromSoftware}}\\n| director  = [[Hidetaka Miyazaki]]\\n| producer = {{ubl|Hidetaka Miyazaki|Daisuke Uchiyama|Kei Hirono}}\\n| designer =\\n| programmer = Jun Ito\\n| artist = Makoto Sato\\n| writer = Hidetaka Miyazaki\\n| composer = [[Motoi Sakuraba]]\\n| series = ''[[Souls (series)|Souls]]''\\n| engine = \\n| platforms = {{ubl|[[PlayStation 3]]|[[Xbox 360]]|[[Microsoft Windows]]|[[PlayStation 4]]|[[Xbox One]]|[[Nintendo Switch]]}} \\n| released = {{collapsible list|title={{nobold|September 22, 2011}}|\\n'''PlayStation 3''', '''Xbox 360'''{{vgrelease|JP|September 22, 2011{{efn|For the PlayStation 3 only}}|NA|October 4, 2011|AU|October 6, 2011|EU|October 7, 2011}}'''Windows'''{{vgrelease|AU|August 23, 2012|NA|August 24, 2012|EU|August 24, 2012|JP|October 25, 2012}}'''PlayStation 4''', '''Xbox One'''{{vgrelease|JP|May 24, 2018|WW|May 25, 2018}}'''Nintendo Switch''' {{vgrelease|WW|October 19, 2018}}}}\\n| genre = [[Action role-playing]]\\n| modes = [[Single-player]], [[multiplayer]]\\n}}\"),\n Template(\"{{efn|''Dark Souls Remastered'' developed by QLOC on [[Microsoft Windows]], [[PlayStation 4]] and [[Xbox One]], and [[Virtuous]] on [[Nintendo Switch]].}}\"),\n Template('{{vgrelease|JP|FromSoftware}}'),\n Template('{{ubl|Hidetaka Miyazaki|Daisuke Uchiyama|Kei Hirono}}'),\n Template('{{ubl|[[PlayStation 3]]|[[Xbox 360]]|[[Microsoft Windows]]|[[PlayStation 4]]|[[Xbox One]]|[[Nintendo Switch]]}}'),\n Template(\"{{collapsible list|title={{nobold|September 22, 2011}}|\\n'''PlayStation 3''', '''Xbox 360'''{{vgrelease|JP|September 22, 2011{{efn|For the PlayStation 3 only}}|NA|October 4, 2011|AU|October 6, 2011|EU|October 7, 2011}}'''Windows'''{{vgrelease|AU|August 23, 2012|NA|August 24, 2012|EU|August 24, 2012|JP|October 25, 2012}}'''PlayStation 4''', '''Xbox One'''{{vgrelease|JP|May 24, 2018|WW|May 25, 2018}}'''Nintendo Switch''' {{vgrelease|WW|October 19, 2018}}}}\"),\n Template('{{nobold|September 22, 2011}}'),\n Template('{{vgrelease|JP|September 22, 2011{{efn|For the PlayStation 3 only}}|NA|October 4, 2011|AU|October 6, 2011|EU|October 7, 2011}}'),\n Template('{{efn|For the PlayStation 3 only}}'),\n Template('{{vgrelease|AU|August 23, 2012|NA|August 24, 2012|EU|August 24, 2012|JP|October 25, 2012}}'),\n Template('{{vgrelease|JP|May 24, 2018|WW|May 25, 2018}}'),\n Template('{{vgrelease|WW|October 19, 2018}}'),\n Template(\"{{nihongo foot|'''''Dark Souls'''''|ダークソウル|Dāku Sōru|group=lower-alpha|lead=yes}}\")]"
     },
     "execution_count": 5,
     "metadata": {},
     "output_type": "execute_result"
    }
   ],
   "source": [
    "header.templates"
   ],
   "metadata": {
    "collapsed": false,
    "pycharm": {
     "name": "#%%\n"
    }
   }
  },
  {
   "cell_type": "code",
   "execution_count": 6,
   "outputs": [],
   "source": [
    "infobox = header.templates[4]"
   ],
   "metadata": {
    "collapsed": false,
    "pycharm": {
     "name": "#%%\n"
    }
   }
  },
  {
   "cell_type": "code",
   "execution_count": 7,
   "outputs": [
    {
     "data": {
      "text/plain": "Template(\"{{Infobox video game\\n| title = Dark Souls\\n| image = Dark Souls Cover Art.jpg\\n| caption = Cover art used in Western regions\\n| developer = [[FromSoftware]]{{efn|''Dark Souls Remastered'' developed by QLOC on [[Microsoft Windows]], [[PlayStation 4]] and [[Xbox One]], and [[Virtuous]] on [[Nintendo Switch]].}}\\n| publisher = [[Namco Bandai Games]]{{vgrelease|JP|FromSoftware}}\\n| director  = [[Hidetaka Miyazaki]]\\n| producer = {{ubl|Hidetaka Miyazaki|Daisuke Uchiyama|Kei Hirono}}\\n| designer =\\n| programmer = Jun Ito\\n| artist = Makoto Sato\\n| writer = Hidetaka Miyazaki\\n| composer = [[Motoi Sakuraba]]\\n| series = ''[[Souls (series)|Souls]]''\\n| engine = \\n| platforms = {{ubl|[[PlayStation 3]]|[[Xbox 360]]|[[Microsoft Windows]]|[[PlayStation 4]]|[[Xbox One]]|[[Nintendo Switch]]}} \\n| released = {{collapsible list|title={{nobold|September 22, 2011}}|\\n'''PlayStation 3''', '''Xbox 360'''{{vgrelease|JP|September 22, 2011{{efn|For the PlayStation 3 only}}|NA|October 4, 2011|AU|October 6, 2011|EU|October 7, 2011}}'''Windows'''{{vgrelease|AU|August 23, 2012|NA|August 24, 2012|EU|August 24, 2012|JP|October 25, 2012}}'''PlayStation 4''', '''Xbox One'''{{vgrelease|JP|May 24, 2018|WW|May 25, 2018}}'''Nintendo Switch''' {{vgrelease|WW|October 19, 2018}}}}\\n| genre = [[Action role-playing]]\\n| modes = [[Single-player]], [[multiplayer]]\\n}}\")"
     },
     "execution_count": 7,
     "metadata": {},
     "output_type": "execute_result"
    }
   ],
   "source": [
    "infobox"
   ],
   "metadata": {
    "collapsed": false,
    "pycharm": {
     "name": "#%%\n"
    }
   }
  },
  {
   "cell_type": "code",
   "execution_count": 8,
   "outputs": [
    {
     "data": {
      "text/plain": "'Infobox video game\\n'"
     },
     "execution_count": 8,
     "metadata": {},
     "output_type": "execute_result"
    }
   ],
   "source": [
    "infobox.name"
   ],
   "metadata": {
    "collapsed": false,
    "pycharm": {
     "name": "#%%\n"
    }
   }
  },
  {
   "cell_type": "code",
   "execution_count": 9,
   "outputs": [
    {
     "data": {
      "text/plain": "Argument('| title = Dark Souls\\n')"
     },
     "execution_count": 9,
     "metadata": {},
     "output_type": "execute_result"
    }
   ],
   "source": [
    "infobox.get_arg(\"title\")"
   ],
   "metadata": {
    "collapsed": false,
    "pycharm": {
     "name": "#%%\n"
    }
   }
  },
  {
   "cell_type": "code",
   "execution_count": 10,
   "outputs": [
    {
     "data": {
      "text/plain": "' Dark Souls\\n'"
     },
     "execution_count": 10,
     "metadata": {},
     "output_type": "execute_result"
    }
   ],
   "source": [
    "title = infobox.get_arg('title')\n",
    "\n",
    "title.value"
   ],
   "metadata": {
    "collapsed": false,
    "pycharm": {
     "name": "#%%\n"
    }
   }
  },
  {
   "cell_type": "code",
   "execution_count": 11,
   "outputs": [
    {
     "data": {
      "text/plain": "' {{ubl|[[PlayStation 3]]|[[Xbox 360]]|[[Microsoft Windows]]|[[PlayStation 4]]|[[Xbox One]]|[[Nintendo Switch]]}} \\n'"
     },
     "execution_count": 11,
     "metadata": {},
     "output_type": "execute_result"
    }
   ],
   "source": [
    "platforms = infobox.get_arg('platforms')\n",
    "\n",
    "platforms.value"
   ],
   "metadata": {
    "collapsed": false,
    "pycharm": {
     "name": "#%%\n"
    }
   }
  },
  {
   "cell_type": "code",
   "execution_count": 12,
   "outputs": [
    {
     "data": {
      "text/plain": "[Template('{{ubl|[[PlayStation 3]]|[[Xbox 360]]|[[Microsoft Windows]]|[[PlayStation 4]]|[[Xbox One]]|[[Nintendo Switch]]}}')]"
     },
     "execution_count": 12,
     "metadata": {},
     "output_type": "execute_result"
    }
   ],
   "source": [
    "platforms.templates"
   ],
   "metadata": {
    "collapsed": false,
    "pycharm": {
     "name": "#%%\n"
    }
   }
  },
  {
   "cell_type": "code",
   "execution_count": 13,
   "outputs": [
    {
     "data": {
      "text/plain": "' platforms '"
     },
     "execution_count": 13,
     "metadata": {},
     "output_type": "execute_result"
    }
   ],
   "source": [
    "platforms.name"
   ],
   "metadata": {
    "collapsed": false,
    "pycharm": {
     "name": "#%%\n"
    }
   }
  },
  {
   "cell_type": "code",
   "execution_count": 14,
   "outputs": [
    {
     "data": {
      "text/plain": "[WikiLink('[[PlayStation 3]]'),\n WikiLink('[[Xbox 360]]'),\n WikiLink('[[Microsoft Windows]]'),\n WikiLink('[[PlayStation 4]]'),\n WikiLink('[[Xbox One]]'),\n WikiLink('[[Nintendo Switch]]')]"
     },
     "execution_count": 14,
     "metadata": {},
     "output_type": "execute_result"
    }
   ],
   "source": [
    "platforms.wikilinks"
   ],
   "metadata": {
    "collapsed": false,
    "pycharm": {
     "name": "#%%\n"
    }
   }
  },
  {
   "cell_type": "code",
   "execution_count": 14,
   "outputs": [],
   "source": [],
   "metadata": {
    "collapsed": false,
    "pycharm": {
     "name": "#%%\n"
    }
   }
  }
 ],
 "metadata": {
  "kernelspec": {
   "display_name": "Python 3",
   "language": "python",
   "name": "python3"
  },
  "language_info": {
   "codemirror_mode": {
    "name": "ipython",
    "version": 2
   },
   "file_extension": ".py",
   "mimetype": "text/x-python",
   "name": "python",
   "nbconvert_exporter": "python",
   "pygments_lexer": "ipython2",
   "version": "2.7.6"
  }
 },
 "nbformat": 4,
 "nbformat_minor": 0
}